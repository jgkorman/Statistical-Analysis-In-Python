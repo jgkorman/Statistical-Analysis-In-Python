{
  "nbformat": 4,
  "nbformat_minor": 0,
  "metadata": {
    "colab": {
      "name": "Assignment_1_MLE2_Korman_JamesG_ICPSR_2022.ipynb",
      "provenance": [],
      "mount_file_id": "1Aez5azzstkxf1F4Jgzlz0MkpS4RrkEHQ",
      "authorship_tag": "ABX9TyO1McQY3/83JL9ecqNKzZBV",
      "include_colab_link": true
    },
    "kernelspec": {
      "name": "python3",
      "display_name": "Python 3"
    },
    "language_info": {
      "name": "python"
    }
  },
  "cells": [
    {
      "cell_type": "markdown",
      "metadata": {
        "id": "view-in-github",
        "colab_type": "text"
      },
      "source": [
        "<a href=\"https://colab.research.google.com/github/jgkorman/Statistical-Analysis-In-Python/blob/main/Assignment_1_MLE2_Korman_JamesG_ICPSR_2022.ipynb\" target=\"_parent\"><img src=\"https://colab.research.google.com/assets/colab-badge.svg\" alt=\"Open In Colab\"/></a>"
      ]
    },
    {
      "cell_type": "markdown",
      "source": [
        "# **Assignment Notes**\n",
        "\n",
        "\n",
        "\n",
        "*   For this assignment, you will utilize the Garrett data available on the Canvas site. The Garrett data are employed in his book, Partisan Politics in the Global Economy (Cambridge University Press, 1998). With the exception of country, the variables are largely self-explanatory. The country variable includes identifiers for 14 OECD countries. The country codes are: 2 = US, 20 = Canada, 200 = UK, 210 = Netherlands, 211 = Belgium, 220 = France, 260 = Germany, 305 = Austria, 325 = Italy, 375 = Finland, 380 = Sweden, 385 = Norway, 390 = Denmark, 740 = Japan. The data cover the years from 1966-1990. N = 14, T = 25, NT = 350.\n",
        "\n",
        "*   For this assignment, we will examine whether power of labor parties (leftlab) influence economic growth, controlling for other economic factors. For this assignment, treat the data as repeated observations (time) nested within countries.\n",
        "\n",
        "* Instructions: Proceed serially through the questions below. Type your answers to the following questions and include any relevant output (code and results), either in the text or attached at the end. If you include the output in the text, you will find that the output is easier to organize if you use a monospaced typeface, like it appears in your Stata and/or R consoles. That is why you will find instructions throughout the assignment encouraging you to use 10pt courier font. If you attach the output to the end, reference the relevant output. Be sure to discuss results at each stage, including any relevant statistics.\n",
        "\n",
        "Questions:\n",
        "\n",
        "1. 1. In a few sentences, theorize the relationship between labor party power and economic growth.\n",
        "\n",
        "2. Estimate a random intercepts model with economic development (gdp) as the dependent variable, leftlab as the independent variable, and include three economic-based variables. Report the random effects component of the results in standard deviations. Interpret both the fixed and random effects results\n",
        "\n",
        "3. Using the model estimated in question #1, add a random effect to one of the independent variables of your choosing. Report the random effects component of the results in standard deviations. Interpret both the fixed and random effects results.\n",
        "\n",
        "\n",
        "4. Conduct a likelihood ratio test to determine whether the model warrants a random slope effect. For Stata users, you will use the lrtest command (make sure to store the estimates for the random intercept and random slope models). For R users, you will use the anova() function (make sure to specify the object name for the “restricted model” (random intercept) first, followed by the object name for the “unrestricted model” (random slope) second).\n",
        "\n",
        "5. Explain the importance for estimating a multilevel model for nested data. What are the issues one may encounter if utilizing a pooled model?\n",
        "\n",
        "\n",
        "\n"
      ],
      "metadata": {
        "id": "Pr6LbSrFOKDV"
      }
    },
    {
      "cell_type": "markdown",
      "source": [
        "# **Useful Links**\n",
        "\n",
        "https://www.pythonfordatascience.org/mixed-effects-regression-python/\n",
        "\n",
        "http://mfviz.com/hierarchical-models/\n",
        "\n",
        "https://www.statsmodels.org/stable/examples/notebooks/generated/mixed_lm_example.html"
      ],
      "metadata": {
        "id": "bPgl963BQ2Er"
      }
    },
    {
      "cell_type": "code",
      "metadata": {
        "id": "vdRHllYwSBiP",
        "colab": {
          "base_uri": "https://localhost:8080/"
        },
        "outputId": "7dfb8cea-2a9a-4583-9e41-100ad495506a"
      },
      "source": [
        "!pip install researchpy\n",
        "\n",
        "import pandas as pd\n",
        "import numpy as np\n",
        "import seaborn as sns\n",
        "import matplotlib.pyplot as plt \n",
        "\n",
        "import researchpy as rp\n",
        "import statsmodels.api as sm\n",
        "import scipy.stats as stats"
      ],
      "execution_count": 1,
      "outputs": [
        {
          "output_type": "stream",
          "name": "stdout",
          "text": [
            "Looking in indexes: https://pypi.org/simple, https://us-python.pkg.dev/colab-wheels/public/simple/\n",
            "Requirement already satisfied: researchpy in /usr/local/lib/python3.7/dist-packages (0.3.2)\n",
            "Requirement already satisfied: patsy in /usr/local/lib/python3.7/dist-packages (from researchpy) (0.5.2)\n",
            "Requirement already satisfied: statsmodels in /usr/local/lib/python3.7/dist-packages (from researchpy) (0.10.2)\n",
            "Requirement already satisfied: scipy in /usr/local/lib/python3.7/dist-packages (from researchpy) (1.7.3)\n",
            "Requirement already satisfied: pandas in /usr/local/lib/python3.7/dist-packages (from researchpy) (1.3.5)\n",
            "Requirement already satisfied: numpy in /usr/local/lib/python3.7/dist-packages (from researchpy) (1.21.6)\n",
            "Requirement already satisfied: python-dateutil>=2.7.3 in /usr/local/lib/python3.7/dist-packages (from pandas->researchpy) (2.8.2)\n",
            "Requirement already satisfied: pytz>=2017.3 in /usr/local/lib/python3.7/dist-packages (from pandas->researchpy) (2022.1)\n",
            "Requirement already satisfied: six>=1.5 in /usr/local/lib/python3.7/dist-packages (from python-dateutil>=2.7.3->pandas->researchpy) (1.15.0)\n"
          ]
        },
        {
          "output_type": "stream",
          "name": "stderr",
          "text": [
            "/usr/local/lib/python3.7/dist-packages/statsmodels/tools/_testing.py:19: FutureWarning: pandas.util.testing is deprecated. Use the functions in the public API at pandas.testing instead.\n",
            "  import pandas.util.testing as tm\n"
          ]
        }
      ]
    },
    {
      "cell_type": "markdown",
      "source": [
        "# **Question 1** \n",
        "\n",
        "* **Question**: In a few sentences, theorize the relationship between labor party power and economic growth.\n",
        "\n",
        "* **Answer**: left labor party power should have a negative effect on economic growth in the general sense as labor parties and parties of the left are much more union-oriented and choose to promote higher taxes and welfare. Such policies are not conducive for pure economic growth -- as growth is fostered via competitiveness -- and a given economy is competitive (especially internationall) if it has low taxes and favorable business regulations -- both components that parties of the left shun against relative to parties of the right that are historically more business oriented. "
      ],
      "metadata": {
        "id": "-3lqdVemPIbi"
      }
    },
    {
      "cell_type": "markdown",
      "source": [
        "# **Question 2 Random Intercepts Model**\n",
        "\n",
        "* **Question**: Estimate a random intercepts model with economic development (gdp) as the dependent variable, leftlab as the independent variable, and include three economic-based variables. Report the random effects component of the results in standard deviations. Interpret both the fixed and random effects results"
      ],
      "metadata": {
        "id": "vWprQ9qBP-cr"
      }
    },
    {
      "cell_type": "code",
      "source": [
        "dtafile = \"/content/drive/MyDrive/Delaware/ICPSR_2022/MLE 2/Assignments/Assignment 1/GarrettData.dta\"\n",
        "df = pd.read_stata(dtafile)\n",
        "df"
      ],
      "metadata": {
        "colab": {
          "base_uri": "https://localhost:8080/",
          "height": 661
        },
        "id": "KmZgoXv5DSg6",
        "outputId": "fdafcce2-81a2-4653-f6f7-dbd53a2736d4"
      },
      "execution_count": 2,
      "outputs": [
        {
          "output_type": "execute_result",
          "data": {
            "text/plain": [
              "     country       year      unem  infl       gdp     uneml    infll  \\\n",
              "0        2.0 1966-01-01  3.800000   2.9  5.111141  4.500000  1.99005   \n",
              "1        2.0 1967-01-01  3.800000   2.8  2.277283  3.800000  2.90000   \n",
              "2        2.0 1968-01-01  3.600000   4.2  4.700000  3.800000  2.80000   \n",
              "3        2.0 1969-01-01  3.500000   5.4  2.800000  3.600000  4.20000   \n",
              "4        2.0 1970-01-01  4.900000   5.9 -0.200000  3.500000  5.40000   \n",
              "..       ...        ...       ...   ...       ...       ...      ...   \n",
              "345    740.0 1986-01-01  2.800000   0.4  2.500000  2.600000  2.00000   \n",
              "346    740.0 1987-01-01  2.900000  -0.2  4.400000  2.800000  0.40000   \n",
              "347    740.0 1988-01-01  2.500000   0.5  5.700000  2.900000 -0.20000   \n",
              "348    740.0 1989-01-01  2.264753   2.3  4.700000  2.500000  0.50000   \n",
              "349    740.0 1990-01-01  2.098998   3.1  5.200000  2.264753  2.30000   \n",
              "\n",
              "         gdpl      trade  capmob  ...  Icc_13  Icc_14  per6673  per7479  \\\n",
              "0    5.934182   9.622906     0.0  ...       0       0      1.0      0.0   \n",
              "1    5.111141   9.983546     0.0  ...       0       0      1.0      0.0   \n",
              "2    2.277283  10.089120     0.0  ...       0       0      1.0      0.0   \n",
              "3    4.700000  10.435930     0.0  ...       0       0      1.0      0.0   \n",
              "4    2.800000  10.495350     0.0  ...       0       0      1.0      0.0   \n",
              "..        ...        ...     ...  ...     ...     ...      ...      ...   \n",
              "345  4.700000  29.161591     0.0  ...       0       1      0.0      0.0   \n",
              "346  2.500000  21.909870     0.0  ...       0       1      0.0      0.0   \n",
              "347  4.400000  21.712351     0.0  ...       0       1      0.0      0.0   \n",
              "348  5.700000  23.128798     0.0  ...       0       1      0.0      0.0   \n",
              "349  4.700000  20.000303     0.0  ...       0       1      0.0      0.0   \n",
              "\n",
              "     per8084  per8690      corp   leftlab     clint     demand  \n",
              "0        0.0      0.0  1.798529  1.376415  2.475521  51.963692  \n",
              "1        0.0      0.0  1.807786  1.176678  2.127182  36.939121  \n",
              "2        0.0      0.0  1.818176  1.176678  2.139408  57.507980  \n",
              "3        0.0      0.0  1.828545  0.433172  0.792074  55.310432  \n",
              "4        0.0      0.0  1.833971  0.433172  0.794424  35.684189  \n",
              "..       ...      ...       ...       ...       ...        ...  \n",
              "345      0.0      1.0  1.942272  0.729007  1.415931  87.484772  \n",
              "346      0.0      1.0  1.937110  0.729007  1.412168  74.493561  \n",
              "347      0.0      1.0  1.986012  0.729007  1.447818  97.705582  \n",
              "348      0.0      1.0  1.979984  0.729007  1.443423  76.325027  \n",
              "349      0.0      1.0  2.640314  0.864677  2.283019  48.000729  \n",
              "\n",
              "[350 rows x 32 columns]"
            ],
            "text/html": [
              "\n",
              "  <div id=\"df-0e13a4da-9f43-4264-990d-728a6fc59456\">\n",
              "    <div class=\"colab-df-container\">\n",
              "      <div>\n",
              "<style scoped>\n",
              "    .dataframe tbody tr th:only-of-type {\n",
              "        vertical-align: middle;\n",
              "    }\n",
              "\n",
              "    .dataframe tbody tr th {\n",
              "        vertical-align: top;\n",
              "    }\n",
              "\n",
              "    .dataframe thead th {\n",
              "        text-align: right;\n",
              "    }\n",
              "</style>\n",
              "<table border=\"1\" class=\"dataframe\">\n",
              "  <thead>\n",
              "    <tr style=\"text-align: right;\">\n",
              "      <th></th>\n",
              "      <th>country</th>\n",
              "      <th>year</th>\n",
              "      <th>unem</th>\n",
              "      <th>infl</th>\n",
              "      <th>gdp</th>\n",
              "      <th>uneml</th>\n",
              "      <th>infll</th>\n",
              "      <th>gdpl</th>\n",
              "      <th>trade</th>\n",
              "      <th>capmob</th>\n",
              "      <th>...</th>\n",
              "      <th>Icc_13</th>\n",
              "      <th>Icc_14</th>\n",
              "      <th>per6673</th>\n",
              "      <th>per7479</th>\n",
              "      <th>per8084</th>\n",
              "      <th>per8690</th>\n",
              "      <th>corp</th>\n",
              "      <th>leftlab</th>\n",
              "      <th>clint</th>\n",
              "      <th>demand</th>\n",
              "    </tr>\n",
              "  </thead>\n",
              "  <tbody>\n",
              "    <tr>\n",
              "      <th>0</th>\n",
              "      <td>2.0</td>\n",
              "      <td>1966-01-01</td>\n",
              "      <td>3.800000</td>\n",
              "      <td>2.9</td>\n",
              "      <td>5.111141</td>\n",
              "      <td>4.500000</td>\n",
              "      <td>1.99005</td>\n",
              "      <td>5.934182</td>\n",
              "      <td>9.622906</td>\n",
              "      <td>0.0</td>\n",
              "      <td>...</td>\n",
              "      <td>0</td>\n",
              "      <td>0</td>\n",
              "      <td>1.0</td>\n",
              "      <td>0.0</td>\n",
              "      <td>0.0</td>\n",
              "      <td>0.0</td>\n",
              "      <td>1.798529</td>\n",
              "      <td>1.376415</td>\n",
              "      <td>2.475521</td>\n",
              "      <td>51.963692</td>\n",
              "    </tr>\n",
              "    <tr>\n",
              "      <th>1</th>\n",
              "      <td>2.0</td>\n",
              "      <td>1967-01-01</td>\n",
              "      <td>3.800000</td>\n",
              "      <td>2.8</td>\n",
              "      <td>2.277283</td>\n",
              "      <td>3.800000</td>\n",
              "      <td>2.90000</td>\n",
              "      <td>5.111141</td>\n",
              "      <td>9.983546</td>\n",
              "      <td>0.0</td>\n",
              "      <td>...</td>\n",
              "      <td>0</td>\n",
              "      <td>0</td>\n",
              "      <td>1.0</td>\n",
              "      <td>0.0</td>\n",
              "      <td>0.0</td>\n",
              "      <td>0.0</td>\n",
              "      <td>1.807786</td>\n",
              "      <td>1.176678</td>\n",
              "      <td>2.127182</td>\n",
              "      <td>36.939121</td>\n",
              "    </tr>\n",
              "    <tr>\n",
              "      <th>2</th>\n",
              "      <td>2.0</td>\n",
              "      <td>1968-01-01</td>\n",
              "      <td>3.600000</td>\n",
              "      <td>4.2</td>\n",
              "      <td>4.700000</td>\n",
              "      <td>3.800000</td>\n",
              "      <td>2.80000</td>\n",
              "      <td>2.277283</td>\n",
              "      <td>10.089120</td>\n",
              "      <td>0.0</td>\n",
              "      <td>...</td>\n",
              "      <td>0</td>\n",
              "      <td>0</td>\n",
              "      <td>1.0</td>\n",
              "      <td>0.0</td>\n",
              "      <td>0.0</td>\n",
              "      <td>0.0</td>\n",
              "      <td>1.818176</td>\n",
              "      <td>1.176678</td>\n",
              "      <td>2.139408</td>\n",
              "      <td>57.507980</td>\n",
              "    </tr>\n",
              "    <tr>\n",
              "      <th>3</th>\n",
              "      <td>2.0</td>\n",
              "      <td>1969-01-01</td>\n",
              "      <td>3.500000</td>\n",
              "      <td>5.4</td>\n",
              "      <td>2.800000</td>\n",
              "      <td>3.600000</td>\n",
              "      <td>4.20000</td>\n",
              "      <td>4.700000</td>\n",
              "      <td>10.435930</td>\n",
              "      <td>0.0</td>\n",
              "      <td>...</td>\n",
              "      <td>0</td>\n",
              "      <td>0</td>\n",
              "      <td>1.0</td>\n",
              "      <td>0.0</td>\n",
              "      <td>0.0</td>\n",
              "      <td>0.0</td>\n",
              "      <td>1.828545</td>\n",
              "      <td>0.433172</td>\n",
              "      <td>0.792074</td>\n",
              "      <td>55.310432</td>\n",
              "    </tr>\n",
              "    <tr>\n",
              "      <th>4</th>\n",
              "      <td>2.0</td>\n",
              "      <td>1970-01-01</td>\n",
              "      <td>4.900000</td>\n",
              "      <td>5.9</td>\n",
              "      <td>-0.200000</td>\n",
              "      <td>3.500000</td>\n",
              "      <td>5.40000</td>\n",
              "      <td>2.800000</td>\n",
              "      <td>10.495350</td>\n",
              "      <td>0.0</td>\n",
              "      <td>...</td>\n",
              "      <td>0</td>\n",
              "      <td>0</td>\n",
              "      <td>1.0</td>\n",
              "      <td>0.0</td>\n",
              "      <td>0.0</td>\n",
              "      <td>0.0</td>\n",
              "      <td>1.833971</td>\n",
              "      <td>0.433172</td>\n",
              "      <td>0.794424</td>\n",
              "      <td>35.684189</td>\n",
              "    </tr>\n",
              "    <tr>\n",
              "      <th>...</th>\n",
              "      <td>...</td>\n",
              "      <td>...</td>\n",
              "      <td>...</td>\n",
              "      <td>...</td>\n",
              "      <td>...</td>\n",
              "      <td>...</td>\n",
              "      <td>...</td>\n",
              "      <td>...</td>\n",
              "      <td>...</td>\n",
              "      <td>...</td>\n",
              "      <td>...</td>\n",
              "      <td>...</td>\n",
              "      <td>...</td>\n",
              "      <td>...</td>\n",
              "      <td>...</td>\n",
              "      <td>...</td>\n",
              "      <td>...</td>\n",
              "      <td>...</td>\n",
              "      <td>...</td>\n",
              "      <td>...</td>\n",
              "      <td>...</td>\n",
              "    </tr>\n",
              "    <tr>\n",
              "      <th>345</th>\n",
              "      <td>740.0</td>\n",
              "      <td>1986-01-01</td>\n",
              "      <td>2.800000</td>\n",
              "      <td>0.4</td>\n",
              "      <td>2.500000</td>\n",
              "      <td>2.600000</td>\n",
              "      <td>2.00000</td>\n",
              "      <td>4.700000</td>\n",
              "      <td>29.161591</td>\n",
              "      <td>0.0</td>\n",
              "      <td>...</td>\n",
              "      <td>0</td>\n",
              "      <td>1</td>\n",
              "      <td>0.0</td>\n",
              "      <td>0.0</td>\n",
              "      <td>0.0</td>\n",
              "      <td>1.0</td>\n",
              "      <td>1.942272</td>\n",
              "      <td>0.729007</td>\n",
              "      <td>1.415931</td>\n",
              "      <td>87.484772</td>\n",
              "    </tr>\n",
              "    <tr>\n",
              "      <th>346</th>\n",
              "      <td>740.0</td>\n",
              "      <td>1987-01-01</td>\n",
              "      <td>2.900000</td>\n",
              "      <td>-0.2</td>\n",
              "      <td>4.400000</td>\n",
              "      <td>2.800000</td>\n",
              "      <td>0.40000</td>\n",
              "      <td>2.500000</td>\n",
              "      <td>21.909870</td>\n",
              "      <td>0.0</td>\n",
              "      <td>...</td>\n",
              "      <td>0</td>\n",
              "      <td>1</td>\n",
              "      <td>0.0</td>\n",
              "      <td>0.0</td>\n",
              "      <td>0.0</td>\n",
              "      <td>1.0</td>\n",
              "      <td>1.937110</td>\n",
              "      <td>0.729007</td>\n",
              "      <td>1.412168</td>\n",
              "      <td>74.493561</td>\n",
              "    </tr>\n",
              "    <tr>\n",
              "      <th>347</th>\n",
              "      <td>740.0</td>\n",
              "      <td>1988-01-01</td>\n",
              "      <td>2.500000</td>\n",
              "      <td>0.5</td>\n",
              "      <td>5.700000</td>\n",
              "      <td>2.900000</td>\n",
              "      <td>-0.20000</td>\n",
              "      <td>4.400000</td>\n",
              "      <td>21.712351</td>\n",
              "      <td>0.0</td>\n",
              "      <td>...</td>\n",
              "      <td>0</td>\n",
              "      <td>1</td>\n",
              "      <td>0.0</td>\n",
              "      <td>0.0</td>\n",
              "      <td>0.0</td>\n",
              "      <td>1.0</td>\n",
              "      <td>1.986012</td>\n",
              "      <td>0.729007</td>\n",
              "      <td>1.447818</td>\n",
              "      <td>97.705582</td>\n",
              "    </tr>\n",
              "    <tr>\n",
              "      <th>348</th>\n",
              "      <td>740.0</td>\n",
              "      <td>1989-01-01</td>\n",
              "      <td>2.264753</td>\n",
              "      <td>2.3</td>\n",
              "      <td>4.700000</td>\n",
              "      <td>2.500000</td>\n",
              "      <td>0.50000</td>\n",
              "      <td>5.700000</td>\n",
              "      <td>23.128798</td>\n",
              "      <td>0.0</td>\n",
              "      <td>...</td>\n",
              "      <td>0</td>\n",
              "      <td>1</td>\n",
              "      <td>0.0</td>\n",
              "      <td>0.0</td>\n",
              "      <td>0.0</td>\n",
              "      <td>1.0</td>\n",
              "      <td>1.979984</td>\n",
              "      <td>0.729007</td>\n",
              "      <td>1.443423</td>\n",
              "      <td>76.325027</td>\n",
              "    </tr>\n",
              "    <tr>\n",
              "      <th>349</th>\n",
              "      <td>740.0</td>\n",
              "      <td>1990-01-01</td>\n",
              "      <td>2.098998</td>\n",
              "      <td>3.1</td>\n",
              "      <td>5.200000</td>\n",
              "      <td>2.264753</td>\n",
              "      <td>2.30000</td>\n",
              "      <td>4.700000</td>\n",
              "      <td>20.000303</td>\n",
              "      <td>0.0</td>\n",
              "      <td>...</td>\n",
              "      <td>0</td>\n",
              "      <td>1</td>\n",
              "      <td>0.0</td>\n",
              "      <td>0.0</td>\n",
              "      <td>0.0</td>\n",
              "      <td>1.0</td>\n",
              "      <td>2.640314</td>\n",
              "      <td>0.864677</td>\n",
              "      <td>2.283019</td>\n",
              "      <td>48.000729</td>\n",
              "    </tr>\n",
              "  </tbody>\n",
              "</table>\n",
              "<p>350 rows × 32 columns</p>\n",
              "</div>\n",
              "      <button class=\"colab-df-convert\" onclick=\"convertToInteractive('df-0e13a4da-9f43-4264-990d-728a6fc59456')\"\n",
              "              title=\"Convert this dataframe to an interactive table.\"\n",
              "              style=\"display:none;\">\n",
              "        \n",
              "  <svg xmlns=\"http://www.w3.org/2000/svg\" height=\"24px\"viewBox=\"0 0 24 24\"\n",
              "       width=\"24px\">\n",
              "    <path d=\"M0 0h24v24H0V0z\" fill=\"none\"/>\n",
              "    <path d=\"M18.56 5.44l.94 2.06.94-2.06 2.06-.94-2.06-.94-.94-2.06-.94 2.06-2.06.94zm-11 1L8.5 8.5l.94-2.06 2.06-.94-2.06-.94L8.5 2.5l-.94 2.06-2.06.94zm10 10l.94 2.06.94-2.06 2.06-.94-2.06-.94-.94-2.06-.94 2.06-2.06.94z\"/><path d=\"M17.41 7.96l-1.37-1.37c-.4-.4-.92-.59-1.43-.59-.52 0-1.04.2-1.43.59L10.3 9.45l-7.72 7.72c-.78.78-.78 2.05 0 2.83L4 21.41c.39.39.9.59 1.41.59.51 0 1.02-.2 1.41-.59l7.78-7.78 2.81-2.81c.8-.78.8-2.07 0-2.86zM5.41 20L4 18.59l7.72-7.72 1.47 1.35L5.41 20z\"/>\n",
              "  </svg>\n",
              "      </button>\n",
              "      \n",
              "  <style>\n",
              "    .colab-df-container {\n",
              "      display:flex;\n",
              "      flex-wrap:wrap;\n",
              "      gap: 12px;\n",
              "    }\n",
              "\n",
              "    .colab-df-convert {\n",
              "      background-color: #E8F0FE;\n",
              "      border: none;\n",
              "      border-radius: 50%;\n",
              "      cursor: pointer;\n",
              "      display: none;\n",
              "      fill: #1967D2;\n",
              "      height: 32px;\n",
              "      padding: 0 0 0 0;\n",
              "      width: 32px;\n",
              "    }\n",
              "\n",
              "    .colab-df-convert:hover {\n",
              "      background-color: #E2EBFA;\n",
              "      box-shadow: 0px 1px 2px rgba(60, 64, 67, 0.3), 0px 1px 3px 1px rgba(60, 64, 67, 0.15);\n",
              "      fill: #174EA6;\n",
              "    }\n",
              "\n",
              "    [theme=dark] .colab-df-convert {\n",
              "      background-color: #3B4455;\n",
              "      fill: #D2E3FC;\n",
              "    }\n",
              "\n",
              "    [theme=dark] .colab-df-convert:hover {\n",
              "      background-color: #434B5C;\n",
              "      box-shadow: 0px 1px 3px 1px rgba(0, 0, 0, 0.15);\n",
              "      filter: drop-shadow(0px 1px 2px rgba(0, 0, 0, 0.3));\n",
              "      fill: #FFFFFF;\n",
              "    }\n",
              "  </style>\n",
              "\n",
              "      <script>\n",
              "        const buttonEl =\n",
              "          document.querySelector('#df-0e13a4da-9f43-4264-990d-728a6fc59456 button.colab-df-convert');\n",
              "        buttonEl.style.display =\n",
              "          google.colab.kernel.accessAllowed ? 'block' : 'none';\n",
              "\n",
              "        async function convertToInteractive(key) {\n",
              "          const element = document.querySelector('#df-0e13a4da-9f43-4264-990d-728a6fc59456');\n",
              "          const dataTable =\n",
              "            await google.colab.kernel.invokeFunction('convertToInteractive',\n",
              "                                                     [key], {});\n",
              "          if (!dataTable) return;\n",
              "\n",
              "          const docLinkHtml = 'Like what you see? Visit the ' +\n",
              "            '<a target=\"_blank\" href=https://colab.research.google.com/notebooks/data_table.ipynb>data table notebook</a>'\n",
              "            + ' to learn more about interactive tables.';\n",
              "          element.innerHTML = '';\n",
              "          dataTable['output_type'] = 'display_data';\n",
              "          await google.colab.output.renderOutput(dataTable, element);\n",
              "          const docLink = document.createElement('div');\n",
              "          docLink.innerHTML = docLinkHtml;\n",
              "          element.appendChild(docLink);\n",
              "        }\n",
              "      </script>\n",
              "    </div>\n",
              "  </div>\n",
              "  "
            ]
          },
          "metadata": {},
          "execution_count": 2
        }
      ]
    },
    {
      "cell_type": "code",
      "source": [
        "df.describe()"
      ],
      "metadata": {
        "colab": {
          "base_uri": "https://localhost:8080/",
          "height": 393
        },
        "id": "NBw_vnrhV6do",
        "outputId": "07b23e29-ad5b-4176-8418-6467df548a3e"
      },
      "execution_count": 3,
      "outputs": [
        {
          "output_type": "execute_result",
          "data": {
            "text/plain": [
              "          country        unem        infl         gdp       uneml       infll  \\\n",
              "count  350.000000  350.000000  350.000000  350.000000  350.000000  350.000000   \n",
              "mean   287.357147    4.993873    6.687714    3.254223    4.831613    6.682971   \n",
              "std    173.574265    3.240486    4.079510    2.432580    3.252729    4.062208   \n",
              "min      2.000000    0.684780   -0.700000   -4.300000    0.600000   -0.700000   \n",
              "25%    210.000000    2.099248    3.700000    1.877098    2.000000    3.800000   \n",
              "50%    282.500000    4.500000    5.900000    3.200000    3.900000    5.900000   \n",
              "75%    380.000000    7.300000    9.075000    4.700000    7.100000    8.900000   \n",
              "max    740.000000   13.000000   24.500000   12.800000   13.000000   24.500000   \n",
              "\n",
              "             gdpl       trade      capmob        oild  ...      Icc_13  \\\n",
              "count  350.000000  350.000000  350.000000  350.000000  ...  350.000000   \n",
              "mean     3.336108   57.076248    0.891429    0.015280  ...    0.071429   \n",
              "std      2.427306   26.914648    0.895507    0.027165  ...    0.257908   \n",
              "min     -4.300000    9.622906    0.000000   -0.117810  ...    0.000000   \n",
              "25%      2.000000   41.419391    0.000000    0.003662  ...    0.000000   \n",
              "50%      3.300000   52.624180    1.000000    0.013674  ...    0.000000   \n",
              "75%      4.794516   71.847086    1.000000    0.030052  ...    0.000000   \n",
              "max     12.800000  146.020203    4.000000    0.083460  ...    1.000000   \n",
              "\n",
              "           Icc_14     per6673     per7479     per8084     per8690        corp  \\\n",
              "count  350.000000  350.000000  350.000000  350.000000  350.000000  350.000000   \n",
              "mean     0.071429    0.320000    0.240000    0.200000    0.200000    3.015532   \n",
              "std      0.257908    0.467144    0.427695    0.400573    0.400573    1.033199   \n",
              "min      0.000000    0.000000    0.000000    0.000000    0.000000    0.414955   \n",
              "25%      0.000000    0.000000    0.000000    0.000000    0.000000    2.189081   \n",
              "50%      0.000000    0.000000    0.000000    0.000000    0.000000    3.230290   \n",
              "75%      0.000000    1.000000    0.000000    0.000000    0.000000    3.794158   \n",
              "max      1.000000    1.000000    1.000000    1.000000    1.000000    4.819816   \n",
              "\n",
              "          leftlab       clint      demand  \n",
              "count  350.000000  350.000000  350.000000  \n",
              "mean     2.027701    6.763461  187.422256  \n",
              "std      0.985260    4.571550  129.179260  \n",
              "min      0.050658    0.084999  -39.171421  \n",
              "25%      1.143009    2.542276   92.589357  \n",
              "50%      2.174839    6.396097  177.518349  \n",
              "75%      2.809576   10.014869  257.054947  \n",
              "max      3.570835   17.161753  644.791138  \n",
              "\n",
              "[8 rows x 31 columns]"
            ],
            "text/html": [
              "\n",
              "  <div id=\"df-d0de22e2-ddc0-4108-81e1-924846b14781\">\n",
              "    <div class=\"colab-df-container\">\n",
              "      <div>\n",
              "<style scoped>\n",
              "    .dataframe tbody tr th:only-of-type {\n",
              "        vertical-align: middle;\n",
              "    }\n",
              "\n",
              "    .dataframe tbody tr th {\n",
              "        vertical-align: top;\n",
              "    }\n",
              "\n",
              "    .dataframe thead th {\n",
              "        text-align: right;\n",
              "    }\n",
              "</style>\n",
              "<table border=\"1\" class=\"dataframe\">\n",
              "  <thead>\n",
              "    <tr style=\"text-align: right;\">\n",
              "      <th></th>\n",
              "      <th>country</th>\n",
              "      <th>unem</th>\n",
              "      <th>infl</th>\n",
              "      <th>gdp</th>\n",
              "      <th>uneml</th>\n",
              "      <th>infll</th>\n",
              "      <th>gdpl</th>\n",
              "      <th>trade</th>\n",
              "      <th>capmob</th>\n",
              "      <th>oild</th>\n",
              "      <th>...</th>\n",
              "      <th>Icc_13</th>\n",
              "      <th>Icc_14</th>\n",
              "      <th>per6673</th>\n",
              "      <th>per7479</th>\n",
              "      <th>per8084</th>\n",
              "      <th>per8690</th>\n",
              "      <th>corp</th>\n",
              "      <th>leftlab</th>\n",
              "      <th>clint</th>\n",
              "      <th>demand</th>\n",
              "    </tr>\n",
              "  </thead>\n",
              "  <tbody>\n",
              "    <tr>\n",
              "      <th>count</th>\n",
              "      <td>350.000000</td>\n",
              "      <td>350.000000</td>\n",
              "      <td>350.000000</td>\n",
              "      <td>350.000000</td>\n",
              "      <td>350.000000</td>\n",
              "      <td>350.000000</td>\n",
              "      <td>350.000000</td>\n",
              "      <td>350.000000</td>\n",
              "      <td>350.000000</td>\n",
              "      <td>350.000000</td>\n",
              "      <td>...</td>\n",
              "      <td>350.000000</td>\n",
              "      <td>350.000000</td>\n",
              "      <td>350.000000</td>\n",
              "      <td>350.000000</td>\n",
              "      <td>350.000000</td>\n",
              "      <td>350.000000</td>\n",
              "      <td>350.000000</td>\n",
              "      <td>350.000000</td>\n",
              "      <td>350.000000</td>\n",
              "      <td>350.000000</td>\n",
              "    </tr>\n",
              "    <tr>\n",
              "      <th>mean</th>\n",
              "      <td>287.357147</td>\n",
              "      <td>4.993873</td>\n",
              "      <td>6.687714</td>\n",
              "      <td>3.254223</td>\n",
              "      <td>4.831613</td>\n",
              "      <td>6.682971</td>\n",
              "      <td>3.336108</td>\n",
              "      <td>57.076248</td>\n",
              "      <td>0.891429</td>\n",
              "      <td>0.015280</td>\n",
              "      <td>...</td>\n",
              "      <td>0.071429</td>\n",
              "      <td>0.071429</td>\n",
              "      <td>0.320000</td>\n",
              "      <td>0.240000</td>\n",
              "      <td>0.200000</td>\n",
              "      <td>0.200000</td>\n",
              "      <td>3.015532</td>\n",
              "      <td>2.027701</td>\n",
              "      <td>6.763461</td>\n",
              "      <td>187.422256</td>\n",
              "    </tr>\n",
              "    <tr>\n",
              "      <th>std</th>\n",
              "      <td>173.574265</td>\n",
              "      <td>3.240486</td>\n",
              "      <td>4.079510</td>\n",
              "      <td>2.432580</td>\n",
              "      <td>3.252729</td>\n",
              "      <td>4.062208</td>\n",
              "      <td>2.427306</td>\n",
              "      <td>26.914648</td>\n",
              "      <td>0.895507</td>\n",
              "      <td>0.027165</td>\n",
              "      <td>...</td>\n",
              "      <td>0.257908</td>\n",
              "      <td>0.257908</td>\n",
              "      <td>0.467144</td>\n",
              "      <td>0.427695</td>\n",
              "      <td>0.400573</td>\n",
              "      <td>0.400573</td>\n",
              "      <td>1.033199</td>\n",
              "      <td>0.985260</td>\n",
              "      <td>4.571550</td>\n",
              "      <td>129.179260</td>\n",
              "    </tr>\n",
              "    <tr>\n",
              "      <th>min</th>\n",
              "      <td>2.000000</td>\n",
              "      <td>0.684780</td>\n",
              "      <td>-0.700000</td>\n",
              "      <td>-4.300000</td>\n",
              "      <td>0.600000</td>\n",
              "      <td>-0.700000</td>\n",
              "      <td>-4.300000</td>\n",
              "      <td>9.622906</td>\n",
              "      <td>0.000000</td>\n",
              "      <td>-0.117810</td>\n",
              "      <td>...</td>\n",
              "      <td>0.000000</td>\n",
              "      <td>0.000000</td>\n",
              "      <td>0.000000</td>\n",
              "      <td>0.000000</td>\n",
              "      <td>0.000000</td>\n",
              "      <td>0.000000</td>\n",
              "      <td>0.414955</td>\n",
              "      <td>0.050658</td>\n",
              "      <td>0.084999</td>\n",
              "      <td>-39.171421</td>\n",
              "    </tr>\n",
              "    <tr>\n",
              "      <th>25%</th>\n",
              "      <td>210.000000</td>\n",
              "      <td>2.099248</td>\n",
              "      <td>3.700000</td>\n",
              "      <td>1.877098</td>\n",
              "      <td>2.000000</td>\n",
              "      <td>3.800000</td>\n",
              "      <td>2.000000</td>\n",
              "      <td>41.419391</td>\n",
              "      <td>0.000000</td>\n",
              "      <td>0.003662</td>\n",
              "      <td>...</td>\n",
              "      <td>0.000000</td>\n",
              "      <td>0.000000</td>\n",
              "      <td>0.000000</td>\n",
              "      <td>0.000000</td>\n",
              "      <td>0.000000</td>\n",
              "      <td>0.000000</td>\n",
              "      <td>2.189081</td>\n",
              "      <td>1.143009</td>\n",
              "      <td>2.542276</td>\n",
              "      <td>92.589357</td>\n",
              "    </tr>\n",
              "    <tr>\n",
              "      <th>50%</th>\n",
              "      <td>282.500000</td>\n",
              "      <td>4.500000</td>\n",
              "      <td>5.900000</td>\n",
              "      <td>3.200000</td>\n",
              "      <td>3.900000</td>\n",
              "      <td>5.900000</td>\n",
              "      <td>3.300000</td>\n",
              "      <td>52.624180</td>\n",
              "      <td>1.000000</td>\n",
              "      <td>0.013674</td>\n",
              "      <td>...</td>\n",
              "      <td>0.000000</td>\n",
              "      <td>0.000000</td>\n",
              "      <td>0.000000</td>\n",
              "      <td>0.000000</td>\n",
              "      <td>0.000000</td>\n",
              "      <td>0.000000</td>\n",
              "      <td>3.230290</td>\n",
              "      <td>2.174839</td>\n",
              "      <td>6.396097</td>\n",
              "      <td>177.518349</td>\n",
              "    </tr>\n",
              "    <tr>\n",
              "      <th>75%</th>\n",
              "      <td>380.000000</td>\n",
              "      <td>7.300000</td>\n",
              "      <td>9.075000</td>\n",
              "      <td>4.700000</td>\n",
              "      <td>7.100000</td>\n",
              "      <td>8.900000</td>\n",
              "      <td>4.794516</td>\n",
              "      <td>71.847086</td>\n",
              "      <td>1.000000</td>\n",
              "      <td>0.030052</td>\n",
              "      <td>...</td>\n",
              "      <td>0.000000</td>\n",
              "      <td>0.000000</td>\n",
              "      <td>1.000000</td>\n",
              "      <td>0.000000</td>\n",
              "      <td>0.000000</td>\n",
              "      <td>0.000000</td>\n",
              "      <td>3.794158</td>\n",
              "      <td>2.809576</td>\n",
              "      <td>10.014869</td>\n",
              "      <td>257.054947</td>\n",
              "    </tr>\n",
              "    <tr>\n",
              "      <th>max</th>\n",
              "      <td>740.000000</td>\n",
              "      <td>13.000000</td>\n",
              "      <td>24.500000</td>\n",
              "      <td>12.800000</td>\n",
              "      <td>13.000000</td>\n",
              "      <td>24.500000</td>\n",
              "      <td>12.800000</td>\n",
              "      <td>146.020203</td>\n",
              "      <td>4.000000</td>\n",
              "      <td>0.083460</td>\n",
              "      <td>...</td>\n",
              "      <td>1.000000</td>\n",
              "      <td>1.000000</td>\n",
              "      <td>1.000000</td>\n",
              "      <td>1.000000</td>\n",
              "      <td>1.000000</td>\n",
              "      <td>1.000000</td>\n",
              "      <td>4.819816</td>\n",
              "      <td>3.570835</td>\n",
              "      <td>17.161753</td>\n",
              "      <td>644.791138</td>\n",
              "    </tr>\n",
              "  </tbody>\n",
              "</table>\n",
              "<p>8 rows × 31 columns</p>\n",
              "</div>\n",
              "      <button class=\"colab-df-convert\" onclick=\"convertToInteractive('df-d0de22e2-ddc0-4108-81e1-924846b14781')\"\n",
              "              title=\"Convert this dataframe to an interactive table.\"\n",
              "              style=\"display:none;\">\n",
              "        \n",
              "  <svg xmlns=\"http://www.w3.org/2000/svg\" height=\"24px\"viewBox=\"0 0 24 24\"\n",
              "       width=\"24px\">\n",
              "    <path d=\"M0 0h24v24H0V0z\" fill=\"none\"/>\n",
              "    <path d=\"M18.56 5.44l.94 2.06.94-2.06 2.06-.94-2.06-.94-.94-2.06-.94 2.06-2.06.94zm-11 1L8.5 8.5l.94-2.06 2.06-.94-2.06-.94L8.5 2.5l-.94 2.06-2.06.94zm10 10l.94 2.06.94-2.06 2.06-.94-2.06-.94-.94-2.06-.94 2.06-2.06.94z\"/><path d=\"M17.41 7.96l-1.37-1.37c-.4-.4-.92-.59-1.43-.59-.52 0-1.04.2-1.43.59L10.3 9.45l-7.72 7.72c-.78.78-.78 2.05 0 2.83L4 21.41c.39.39.9.59 1.41.59.51 0 1.02-.2 1.41-.59l7.78-7.78 2.81-2.81c.8-.78.8-2.07 0-2.86zM5.41 20L4 18.59l7.72-7.72 1.47 1.35L5.41 20z\"/>\n",
              "  </svg>\n",
              "      </button>\n",
              "      \n",
              "  <style>\n",
              "    .colab-df-container {\n",
              "      display:flex;\n",
              "      flex-wrap:wrap;\n",
              "      gap: 12px;\n",
              "    }\n",
              "\n",
              "    .colab-df-convert {\n",
              "      background-color: #E8F0FE;\n",
              "      border: none;\n",
              "      border-radius: 50%;\n",
              "      cursor: pointer;\n",
              "      display: none;\n",
              "      fill: #1967D2;\n",
              "      height: 32px;\n",
              "      padding: 0 0 0 0;\n",
              "      width: 32px;\n",
              "    }\n",
              "\n",
              "    .colab-df-convert:hover {\n",
              "      background-color: #E2EBFA;\n",
              "      box-shadow: 0px 1px 2px rgba(60, 64, 67, 0.3), 0px 1px 3px 1px rgba(60, 64, 67, 0.15);\n",
              "      fill: #174EA6;\n",
              "    }\n",
              "\n",
              "    [theme=dark] .colab-df-convert {\n",
              "      background-color: #3B4455;\n",
              "      fill: #D2E3FC;\n",
              "    }\n",
              "\n",
              "    [theme=dark] .colab-df-convert:hover {\n",
              "      background-color: #434B5C;\n",
              "      box-shadow: 0px 1px 3px 1px rgba(0, 0, 0, 0.15);\n",
              "      filter: drop-shadow(0px 1px 2px rgba(0, 0, 0, 0.3));\n",
              "      fill: #FFFFFF;\n",
              "    }\n",
              "  </style>\n",
              "\n",
              "      <script>\n",
              "        const buttonEl =\n",
              "          document.querySelector('#df-d0de22e2-ddc0-4108-81e1-924846b14781 button.colab-df-convert');\n",
              "        buttonEl.style.display =\n",
              "          google.colab.kernel.accessAllowed ? 'block' : 'none';\n",
              "\n",
              "        async function convertToInteractive(key) {\n",
              "          const element = document.querySelector('#df-d0de22e2-ddc0-4108-81e1-924846b14781');\n",
              "          const dataTable =\n",
              "            await google.colab.kernel.invokeFunction('convertToInteractive',\n",
              "                                                     [key], {});\n",
              "          if (!dataTable) return;\n",
              "\n",
              "          const docLinkHtml = 'Like what you see? Visit the ' +\n",
              "            '<a target=\"_blank\" href=https://colab.research.google.com/notebooks/data_table.ipynb>data table notebook</a>'\n",
              "            + ' to learn more about interactive tables.';\n",
              "          element.innerHTML = '';\n",
              "          dataTable['output_type'] = 'display_data';\n",
              "          await google.colab.output.renderOutput(dataTable, element);\n",
              "          const docLink = document.createElement('div');\n",
              "          docLink.innerHTML = docLinkHtml;\n",
              "          element.appendChild(docLink);\n",
              "        }\n",
              "      </script>\n",
              "    </div>\n",
              "  </div>\n",
              "  "
            ]
          },
          "metadata": {},
          "execution_count": 3
        }
      ]
    },
    {
      "cell_type": "code",
      "source": [
        "df.groupby([\"country\", \"year\"]).describe()['leftlab']"
      ],
      "metadata": {
        "colab": {
          "base_uri": "https://localhost:8080/",
          "height": 455
        },
        "id": "GZwKPMGOV9Ao",
        "outputId": "a27723aa-d630-4141-96b7-454cda40bec8"
      },
      "execution_count": 4,
      "outputs": [
        {
          "output_type": "execute_result",
          "data": {
            "text/plain": [
              "                    count      mean  std       min       25%       50%  \\\n",
              "country year                                                             \n",
              "2.0     1966-01-01    1.0  1.376415  NaN  1.376415  1.376415  1.376415   \n",
              "        1967-01-01    1.0  1.176678  NaN  1.176678  1.176678  1.176678   \n",
              "        1968-01-01    1.0  1.176678  NaN  1.176678  1.176678  1.176678   \n",
              "        1969-01-01    1.0  0.433172  NaN  0.433172  0.433172  0.433172   \n",
              "        1970-01-01    1.0  0.433172  NaN  0.433172  0.433172  0.433172   \n",
              "...                   ...       ...  ...       ...       ...       ...   \n",
              "740.0   1986-01-01    1.0  0.729007  NaN  0.729007  0.729007  0.729007   \n",
              "        1987-01-01    1.0  0.729007  NaN  0.729007  0.729007  0.729007   \n",
              "        1988-01-01    1.0  0.729007  NaN  0.729007  0.729007  0.729007   \n",
              "        1989-01-01    1.0  0.729007  NaN  0.729007  0.729007  0.729007   \n",
              "        1990-01-01    1.0  0.864677  NaN  0.864677  0.864677  0.864677   \n",
              "\n",
              "                         75%       max  \n",
              "country year                            \n",
              "2.0     1966-01-01  1.376415  1.376415  \n",
              "        1967-01-01  1.176678  1.176678  \n",
              "        1968-01-01  1.176678  1.176678  \n",
              "        1969-01-01  0.433172  0.433172  \n",
              "        1970-01-01  0.433172  0.433172  \n",
              "...                      ...       ...  \n",
              "740.0   1986-01-01  0.729007  0.729007  \n",
              "        1987-01-01  0.729007  0.729007  \n",
              "        1988-01-01  0.729007  0.729007  \n",
              "        1989-01-01  0.729007  0.729007  \n",
              "        1990-01-01  0.864677  0.864677  \n",
              "\n",
              "[350 rows x 8 columns]"
            ],
            "text/html": [
              "\n",
              "  <div id=\"df-a2d2fa10-2f86-4d4d-9b7e-e5a01949eff6\">\n",
              "    <div class=\"colab-df-container\">\n",
              "      <div>\n",
              "<style scoped>\n",
              "    .dataframe tbody tr th:only-of-type {\n",
              "        vertical-align: middle;\n",
              "    }\n",
              "\n",
              "    .dataframe tbody tr th {\n",
              "        vertical-align: top;\n",
              "    }\n",
              "\n",
              "    .dataframe thead th {\n",
              "        text-align: right;\n",
              "    }\n",
              "</style>\n",
              "<table border=\"1\" class=\"dataframe\">\n",
              "  <thead>\n",
              "    <tr style=\"text-align: right;\">\n",
              "      <th></th>\n",
              "      <th></th>\n",
              "      <th>count</th>\n",
              "      <th>mean</th>\n",
              "      <th>std</th>\n",
              "      <th>min</th>\n",
              "      <th>25%</th>\n",
              "      <th>50%</th>\n",
              "      <th>75%</th>\n",
              "      <th>max</th>\n",
              "    </tr>\n",
              "    <tr>\n",
              "      <th>country</th>\n",
              "      <th>year</th>\n",
              "      <th></th>\n",
              "      <th></th>\n",
              "      <th></th>\n",
              "      <th></th>\n",
              "      <th></th>\n",
              "      <th></th>\n",
              "      <th></th>\n",
              "      <th></th>\n",
              "    </tr>\n",
              "  </thead>\n",
              "  <tbody>\n",
              "    <tr>\n",
              "      <th rowspan=\"5\" valign=\"top\">2.0</th>\n",
              "      <th>1966-01-01</th>\n",
              "      <td>1.0</td>\n",
              "      <td>1.376415</td>\n",
              "      <td>NaN</td>\n",
              "      <td>1.376415</td>\n",
              "      <td>1.376415</td>\n",
              "      <td>1.376415</td>\n",
              "      <td>1.376415</td>\n",
              "      <td>1.376415</td>\n",
              "    </tr>\n",
              "    <tr>\n",
              "      <th>1967-01-01</th>\n",
              "      <td>1.0</td>\n",
              "      <td>1.176678</td>\n",
              "      <td>NaN</td>\n",
              "      <td>1.176678</td>\n",
              "      <td>1.176678</td>\n",
              "      <td>1.176678</td>\n",
              "      <td>1.176678</td>\n",
              "      <td>1.176678</td>\n",
              "    </tr>\n",
              "    <tr>\n",
              "      <th>1968-01-01</th>\n",
              "      <td>1.0</td>\n",
              "      <td>1.176678</td>\n",
              "      <td>NaN</td>\n",
              "      <td>1.176678</td>\n",
              "      <td>1.176678</td>\n",
              "      <td>1.176678</td>\n",
              "      <td>1.176678</td>\n",
              "      <td>1.176678</td>\n",
              "    </tr>\n",
              "    <tr>\n",
              "      <th>1969-01-01</th>\n",
              "      <td>1.0</td>\n",
              "      <td>0.433172</td>\n",
              "      <td>NaN</td>\n",
              "      <td>0.433172</td>\n",
              "      <td>0.433172</td>\n",
              "      <td>0.433172</td>\n",
              "      <td>0.433172</td>\n",
              "      <td>0.433172</td>\n",
              "    </tr>\n",
              "    <tr>\n",
              "      <th>1970-01-01</th>\n",
              "      <td>1.0</td>\n",
              "      <td>0.433172</td>\n",
              "      <td>NaN</td>\n",
              "      <td>0.433172</td>\n",
              "      <td>0.433172</td>\n",
              "      <td>0.433172</td>\n",
              "      <td>0.433172</td>\n",
              "      <td>0.433172</td>\n",
              "    </tr>\n",
              "    <tr>\n",
              "      <th>...</th>\n",
              "      <th>...</th>\n",
              "      <td>...</td>\n",
              "      <td>...</td>\n",
              "      <td>...</td>\n",
              "      <td>...</td>\n",
              "      <td>...</td>\n",
              "      <td>...</td>\n",
              "      <td>...</td>\n",
              "      <td>...</td>\n",
              "    </tr>\n",
              "    <tr>\n",
              "      <th rowspan=\"5\" valign=\"top\">740.0</th>\n",
              "      <th>1986-01-01</th>\n",
              "      <td>1.0</td>\n",
              "      <td>0.729007</td>\n",
              "      <td>NaN</td>\n",
              "      <td>0.729007</td>\n",
              "      <td>0.729007</td>\n",
              "      <td>0.729007</td>\n",
              "      <td>0.729007</td>\n",
              "      <td>0.729007</td>\n",
              "    </tr>\n",
              "    <tr>\n",
              "      <th>1987-01-01</th>\n",
              "      <td>1.0</td>\n",
              "      <td>0.729007</td>\n",
              "      <td>NaN</td>\n",
              "      <td>0.729007</td>\n",
              "      <td>0.729007</td>\n",
              "      <td>0.729007</td>\n",
              "      <td>0.729007</td>\n",
              "      <td>0.729007</td>\n",
              "    </tr>\n",
              "    <tr>\n",
              "      <th>1988-01-01</th>\n",
              "      <td>1.0</td>\n",
              "      <td>0.729007</td>\n",
              "      <td>NaN</td>\n",
              "      <td>0.729007</td>\n",
              "      <td>0.729007</td>\n",
              "      <td>0.729007</td>\n",
              "      <td>0.729007</td>\n",
              "      <td>0.729007</td>\n",
              "    </tr>\n",
              "    <tr>\n",
              "      <th>1989-01-01</th>\n",
              "      <td>1.0</td>\n",
              "      <td>0.729007</td>\n",
              "      <td>NaN</td>\n",
              "      <td>0.729007</td>\n",
              "      <td>0.729007</td>\n",
              "      <td>0.729007</td>\n",
              "      <td>0.729007</td>\n",
              "      <td>0.729007</td>\n",
              "    </tr>\n",
              "    <tr>\n",
              "      <th>1990-01-01</th>\n",
              "      <td>1.0</td>\n",
              "      <td>0.864677</td>\n",
              "      <td>NaN</td>\n",
              "      <td>0.864677</td>\n",
              "      <td>0.864677</td>\n",
              "      <td>0.864677</td>\n",
              "      <td>0.864677</td>\n",
              "      <td>0.864677</td>\n",
              "    </tr>\n",
              "  </tbody>\n",
              "</table>\n",
              "<p>350 rows × 8 columns</p>\n",
              "</div>\n",
              "      <button class=\"colab-df-convert\" onclick=\"convertToInteractive('df-a2d2fa10-2f86-4d4d-9b7e-e5a01949eff6')\"\n",
              "              title=\"Convert this dataframe to an interactive table.\"\n",
              "              style=\"display:none;\">\n",
              "        \n",
              "  <svg xmlns=\"http://www.w3.org/2000/svg\" height=\"24px\"viewBox=\"0 0 24 24\"\n",
              "       width=\"24px\">\n",
              "    <path d=\"M0 0h24v24H0V0z\" fill=\"none\"/>\n",
              "    <path d=\"M18.56 5.44l.94 2.06.94-2.06 2.06-.94-2.06-.94-.94-2.06-.94 2.06-2.06.94zm-11 1L8.5 8.5l.94-2.06 2.06-.94-2.06-.94L8.5 2.5l-.94 2.06-2.06.94zm10 10l.94 2.06.94-2.06 2.06-.94-2.06-.94-.94-2.06-.94 2.06-2.06.94z\"/><path d=\"M17.41 7.96l-1.37-1.37c-.4-.4-.92-.59-1.43-.59-.52 0-1.04.2-1.43.59L10.3 9.45l-7.72 7.72c-.78.78-.78 2.05 0 2.83L4 21.41c.39.39.9.59 1.41.59.51 0 1.02-.2 1.41-.59l7.78-7.78 2.81-2.81c.8-.78.8-2.07 0-2.86zM5.41 20L4 18.59l7.72-7.72 1.47 1.35L5.41 20z\"/>\n",
              "  </svg>\n",
              "      </button>\n",
              "      \n",
              "  <style>\n",
              "    .colab-df-container {\n",
              "      display:flex;\n",
              "      flex-wrap:wrap;\n",
              "      gap: 12px;\n",
              "    }\n",
              "\n",
              "    .colab-df-convert {\n",
              "      background-color: #E8F0FE;\n",
              "      border: none;\n",
              "      border-radius: 50%;\n",
              "      cursor: pointer;\n",
              "      display: none;\n",
              "      fill: #1967D2;\n",
              "      height: 32px;\n",
              "      padding: 0 0 0 0;\n",
              "      width: 32px;\n",
              "    }\n",
              "\n",
              "    .colab-df-convert:hover {\n",
              "      background-color: #E2EBFA;\n",
              "      box-shadow: 0px 1px 2px rgba(60, 64, 67, 0.3), 0px 1px 3px 1px rgba(60, 64, 67, 0.15);\n",
              "      fill: #174EA6;\n",
              "    }\n",
              "\n",
              "    [theme=dark] .colab-df-convert {\n",
              "      background-color: #3B4455;\n",
              "      fill: #D2E3FC;\n",
              "    }\n",
              "\n",
              "    [theme=dark] .colab-df-convert:hover {\n",
              "      background-color: #434B5C;\n",
              "      box-shadow: 0px 1px 3px 1px rgba(0, 0, 0, 0.15);\n",
              "      filter: drop-shadow(0px 1px 2px rgba(0, 0, 0, 0.3));\n",
              "      fill: #FFFFFF;\n",
              "    }\n",
              "  </style>\n",
              "\n",
              "      <script>\n",
              "        const buttonEl =\n",
              "          document.querySelector('#df-a2d2fa10-2f86-4d4d-9b7e-e5a01949eff6 button.colab-df-convert');\n",
              "        buttonEl.style.display =\n",
              "          google.colab.kernel.accessAllowed ? 'block' : 'none';\n",
              "\n",
              "        async function convertToInteractive(key) {\n",
              "          const element = document.querySelector('#df-a2d2fa10-2f86-4d4d-9b7e-e5a01949eff6');\n",
              "          const dataTable =\n",
              "            await google.colab.kernel.invokeFunction('convertToInteractive',\n",
              "                                                     [key], {});\n",
              "          if (!dataTable) return;\n",
              "\n",
              "          const docLinkHtml = 'Like what you see? Visit the ' +\n",
              "            '<a target=\"_blank\" href=https://colab.research.google.com/notebooks/data_table.ipynb>data table notebook</a>'\n",
              "            + ' to learn more about interactive tables.';\n",
              "          element.innerHTML = '';\n",
              "          dataTable['output_type'] = 'display_data';\n",
              "          await google.colab.output.renderOutput(dataTable, element);\n",
              "          const docLink = document.createElement('div');\n",
              "          docLink.innerHTML = docLinkHtml;\n",
              "          element.appendChild(docLink);\n",
              "        }\n",
              "      </script>\n",
              "    </div>\n",
              "  </div>\n",
              "  "
            ]
          },
          "metadata": {},
          "execution_count": 4
        }
      ]
    },
    {
      "cell_type": "markdown",
      "source": [
        "**Estimating the Random Intercepts Model**"
      ],
      "metadata": {
        "id": "uQWh19cEZdk_"
      }
    },
    {
      "cell_type": "code",
      "source": [
        "import statsmodels.formula.api as smf"
      ],
      "metadata": {
        "id": "Hk7b5E7iX-MP"
      },
      "execution_count": 5,
      "outputs": []
    },
    {
      "cell_type": "code",
      "source": [
        "model = smf.mixedlm(\"gdp ~ leftlab + infl + unem + trade\",\n",
        "                    df,\n",
        "                    groups= \"country\").fit()\n",
        "\n",
        "print(model.summary())"
      ],
      "metadata": {
        "colab": {
          "base_uri": "https://localhost:8080/"
        },
        "id": "yvq-7LVuZ5eW",
        "outputId": "fe727fb0-9061-496e-f654-47d967e9a6fc"
      },
      "execution_count": 6,
      "outputs": [
        {
          "output_type": "stream",
          "name": "stdout",
          "text": [
            "         Mixed Linear Model Regression Results\n",
            "=======================================================\n",
            "Model:            MixedLM Dependent Variable: gdp      \n",
            "No. Observations: 350     Method:             REML     \n",
            "No. Groups:       14      Scale:              3.9784   \n",
            "Min. group size:  25      Likelihood:         -757.6406\n",
            "Max. group size:  25      Converged:          Yes      \n",
            "Mean group size:  25.0                                 \n",
            "-------------------------------------------------------\n",
            "             Coef.  Std.Err.   z    P>|z| [0.025 0.975]\n",
            "-------------------------------------------------------\n",
            "Intercept     7.268    0.583 12.463 0.000  6.125  8.411\n",
            "leftlab      -0.105    0.171 -0.613 0.540 -0.441  0.231\n",
            "infl         -0.210    0.029 -7.245 0.000 -0.267 -0.153\n",
            "unem         -0.295    0.048 -6.185 0.000 -0.388 -0.201\n",
            "trade        -0.016    0.009 -1.894 0.058 -0.033  0.001\n",
            "country Var   0.690    0.181                           \n",
            "=======================================================\n",
            "\n"
          ]
        }
      ]
    },
    {
      "cell_type": "code",
      "source": [
        "# square root of the country Var (random effect (random intercept only in this case))\n",
        "f\"On average, country level groupings/effects vary {np.sqrt(0.690)} units in their effect on gdp (economic growth)\""
      ],
      "metadata": {
        "colab": {
          "base_uri": "https://localhost:8080/",
          "height": 36
        },
        "id": "kPRVTp-8cuVP",
        "outputId": "8496a203-e481-4468-8000-2f6c8d0002c7"
      },
      "execution_count": 7,
      "outputs": [
        {
          "output_type": "execute_result",
          "data": {
            "text/plain": [
              "'On average, country level groupings/effects vary 0.8306623862918074 units in their effect on gdp (economic growth)'"
            ],
            "application/vnd.google.colaboratory.intrinsic+json": {
              "type": "string"
            }
          },
          "metadata": {},
          "execution_count": 7
        }
      ]
    },
    {
      "cell_type": "code",
      "source": [
        "new_line = '\\n'\n",
        "# calculating ICC --> taking variance of the random effect divided by unexplained variance of the model (found in scale in model output)\n",
        "f\"The ICC = {0.690 / 3.9784} which suggests to us that roughly 17 % of the variation in gdp (economic growth) is explained by country-group (level) differences (ie 17% of the variation in gdp is explained purely by what country one lives in\""
      ],
      "metadata": {
        "colab": {
          "base_uri": "https://localhost:8080/",
          "height": 55
        },
        "id": "myYXDVc2d2du",
        "outputId": "f256c343-7744-40af-8074-fc555919f02d"
      },
      "execution_count": 8,
      "outputs": [
        {
          "output_type": "execute_result",
          "data": {
            "text/plain": [
              "'The ICC = 0.17343655741001407 which suggests to us that roughly 17 % of the variation in gdp (economic growth) is explained by country-group (level) differences (ie 17% of the variation in gdp is explained purely by what country one lives in'"
            ],
            "application/vnd.google.colaboratory.intrinsic+json": {
              "type": "string"
            }
          },
          "metadata": {},
          "execution_count": 8
        }
      ]
    },
    {
      "cell_type": "markdown",
      "source": [
        "## **Interpretation**:\n",
        "* Overall, our fixed effects show that for our main IV of interest \"leftlab\" that it is not statistically significant even though its sign is correct being negative in the sense that labor parties have a negative effect on economic growth which is what we would traditionally theorize. The coefficient for inflation however, highly statistically significant and negative meaning for every one unit increase in inflation, gdp (economic growth can be expected to decrease by -.210 units. Our variable representing unemployment was also highly statistically significant at the p < .01 level and negative with a coefficient value of -.295 suggesting to us that greater unemployment leads to a loss in economic development or (gdp). Our IV trade also tells a similar story as to uemployment and inflation except that this variable is statistically signifiacnt at the p < .05 level. \n",
        "\n",
        "Our random effects (random intercept) in this case has a standard deviation of .83 units suggesting that purely by country-level groups, that differences between countries on gdp can cause variation of 1 standard deviation plus or minues .83 units suggesting to us that country level differences do matter for gdp and aid in explaining the variation in gdp. "
      ],
      "metadata": {
        "id": "tKmas2ESiKct"
      }
    },
    {
      "cell_type": "markdown",
      "source": [
        "# **Question 3 Random Slopes Model**\n",
        "\n",
        "Using the model estimated in question #2, add a random effect to one of the independent variables of your choosing. Report the random effects component of the results in standard deviations. Interpret both the fixed and random effects results."
      ],
      "metadata": {
        "id": "kP3BlwNghP1e"
      }
    },
    {
      "cell_type": "code",
      "source": [
        "model = smf.mixedlm(\"gdp ~ leftlab + infl + unem + trade\",\n",
        "                    df,\n",
        "                    groups= \"country\").fit()\n",
        "\n",
        "print(model.summary())"
      ],
      "metadata": {
        "colab": {
          "base_uri": "https://localhost:8080/"
        },
        "id": "G9zTqFnrgzA-",
        "outputId": "135c9046-75a3-4914-da67-2712c82168d9"
      },
      "execution_count": 9,
      "outputs": [
        {
          "output_type": "stream",
          "name": "stdout",
          "text": [
            "         Mixed Linear Model Regression Results\n",
            "=======================================================\n",
            "Model:            MixedLM Dependent Variable: gdp      \n",
            "No. Observations: 350     Method:             REML     \n",
            "No. Groups:       14      Scale:              3.9784   \n",
            "Min. group size:  25      Likelihood:         -757.6406\n",
            "Max. group size:  25      Converged:          Yes      \n",
            "Mean group size:  25.0                                 \n",
            "-------------------------------------------------------\n",
            "             Coef.  Std.Err.   z    P>|z| [0.025 0.975]\n",
            "-------------------------------------------------------\n",
            "Intercept     7.268    0.583 12.463 0.000  6.125  8.411\n",
            "leftlab      -0.105    0.171 -0.613 0.540 -0.441  0.231\n",
            "infl         -0.210    0.029 -7.245 0.000 -0.267 -0.153\n",
            "unem         -0.295    0.048 -6.185 0.000 -0.388 -0.201\n",
            "trade        -0.016    0.009 -1.894 0.058 -0.033  0.001\n",
            "country Var   0.690    0.181                           \n",
            "=======================================================\n",
            "\n"
          ]
        }
      ]
    },
    {
      "cell_type": "code",
      "source": [
        "# Random Slope Model: Random intercepts and slopes are independent\n",
        "\n",
        "model2 = smf.mixedlm(\"gdp ~ leftlab + infl + unem + trade\", df, groups= \"country\",\n",
        "                     re_formula = \"0 + leftlab\").fit()\n",
        "\n",
        "print(model2.summary())"
      ],
      "metadata": {
        "colab": {
          "base_uri": "https://localhost:8080/"
        },
        "id": "8XDBs8dFlWwj",
        "outputId": "47cc274d-7ef7-430b-ebe1-ac2b1cc67150"
      },
      "execution_count": 10,
      "outputs": [
        {
          "output_type": "stream",
          "name": "stdout",
          "text": [
            "         Mixed Linear Model Regression Results\n",
            "=======================================================\n",
            "Model:            MixedLM Dependent Variable: gdp      \n",
            "No. Observations: 350     Method:             REML     \n",
            "No. Groups:       14      Scale:              4.0509   \n",
            "Min. group size:  25      Likelihood:         -759.7101\n",
            "Max. group size:  25      Converged:          Yes      \n",
            "Mean group size:  25.0                                 \n",
            "-------------------------------------------------------\n",
            "             Coef.  Std.Err.   z    P>|z| [0.025 0.975]\n",
            "-------------------------------------------------------\n",
            "Intercept     7.255    0.437 16.619 0.000  6.400  8.111\n",
            "leftlab      -0.120    0.195 -0.613 0.540 -0.503  0.263\n",
            "infl         -0.209    0.029 -7.181 0.000 -0.266 -0.152\n",
            "unem         -0.322    0.048 -6.760 0.000 -0.416 -0.229\n",
            "trade        -0.012    0.007 -1.732 0.083 -0.026  0.002\n",
            "leftlab Var   0.128    0.037                           \n",
            "=======================================================\n",
            "\n"
          ]
        }
      ]
    },
    {
      "cell_type": "code",
      "source": [
        "# standard deviation of leftlab variacne\n",
        "np.sqrt(.128)"
      ],
      "metadata": {
        "colab": {
          "base_uri": "https://localhost:8080/"
        },
        "id": "wwIm1e5BptIJ",
        "outputId": "37b0fc4a-d9f7-4d34-ae9f-0eb636632390"
      },
      "execution_count": 11,
      "outputs": [
        {
          "output_type": "execute_result",
          "data": {
            "text/plain": [
              "0.35777087639996635"
            ]
          },
          "metadata": {},
          "execution_count": 11
        }
      ]
    },
    {
      "cell_type": "markdown",
      "source": [
        "## **Model Interpretation**\n",
        "\n",
        "* In this random slopes model above where the random slope coefficient is for the variable \"leftlab\" labor party and (no random intercepts) our model has converged. In interpreting the values, our independent variables (fixed effects) for inflation, unemployment, and trade, were all negatively signed once again statisticallly significant suggesting to us that unit increases in each of these 3 variables causes gdp (economic development) to decline. For our main variable of interest \"leftlab\" this variable was not statistically signifiacnt but was negatively signed (the correct direction we should expect for the variables impact on gdp).\n",
        "\n",
        "In interpreting the leftlab random slope, the variance is .128 which means that the standard deviation = .35 units. This indicates that from cluster to cluster, ie between countries, the \"leftlab\" (left labor party) variable's slope fluctuates by +- .35 - .70 (1-2 standard deviations)\n",
        "\n"
      ],
      "metadata": {
        "id": "v40Njxh0oft8"
      }
    },
    {
      "cell_type": "markdown",
      "source": [
        "# **Question 3: Random Intercepts & Slope Model**"
      ],
      "metadata": {
        "id": "AzVxM-1fmVdC"
      }
    },
    {
      "cell_type": "code",
      "source": [
        "# Random Slope Model: Random intercepts and slopes are correlated\n",
        "\n",
        "model3 = smf.mixedlm(\"gdp ~ leftlab + infl + unem + trade\", df, groups= \"country\",\n",
        "                     re_formula = \"1 + leftlab\").fit()\n",
        "\n",
        "print(model3.summary())"
      ],
      "metadata": {
        "colab": {
          "base_uri": "https://localhost:8080/"
        },
        "id": "XgGEP6tgnMrb",
        "outputId": "bf8c85ab-a67a-4b63-c1ac-cd7e538dfc4f"
      },
      "execution_count": 12,
      "outputs": [
        {
          "output_type": "stream",
          "name": "stderr",
          "text": [
            "/usr/local/lib/python3.7/dist-packages/statsmodels/base/model.py:512: ConvergenceWarning: Maximum Likelihood optimization failed to converge. Check mle_retvals\n",
            "  \"Check mle_retvals\", ConvergenceWarning)\n",
            "/usr/local/lib/python3.7/dist-packages/statsmodels/regression/mixed_linear_model.py:2059: ConvergenceWarning: Retrying MixedLM optimization with lbfgs\n",
            "  ConvergenceWarning)\n",
            "/usr/local/lib/python3.7/dist-packages/statsmodels/base/model.py:512: ConvergenceWarning: Maximum Likelihood optimization failed to converge. Check mle_retvals\n",
            "  \"Check mle_retvals\", ConvergenceWarning)\n",
            "/usr/local/lib/python3.7/dist-packages/statsmodels/regression/mixed_linear_model.py:2059: ConvergenceWarning: Retrying MixedLM optimization with cg\n",
            "  ConvergenceWarning)\n"
          ]
        },
        {
          "output_type": "stream",
          "name": "stdout",
          "text": [
            "             Mixed Linear Model Regression Results\n",
            "================================================================\n",
            "Model:               MixedLM    Dependent Variable:    gdp      \n",
            "No. Observations:    350        Method:                REML     \n",
            "No. Groups:          14         Scale:                 3.8733   \n",
            "Min. group size:     25         Likelihood:            -759.8779\n",
            "Max. group size:     25         Converged:             No       \n",
            "Mean group size:     25.0                                       \n",
            "----------------------------------------------------------------\n",
            "                      Coef.  Std.Err.   z    P>|z| [0.025 0.975]\n",
            "----------------------------------------------------------------\n",
            "Intercept              7.231    0.640 11.292 0.000  5.976  8.486\n",
            "leftlab                0.006    0.281  0.021 0.983 -0.545  0.557\n",
            "infl                  -0.213    0.029 -7.235 0.000 -0.270 -0.155\n",
            "unem                  -0.312    0.055 -5.699 0.000 -0.420 -0.205\n",
            "trade                 -0.018    0.010 -1.781 0.075 -0.037  0.002\n",
            "country Var            1.040    0.791                           \n",
            "country x leftlab Cov -0.448    0.774                           \n",
            "leftlab Var            0.528    0.274                           \n",
            "================================================================\n",
            "\n"
          ]
        },
        {
          "output_type": "stream",
          "name": "stderr",
          "text": [
            "/usr/local/lib/python3.7/dist-packages/statsmodels/base/model.py:512: ConvergenceWarning: Maximum Likelihood optimization failed to converge. Check mle_retvals\n",
            "  \"Check mle_retvals\", ConvergenceWarning)\n",
            "/usr/local/lib/python3.7/dist-packages/statsmodels/regression/mixed_linear_model.py:2063: ConvergenceWarning: MixedLM optimization failed, trying a different optimizer may help.\n",
            "  warnings.warn(msg, ConvergenceWarning)\n",
            "/usr/local/lib/python3.7/dist-packages/statsmodels/regression/mixed_linear_model.py:2075: ConvergenceWarning: Gradient optimization failed, |grad| = 21.436935\n",
            "  warnings.warn(msg, ConvergenceWarning)\n",
            "/usr/local/lib/python3.7/dist-packages/statsmodels/regression/mixed_linear_model.py:2115: ConvergenceWarning: The Hessian matrix at the estimated parameter values is not positive definite.\n",
            "  warnings.warn(msg, ConvergenceWarning)\n"
          ]
        }
      ]
    },
    {
      "cell_type": "markdown",
      "source": [
        "![image.png](data:image/png;base64,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)"
      ],
      "metadata": {
        "id": "Nnd6T1Tvs7_I"
      }
    },
    {
      "cell_type": "code",
      "source": [
        "# calculating the correlation coeficient between random intercepts and random slopes\n",
        "-0.448 / (np.sqrt(1.040 * .528))"
      ],
      "metadata": {
        "colab": {
          "base_uri": "https://localhost:8080/"
        },
        "id": "Dos_fYFZt5I-",
        "outputId": "182da769-d3d0-407a-a938-599f13e50dd5"
      },
      "execution_count": 13,
      "outputs": [
        {
          "output_type": "execute_result",
          "data": {
            "text/plain": [
              "-0.6045669239225426"
            ]
          },
          "metadata": {},
          "execution_count": 13
        }
      ]
    },
    {
      "cell_type": "markdown",
      "source": [
        "## **Interpretation Random Intercepts Random Slopes Model** \n",
        "\n",
        "In interpreting the results of our random intercept random slope model, inflation, unemployment, and trade, once again were all negatively signed and statistically significant suggesting to us that increases in each of these variables causes a decline in gdp. Our key variable of interest \"leftlab\" remained statistically insignificant once again in terms of the fixed effects. \n",
        "\n",
        "With regards to the random effects (the random slope (for leftlab variable) and intercept (country groups) in this case) -- we can interpret them in the following way. The correlation coefficient between the 2 equals -.60 in the formula calcualted above, suggesting to us that countries with more left labor parties tend to have lower gdp. \n",
        "\n",
        "\n",
        "\n",
        "\n"
      ],
      "metadata": {
        "id": "_wMd7ZFAq2rX"
      }
    },
    {
      "cell_type": "markdown",
      "source": [
        "# **Assumptions Checking**"
      ],
      "metadata": {
        "id": "DPArcxeBvBRv"
      }
    },
    {
      "cell_type": "markdown",
      "source": [
        "## **a. Normality**"
      ],
      "metadata": {
        "id": "hk6fjhT81U2s"
      }
    },
    {
      "cell_type": "code",
      "source": [
        "fig = plt.figure(figsize = (16, 9))\n",
        "\n",
        "ax = sns.distplot(model.resid, hist = False, kde_kws = {\"shade\" : True, \"lw\": 1}, fit = stats.norm)\n",
        "\n",
        "ax.set_title(\"KDE Plot of Model Residuals (Blue) and Normal Distribution (Black)\")\n",
        "ax.set_xlabel(\"Residuals\")"
      ],
      "metadata": {
        "colab": {
          "base_uri": "https://localhost:8080/",
          "height": 642
        },
        "id": "nPNL0c_K1C3r",
        "outputId": "daa8d683-6335-4094-b812-701e498403e1"
      },
      "execution_count": 14,
      "outputs": [
        {
          "output_type": "stream",
          "name": "stderr",
          "text": [
            "/usr/local/lib/python3.7/dist-packages/seaborn/distributions.py:2619: FutureWarning: `distplot` is a deprecated function and will be removed in a future version. Please adapt your code to use either `displot` (a figure-level function with similar flexibility) or `kdeplot` (an axes-level function for kernel density plots).\n",
            "  warnings.warn(msg, FutureWarning)\n"
          ]
        },
        {
          "output_type": "execute_result",
          "data": {
            "text/plain": [
              "Text(0.5, 0, 'Residuals')"
            ]
          },
          "metadata": {},
          "execution_count": 14
        },
        {
          "output_type": "display_data",
          "data": {
            "text/plain": [
              "<Figure size 1152x648 with 1 Axes>"
            ],
            "image/png": "[encoded data removed]"
          },
          "metadata": {
            "needs_background": "light"
          }
        }
      ]
    },
    {
      "cell_type": "code",
      "source": [
        "## Q-Q PLot\n",
        "\n",
        "fig = plt.figure(figsize = (16, 9))\n",
        "ax = fig.add_subplot(111)\n",
        "\n",
        "sm.qqplot(model.resid, dist = stats.norm, line = 's', ax = ax)\n",
        "\n",
        "ax.set_title(\"Q-Q Plot\")"
      ],
      "metadata": {
        "colab": {
          "base_uri": "https://localhost:8080/",
          "height": 585
        },
        "id": "40SlHzG91dvH",
        "outputId": "66850918-21ff-4271-a0fc-d7182bc9d961"
      },
      "execution_count": 15,
      "outputs": [
        {
          "output_type": "execute_result",
          "data": {
            "text/plain": [
              "Text(0.5, 1.0, 'Q-Q Plot')"
            ]
          },
          "metadata": {},
          "execution_count": 15
        },
        {
          "output_type": "display_data",
          "data": {
            "text/plain": [
              "<Figure size 1152x648 with 1 Axes>"
            ],
            "image/png": "[encoded data removed]"
          },
          "metadata": {
            "needs_background": "light"
          }
        }
      ]
    },
    {
      "cell_type": "markdown",
      "source": [
        "There is some deviation from normality, but it doesn't look concerning. There is an outlier or 2 at the way top, which is evident in both of the plots. How to handle the outlier is up to the researcher."
      ],
      "metadata": {
        "id": "xRR6d-6M1nmj"
      }
    },
    {
      "cell_type": "code",
      "source": [
        "labels = [\"Statistic\", \"p-value\"]\n",
        "\n",
        "norm_res = stats.shapiro(model.resid)\n",
        "\n",
        "for key, val in dict(zip(labels, norm_res)).items():\n",
        "    print(key, val)"
      ],
      "metadata": {
        "colab": {
          "base_uri": "https://localhost:8080/"
        },
        "id": "SjM_MyT01yyu",
        "outputId": "9dfd0750-6598-4f36-f8da-4336c948a851"
      },
      "execution_count": 16,
      "outputs": [
        {
          "output_type": "stream",
          "name": "stdout",
          "text": [
            "Statistic 0.9967729449272156\n",
            "p-value 0.7129114866256714\n"
          ]
        }
      ]
    },
    {
      "cell_type": "markdown",
      "source": [
        "The test is significant which indicates that the assumption of normality for the residuals is violated. This would suggest that the model could be adjusted to meet this assumption. Common techniques include transform variables, remove outliers, use a non-parametric approach, or rely on the central limit theorem. "
      ],
      "metadata": {
        "id": "wRZtSUMI1-ax"
      }
    },
    {
      "cell_type": "markdown",
      "source": [
        "## **b. HOMOSKEDASTICITY OF VARIANCE**"
      ],
      "metadata": {
        "id": "BadQwOzj2DxR"
      }
    },
    {
      "cell_type": "code",
      "source": [
        "# plotting residuals vs. fitted values\n",
        "fig = plt.figure(figsize = (16, 9))\n",
        "\n",
        "ax = sns.scatterplot(y = model.resid, x = model.fittedvalues)\n",
        "\n",
        "ax.set_title(\"RVF Plot\")\n",
        "ax.set_xlabel(\"Fitted Values\")\n",
        "ax.set_ylabel(\"Residuals\")\n",
        "ax.axhline(0, color='red')"
      ],
      "metadata": {
        "colab": {
          "base_uri": "https://localhost:8080/",
          "height": 585
        },
        "id": "ra3U0g0i2Miy",
        "outputId": "12475fd2-9ff5-4d64-ae03-d730ea721572"
      },
      "execution_count": 17,
      "outputs": [
        {
          "output_type": "execute_result",
          "data": {
            "text/plain": [
              "<matplotlib.lines.Line2D at 0x7fa382db1310>"
            ]
          },
          "metadata": {},
          "execution_count": 17
        },
        {
          "output_type": "display_data",
          "data": {
            "text/plain": [
              "<Figure size 1152x648 with 1 Axes>"
            ],
            "image/png": "[encoded data removed]"
          },
          "metadata": {
            "needs_background": "light"
          }
        }
      ]
    },
    {
      "cell_type": "code",
      "source": [
        "from statsmodels.stats.diagnostic import het_white\n",
        "\n",
        "het_white_res = het_white(model.resid, model.model.exog)\n",
        "\n",
        "labels = [\"LM Statistic\", \"LM-Test p-value\", \"F-Statistic\", \"F-Test p-value\"]\n",
        "\n",
        "for key, val in dict(zip(labels, het_white_res)).items():\n",
        "    print(key, val)"
      ],
      "metadata": {
        "colab": {
          "base_uri": "https://localhost:8080/"
        },
        "id": "WYMIRSbQ2kzL",
        "outputId": "0c802c2f-d704-440d-b6f5-dfbf91442c0c"
      },
      "execution_count": 18,
      "outputs": [
        {
          "output_type": "stream",
          "name": "stdout",
          "text": [
            "LM Statistic 33.832488328695135\n",
            "LM-Test p-value 0.0021818792625377618\n",
            "F-Statistic 2.5605512384875624\n",
            "F-Test p-value 0.0016508175429805836\n"
          ]
        }
      ]
    },
    {
      "cell_type": "markdown",
      "source": [
        "(Visually, it appears that we have a rather constant (homoskedastic variance), but our test statistics tell us otherwise & that our model is suffering from heteroskedasticity). Therefore, we can either increase our N, transform variables, or model for the outliers"
      ],
      "metadata": {
        "id": "RVW76X9O2-jJ"
      }
    },
    {
      "cell_type": "markdown",
      "source": [
        "# **Question 4 Likelihood Ratio Test**\n",
        "\n",
        "**Conduct a likelihood ratio test to determine whether the model warrants a random slope effect. For Stata users, you will use the lrtest command (make sure to store the estimates for the random intercept and random slope models). For R users, you will use the anova() function (make sure to specify the object name for the “restricted model” (random intercept) first, followed by the object name for the “unrestricted model” (random slope) second).**"
      ],
      "metadata": {
        "id": "g3i-0SZP0mEm"
      }
    },
    {
      "cell_type": "markdown",
      "source": [
        "For likelihood ratio tests in pyton:\n",
        "\n",
        "https://stackoverflow.com/questions/30541543/how-can-i-perform-a-likelihood-ratio-test-on-a-linear-mixed-effect-model\n",
        "\n"
      ],
      "metadata": {
        "id": "QCmhE2aBwVFR"
      }
    },
    {
      "cell_type": "code",
      "source": [
        "print(model.llf)\n",
        "print(model2.llf)\n",
        "print(model3.llf)"
      ],
      "metadata": {
        "colab": {
          "base_uri": "https://localhost:8080/"
        },
        "id": "BnsZCuSSwb6-",
        "outputId": "b3062108-965e-4228-c949-32b1d00e0632"
      },
      "execution_count": 19,
      "outputs": [
        {
          "output_type": "stream",
          "name": "stdout",
          "text": [
            "-757.6405636421308\n",
            "-759.7101361666531\n",
            "-759.8778835350362\n"
          ]
        }
      ]
    },
    {
      "cell_type": "code",
      "source": [
        "import scipy as scipy"
      ],
      "metadata": {
        "id": "txldxUMmyEfs"
      },
      "execution_count": 20,
      "outputs": []
    },
    {
      "cell_type": "code",
      "source": [
        "\n",
        "#calculate likelihood ratio Chi-Squared test statistic\n",
        "LR_statistic = -2*(model.llf - model3.llf)\n",
        "\n",
        "print(LR_statistic)\n",
        "\n",
        "\n",
        "\n",
        "#calculate p-value of test statistic using 2 degrees of freedom || degrees of freedom is calculated by the total difference of all variables used between the two models\n",
        "p_val = scipy.stats.chi2.sf(LR_statistic, 2)\n",
        "\n",
        "print(p_val)\n",
        "\n"
      ],
      "metadata": {
        "colab": {
          "base_uri": "https://localhost:8080/"
        },
        "id": "1QamQaNXxkX6",
        "outputId": "a1fe9be9-ef7f-4512-e2fd-78daf9427905"
      },
      "execution_count": 21,
      "outputs": [
        {
          "output_type": "stream",
          "name": "stdout",
          "text": [
            "-4.474639785810723\n",
            "1.0\n"
          ]
        }
      ]
    },
    {
      "cell_type": "markdown",
      "source": [
        "**H0: The full model and the nested model fit the data equally well. Thus, you should use the nested model.**\n",
        "\n",
        "**HA: The full model fits the data significantly better than the nested model. Thus, you should use the full model**\n",
        "\n",
        "* **If the p-value of the test is below a certain significance level (e.g. 0.05), then we can reject the null hypothesis and conclude that the full model offers a significantly better fit.**"
      ],
      "metadata": {
        "id": "Udpq8KFdzCQU"
      }
    },
    {
      "cell_type": "markdown",
      "source": [
        "From the output we can see that the Chi-Squared test-statistic is -4.47 and the corresponding p-value is 1.0.\n",
        "\n",
        "Since this p-value is not less than .05, we will fail to reject the null hypothesis.\n",
        "\n",
        "This means the full model and the restricted model (pure random intercept model) fit the data equally well. Thus, we should use the restricted model because the additional predictor variables in the full model don’t offer a significant improvement in fit.\n",
        "\n",
        "Thus, the final model chosen for estimation out of the three estimated in this analysis is model 1 (our most restricted baseline model that estimates a random-intercept model)"
      ],
      "metadata": {
        "id": "En_RPzazyvt3"
      }
    },
    {
      "cell_type": "markdown",
      "source": [
        "# **Question 5**\n",
        "\n",
        "**Explain the importance for estimating a multilevel model for nested data. What are the issues one may encounter if utilizing a pooled model?**"
      ],
      "metadata": {
        "id": "LZ7BXOKZ08zM"
      }
    },
    {
      "cell_type": "markdown",
      "source": [
        "**Answer**:\n",
        "\n",
        "* The importance of estimating a multilevel model for nested data is critical in order to be able to explain all of the levels of variation that go into explaining one's outcome. For instance, by estimating nested data with a multilevel framework, a researcher is able to exploit not only the impacts of group level variation (random effects) but also within unit variation (fixed effects). Depending on the research problem, the researcher can exploit multilevel models further with regard to hypothesizing rates of change for certain variables and how they differ across groups in explaining the variation in a given dependent variable with a random slope, random intercept model. There are so many benefits that one can derive from the multilevel-modeling context as opposed to other pooled estimation techniques that merely seek to estimate \"away\" and not deal with all of the various observed and unobserved heterogeneities. \n",
        "\n",
        "Some issues one may encounter if uitlizing a pooled model is an explicit violation of the asusmption of conditional independence. Our xi's in this case are clearly dependent upon eachother such as a variable such as GDP where GDP one year is a strong determinant of what GDP will look like the next year. One therefore must account for both temporal autocorrelation, but also spatial autocorrelation. For instance, a variable such as trade, if 2 countries are closer toegether spatially, chances are there going to trade more, therefore their erros in the regression model may be correlated as well. One must also be sure that the assumptions of normality hold too. "
      ],
      "metadata": {
        "id": "mzIXDNxe3L2F"
      }
    }
  ]
}