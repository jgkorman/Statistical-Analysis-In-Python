{
  "nbformat": 4,
  "nbformat_minor": 0,
  "metadata": {
    "colab": {
      "name": "Assignment_2_PDLA_Korman_JamesG_ICPSR_2022.ipynb",
      "provenance": [],
      "collapsed_sections": [],
      "mount_file_id": "1nhLTHjg4zwRRp9CPd5u7YPaGG-8bkhAt",
      "authorship_tag": "ABX9TyPoxSO3ducv0KZsTcN2IkZG",
      "include_colab_link": true
    },
    "kernelspec": {
      "name": "python3",
      "display_name": "Python 3"
    },
    "language_info": {
      "name": "python"
    }
  },
  "cells": [
    {
      "cell_type": "markdown",
      "metadata": {
        "id": "view-in-github",
        "colab_type": "text"
      },
      "source": [
        "<a href=\"https://colab.research.google.com/github/jgkorman/Statistical-Analysis-In-Python/blob/main/Assignment_2_PDLA_Korman_JamesG_ICPSR_2022.ipynb\" target=\"_parent\"><img src=\"https://colab.research.google.com/assets/colab-badge.svg\" alt=\"Open In Colab\"/></a>"
      ]
    },
    {
      "cell_type": "markdown",
      "source": [
        "# **ICPSR PDLA Assignment 2**\n",
        "Author: Korman, James, G\n",
        "\n"
      ],
      "metadata": {
        "id": "6JFz_0c3JyiV"
      }
    },
    {
      "cell_type": "markdown",
      "source": [
        "*Note, the assignment starts at the section titled: \"Start of Homework 2 PLDA\"*"
      ],
      "metadata": {
        "id": "Iaj4SMZawUYG"
      }
    },
    {
      "cell_type": "markdown",
      "source": [
        "Useful Links\n",
        "\n",
        "1. https://timeseriesreasoning.com/contents/pooled-ols-regression-models-for-panel-data-sets/\n",
        "\n",
        "2. https://towardsdatascience.com/a-guide-to-panel-data-regression-theoretics-and-implementation-with-python-4c84c5055cf8\n",
        "\n",
        "3. https://bashtage.github.io/linearmodels/index.html\n",
        "\n",
        "4. https://aeturrell.github.io/coding-for-economists/econmt-regression.html\n",
        "\n",
        "5. https://eshinjolly.com/pymer4/\n"
      ],
      "metadata": {
        "id": "899VjNpGqouc"
      }
    },
    {
      "cell_type": "markdown",
      "source": [
        "Cross Sectional Autocorrelation/Dependence Tests\n",
        "1. Breusch-Pagan LM Test\n",
        "2. Pesaran CD Test\n",
        "3. Friedman Rave Test\n",
        "4. Frees FRE Test\n",
        "\n",
        "\n",
        "---\n",
        "\n",
        "Temporal Autocorrelation Tests \n",
        "1. Wooldridge-Drukker test for temporal autocorrelation\n",
        "2. Baltagi-Li test\n",
        "3. Bhargava et al: modified Durbin-Watson with strange critical values\n",
        "4. Baltagi-Wu LBI test: allows for missing data in the middle of the series\n",
        "5. Inoue-Solon and Born-Breitung: allows for testing up to AR(p) processes,\n",
        "can allow for heteroskedasticity\n"
      ],
      "metadata": {
        "id": "ouF-VnyYnhOm"
      }
    },
    {
      "cell_type": "markdown",
      "source": [
        "## **Reading in the Data & Descriptive Statistics**"
      ],
      "metadata": {
        "id": "XX6pl9siLTK0"
      }
    },
    {
      "cell_type": "code",
      "source": [
        "import pandas as pd\n",
        "import numpy as np\n",
        "import matplotlib.pyplot as plt \n",
        "import seaborn as sns\n",
        "\n",
        "import scipy.stats as st\n",
        "import statsmodels.api as sm\n",
        "import statsmodels.graphics.tsaplots as tsap\n",
        "from statsmodels.compat import lzip\n",
        "from statsmodels.stats.diagnostic import het_white\n"
      ],
      "metadata": {
        "id": "cO4iH8u-LRF7"
      },
      "execution_count": 1,
      "outputs": []
    },
    {
      "cell_type": "code",
      "source": [
        "dtafile = '/content/drive/MyDrive/Delaware/ICPSR_2022/Panel Data And Longitudinal Analysis/Assignments/Assignment 2_Topics 3 & 4/Copy of Poe and Tate APSR 1994.dta'\n",
        "\n",
        "df = pd.read_stata(dtafile)\n",
        "df"
      ],
      "metadata": {
        "colab": {
          "base_uri": "https://localhost:8080/",
          "height": 423
        },
        "id": "GfytIpRotE9w",
        "outputId": "85d5f141-5a3a-4235-d5bc-a9519109ffde"
      },
      "execution_count": 2,
      "outputs": [
        {
          "output_type": "execute_result",
          "data": {
            "text/plain": [
              "      ccode  year   vanhdemo      pcgnp  left  ainew  sdnew  milctr2  \\\n",
              "0         2  1980  18.700001  11.347000     0      1      1        0   \n",
              "1         2  1981  18.700001  12.253999     0      1      1        0   \n",
              "2         2  1982  18.700001  13.160000     0      1      1        0   \n",
              "3         2  1983  18.700001  14.172000     0      1      1        0   \n",
              "4         2  1984  16.100000  15.541000     0      1      1        0   \n",
              "...     ...   ...        ...        ...   ...    ...    ...      ...   \n",
              "1219    990  1983        NaN   0.560000     0      1      1        0   \n",
              "1220    990  1984        NaN   0.680000     0      1      1        0   \n",
              "1221    990  1985        NaN   0.620000     0      1      1        0   \n",
              "1222    990  1986        NaN   0.560000     0      1      1        0   \n",
              "1223    990  1987        NaN   0.560000     0      1      1        0   \n",
              "\n",
              "      britinfl       lpop  iwar  cwar    popinc     pcginc  polrtnew  \\\n",
              "0            1  19.243561     0     0  1.008137   7.513738         7   \n",
              "1            1  19.254190     0     0  1.008137   7.993301         7   \n",
              "2            1  19.264490     0     0  1.008137   7.393504         7   \n",
              "3            1  19.274239     0     0  1.008137   7.689969         7   \n",
              "4            1  19.283649     0     0  1.008137   9.659893         7   \n",
              "...        ...        ...   ...   ...       ...        ...       ...   \n",
              "1219         1  11.982929     0     0  1.045530   0.000000         4   \n",
              "1220         1  11.989160     0     0  1.045530  21.428570         4   \n",
              "1221         1  12.001510     0     0  1.045530  -8.823528         4   \n",
              "1222         1  12.013699     0     0  1.045530  -9.677419         4   \n",
              "1223         1  12.021809     0     0  1.045530   0.000000         4   \n",
              "\n",
              "      lag_ainew  lag_sdnew  \n",
              "0           NaN        NaN  \n",
              "1           1.0        1.0  \n",
              "2           1.0        1.0  \n",
              "3           1.0        1.0  \n",
              "4           1.0        1.0  \n",
              "...         ...        ...  \n",
              "1219        1.0        1.0  \n",
              "1220        1.0        1.0  \n",
              "1221        1.0        1.0  \n",
              "1222        1.0        1.0  \n",
              "1223        1.0        1.0  \n",
              "\n",
              "[1224 rows x 17 columns]"
            ],
            "text/html": [
              "\n",
              "  <div id=\"df-969d0cc1-e8f6-44d7-b49e-610387cca81d\">\n",
              "    <div class=\"colab-df-container\">\n",
              "      <div>\n",
              "<style scoped>\n",
              "    .dataframe tbody tr th:only-of-type {\n",
              "        vertical-align: middle;\n",
              "    }\n",
              "\n",
              "    .dataframe tbody tr th {\n",
              "        vertical-align: top;\n",
              "    }\n",
              "\n",
              "    .dataframe thead th {\n",
              "        text-align: right;\n",
              "    }\n",
              "</style>\n",
              "<table border=\"1\" class=\"dataframe\">\n",
              "  <thead>\n",
              "    <tr style=\"text-align: right;\">\n",
              "      <th></th>\n",
              "      <th>ccode</th>\n",
              "      <th>year</th>\n",
              "      <th>vanhdemo</th>\n",
              "      <th>pcgnp</th>\n",
              "      <th>left</th>\n",
              "      <th>ainew</th>\n",
              "      <th>sdnew</th>\n",
              "      <th>milctr2</th>\n",
              "      <th>britinfl</th>\n",
              "      <th>lpop</th>\n",
              "      <th>iwar</th>\n",
              "      <th>cwar</th>\n",
              "      <th>popinc</th>\n",
              "      <th>pcginc</th>\n",
              "      <th>polrtnew</th>\n",
              "      <th>lag_ainew</th>\n",
              "      <th>lag_sdnew</th>\n",
              "    </tr>\n",
              "  </thead>\n",
              "  <tbody>\n",
              "    <tr>\n",
              "      <th>0</th>\n",
              "      <td>2</td>\n",
              "      <td>1980</td>\n",
              "      <td>18.700001</td>\n",
              "      <td>11.347000</td>\n",
              "      <td>0</td>\n",
              "      <td>1</td>\n",
              "      <td>1</td>\n",
              "      <td>0</td>\n",
              "      <td>1</td>\n",
              "      <td>19.243561</td>\n",
              "      <td>0</td>\n",
              "      <td>0</td>\n",
              "      <td>1.008137</td>\n",
              "      <td>7.513738</td>\n",
              "      <td>7</td>\n",
              "      <td>NaN</td>\n",
              "      <td>NaN</td>\n",
              "    </tr>\n",
              "    <tr>\n",
              "      <th>1</th>\n",
              "      <td>2</td>\n",
              "      <td>1981</td>\n",
              "      <td>18.700001</td>\n",
              "      <td>12.253999</td>\n",
              "      <td>0</td>\n",
              "      <td>1</td>\n",
              "      <td>1</td>\n",
              "      <td>0</td>\n",
              "      <td>1</td>\n",
              "      <td>19.254190</td>\n",
              "      <td>0</td>\n",
              "      <td>0</td>\n",
              "      <td>1.008137</td>\n",
              "      <td>7.993301</td>\n",
              "      <td>7</td>\n",
              "      <td>1.0</td>\n",
              "      <td>1.0</td>\n",
              "    </tr>\n",
              "    <tr>\n",
              "      <th>2</th>\n",
              "      <td>2</td>\n",
              "      <td>1982</td>\n",
              "      <td>18.700001</td>\n",
              "      <td>13.160000</td>\n",
              "      <td>0</td>\n",
              "      <td>1</td>\n",
              "      <td>1</td>\n",
              "      <td>0</td>\n",
              "      <td>1</td>\n",
              "      <td>19.264490</td>\n",
              "      <td>0</td>\n",
              "      <td>0</td>\n",
              "      <td>1.008137</td>\n",
              "      <td>7.393504</td>\n",
              "      <td>7</td>\n",
              "      <td>1.0</td>\n",
              "      <td>1.0</td>\n",
              "    </tr>\n",
              "    <tr>\n",
              "      <th>3</th>\n",
              "      <td>2</td>\n",
              "      <td>1983</td>\n",
              "      <td>18.700001</td>\n",
              "      <td>14.172000</td>\n",
              "      <td>0</td>\n",
              "      <td>1</td>\n",
              "      <td>1</td>\n",
              "      <td>0</td>\n",
              "      <td>1</td>\n",
              "      <td>19.274239</td>\n",
              "      <td>0</td>\n",
              "      <td>0</td>\n",
              "      <td>1.008137</td>\n",
              "      <td>7.689969</td>\n",
              "      <td>7</td>\n",
              "      <td>1.0</td>\n",
              "      <td>1.0</td>\n",
              "    </tr>\n",
              "    <tr>\n",
              "      <th>4</th>\n",
              "      <td>2</td>\n",
              "      <td>1984</td>\n",
              "      <td>16.100000</td>\n",
              "      <td>15.541000</td>\n",
              "      <td>0</td>\n",
              "      <td>1</td>\n",
              "      <td>1</td>\n",
              "      <td>0</td>\n",
              "      <td>1</td>\n",
              "      <td>19.283649</td>\n",
              "      <td>0</td>\n",
              "      <td>0</td>\n",
              "      <td>1.008137</td>\n",
              "      <td>9.659893</td>\n",
              "      <td>7</td>\n",
              "      <td>1.0</td>\n",
              "      <td>1.0</td>\n",
              "    </tr>\n",
              "    <tr>\n",
              "      <th>...</th>\n",
              "      <td>...</td>\n",
              "      <td>...</td>\n",
              "      <td>...</td>\n",
              "      <td>...</td>\n",
              "      <td>...</td>\n",
              "      <td>...</td>\n",
              "      <td>...</td>\n",
              "      <td>...</td>\n",
              "      <td>...</td>\n",
              "      <td>...</td>\n",
              "      <td>...</td>\n",
              "      <td>...</td>\n",
              "      <td>...</td>\n",
              "      <td>...</td>\n",
              "      <td>...</td>\n",
              "      <td>...</td>\n",
              "      <td>...</td>\n",
              "    </tr>\n",
              "    <tr>\n",
              "      <th>1219</th>\n",
              "      <td>990</td>\n",
              "      <td>1983</td>\n",
              "      <td>NaN</td>\n",
              "      <td>0.560000</td>\n",
              "      <td>0</td>\n",
              "      <td>1</td>\n",
              "      <td>1</td>\n",
              "      <td>0</td>\n",
              "      <td>1</td>\n",
              "      <td>11.982929</td>\n",
              "      <td>0</td>\n",
              "      <td>0</td>\n",
              "      <td>1.045530</td>\n",
              "      <td>0.000000</td>\n",
              "      <td>4</td>\n",
              "      <td>1.0</td>\n",
              "      <td>1.0</td>\n",
              "    </tr>\n",
              "    <tr>\n",
              "      <th>1220</th>\n",
              "      <td>990</td>\n",
              "      <td>1984</td>\n",
              "      <td>NaN</td>\n",
              "      <td>0.680000</td>\n",
              "      <td>0</td>\n",
              "      <td>1</td>\n",
              "      <td>1</td>\n",
              "      <td>0</td>\n",
              "      <td>1</td>\n",
              "      <td>11.989160</td>\n",
              "      <td>0</td>\n",
              "      <td>0</td>\n",
              "      <td>1.045530</td>\n",
              "      <td>21.428570</td>\n",
              "      <td>4</td>\n",
              "      <td>1.0</td>\n",
              "      <td>1.0</td>\n",
              "    </tr>\n",
              "    <tr>\n",
              "      <th>1221</th>\n",
              "      <td>990</td>\n",
              "      <td>1985</td>\n",
              "      <td>NaN</td>\n",
              "      <td>0.620000</td>\n",
              "      <td>0</td>\n",
              "      <td>1</td>\n",
              "      <td>1</td>\n",
              "      <td>0</td>\n",
              "      <td>1</td>\n",
              "      <td>12.001510</td>\n",
              "      <td>0</td>\n",
              "      <td>0</td>\n",
              "      <td>1.045530</td>\n",
              "      <td>-8.823528</td>\n",
              "      <td>4</td>\n",
              "      <td>1.0</td>\n",
              "      <td>1.0</td>\n",
              "    </tr>\n",
              "    <tr>\n",
              "      <th>1222</th>\n",
              "      <td>990</td>\n",
              "      <td>1986</td>\n",
              "      <td>NaN</td>\n",
              "      <td>0.560000</td>\n",
              "      <td>0</td>\n",
              "      <td>1</td>\n",
              "      <td>1</td>\n",
              "      <td>0</td>\n",
              "      <td>1</td>\n",
              "      <td>12.013699</td>\n",
              "      <td>0</td>\n",
              "      <td>0</td>\n",
              "      <td>1.045530</td>\n",
              "      <td>-9.677419</td>\n",
              "      <td>4</td>\n",
              "      <td>1.0</td>\n",
              "      <td>1.0</td>\n",
              "    </tr>\n",
              "    <tr>\n",
              "      <th>1223</th>\n",
              "      <td>990</td>\n",
              "      <td>1987</td>\n",
              "      <td>NaN</td>\n",
              "      <td>0.560000</td>\n",
              "      <td>0</td>\n",
              "      <td>1</td>\n",
              "      <td>1</td>\n",
              "      <td>0</td>\n",
              "      <td>1</td>\n",
              "      <td>12.021809</td>\n",
              "      <td>0</td>\n",
              "      <td>0</td>\n",
              "      <td>1.045530</td>\n",
              "      <td>0.000000</td>\n",
              "      <td>4</td>\n",
              "      <td>1.0</td>\n",
              "      <td>1.0</td>\n",
              "    </tr>\n",
              "  </tbody>\n",
              "</table>\n",
              "<p>1224 rows × 17 columns</p>\n",
              "</div>\n",
              "      <button class=\"colab-df-convert\" onclick=\"convertToInteractive('df-969d0cc1-e8f6-44d7-b49e-610387cca81d')\"\n",
              "              title=\"Convert this dataframe to an interactive table.\"\n",
              "              style=\"display:none;\">\n",
              "        \n",
              "  <svg xmlns=\"http://www.w3.org/2000/svg\" height=\"24px\"viewBox=\"0 0 24 24\"\n",
              "       width=\"24px\">\n",
              "    <path d=\"M0 0h24v24H0V0z\" fill=\"none\"/>\n",
              "    <path d=\"M18.56 5.44l.94 2.06.94-2.06 2.06-.94-2.06-.94-.94-2.06-.94 2.06-2.06.94zm-11 1L8.5 8.5l.94-2.06 2.06-.94-2.06-.94L8.5 2.5l-.94 2.06-2.06.94zm10 10l.94 2.06.94-2.06 2.06-.94-2.06-.94-.94-2.06-.94 2.06-2.06.94z\"/><path d=\"M17.41 7.96l-1.37-1.37c-.4-.4-.92-.59-1.43-.59-.52 0-1.04.2-1.43.59L10.3 9.45l-7.72 7.72c-.78.78-.78 2.05 0 2.83L4 21.41c.39.39.9.59 1.41.59.51 0 1.02-.2 1.41-.59l7.78-7.78 2.81-2.81c.8-.78.8-2.07 0-2.86zM5.41 20L4 18.59l7.72-7.72 1.47 1.35L5.41 20z\"/>\n",
              "  </svg>\n",
              "      </button>\n",
              "      \n",
              "  <style>\n",
              "    .colab-df-container {\n",
              "      display:flex;\n",
              "      flex-wrap:wrap;\n",
              "      gap: 12px;\n",
              "    }\n",
              "\n",
              "    .colab-df-convert {\n",
              "      background-color: #E8F0FE;\n",
              "      border: none;\n",
              "      border-radius: 50%;\n",
              "      cursor: pointer;\n",
              "      display: none;\n",
              "      fill: #1967D2;\n",
              "      height: 32px;\n",
              "      padding: 0 0 0 0;\n",
              "      width: 32px;\n",
              "    }\n",
              "\n",
              "    .colab-df-convert:hover {\n",
              "      background-color: #E2EBFA;\n",
              "      box-shadow: 0px 1px 2px rgba(60, 64, 67, 0.3), 0px 1px 3px 1px rgba(60, 64, 67, 0.15);\n",
              "      fill: #174EA6;\n",
              "    }\n",
              "\n",
              "    [theme=dark] .colab-df-convert {\n",
              "      background-color: #3B4455;\n",
              "      fill: #D2E3FC;\n",
              "    }\n",
              "\n",
              "    [theme=dark] .colab-df-convert:hover {\n",
              "      background-color: #434B5C;\n",
              "      box-shadow: 0px 1px 3px 1px rgba(0, 0, 0, 0.15);\n",
              "      filter: drop-shadow(0px 1px 2px rgba(0, 0, 0, 0.3));\n",
              "      fill: #FFFFFF;\n",
              "    }\n",
              "  </style>\n",
              "\n",
              "      <script>\n",
              "        const buttonEl =\n",
              "          document.querySelector('#df-969d0cc1-e8f6-44d7-b49e-610387cca81d button.colab-df-convert');\n",
              "        buttonEl.style.display =\n",
              "          google.colab.kernel.accessAllowed ? 'block' : 'none';\n",
              "\n",
              "        async function convertToInteractive(key) {\n",
              "          const element = document.querySelector('#df-969d0cc1-e8f6-44d7-b49e-610387cca81d');\n",
              "          const dataTable =\n",
              "            await google.colab.kernel.invokeFunction('convertToInteractive',\n",
              "                                                     [key], {});\n",
              "          if (!dataTable) return;\n",
              "\n",
              "          const docLinkHtml = 'Like what you see? Visit the ' +\n",
              "            '<a target=\"_blank\" href=https://colab.research.google.com/notebooks/data_table.ipynb>data table notebook</a>'\n",
              "            + ' to learn more about interactive tables.';\n",
              "          element.innerHTML = '';\n",
              "          dataTable['output_type'] = 'display_data';\n",
              "          await google.colab.output.renderOutput(dataTable, element);\n",
              "          const docLink = document.createElement('div');\n",
              "          docLink.innerHTML = docLinkHtml;\n",
              "          element.appendChild(docLink);\n",
              "        }\n",
              "      </script>\n",
              "    </div>\n",
              "  </div>\n",
              "  "
            ]
          },
          "metadata": {},
          "execution_count": 2
        }
      ]
    },
    {
      "cell_type": "markdown",
      "source": [
        "# **1. The Pooled Cross-Section Model** (unit levels and time structure) ie not setting them in the multi-index "
      ],
      "metadata": {
        "id": "ZUzfxs7IB6Ei"
      }
    },
    {
      "cell_type": "markdown",
      "source": [
        "### **a. Building the Model** "
      ],
      "metadata": {
        "id": "lEcvKPfzxMKa"
      }
    },
    {
      "cell_type": "markdown",
      "source": [
        "**1. Defining the X and Y Variables**"
      ],
      "metadata": {
        "id": "Y7IMmaM7xTVp"
      }
    },
    {
      "cell_type": "code",
      "source": [
        "y_var_name = 'pcgnp'\n",
        "X_var_names = ['lpop', 'popinc', 'left']"
      ],
      "metadata": {
        "id": "OuUgVlpGxbvD"
      },
      "execution_count": 3,
      "outputs": []
    },
    {
      "cell_type": "markdown",
      "source": [
        "**2. Carve out the Y vector from the Panel Data**"
      ],
      "metadata": {
        "id": "WBjTrdy_x7vT"
      }
    },
    {
      "cell_type": "code",
      "source": [
        "pooled_y = df[y_var_name]\n"
      ],
      "metadata": {
        "id": "R16k9Ujkx7Yr"
      },
      "execution_count": 4,
      "outputs": []
    },
    {
      "cell_type": "markdown",
      "source": [
        "**3. Carve out the X matrix from the data panel:**"
      ],
      "metadata": {
        "id": "hDwzIyb9yl1V"
      }
    },
    {
      "cell_type": "code",
      "source": [
        "pooled_X = df[X_var_names]\n",
        "pooled_X"
      ],
      "metadata": {
        "colab": {
          "base_uri": "https://localhost:8080/",
          "height": 423
        },
        "id": "jvDMt3NVyoDB",
        "outputId": "bb243e2a-da0e-4d01-86a3-6ec636d8c7e5"
      },
      "execution_count": 5,
      "outputs": [
        {
          "output_type": "execute_result",
          "data": {
            "text/plain": [
              "           lpop    popinc  left\n",
              "0     19.243561  1.008137     0\n",
              "1     19.254190  1.008137     0\n",
              "2     19.264490  1.008137     0\n",
              "3     19.274239  1.008137     0\n",
              "4     19.283649  1.008137     0\n",
              "...         ...       ...   ...\n",
              "1219  11.982929  1.045530     0\n",
              "1220  11.989160  1.045530     0\n",
              "1221  12.001510  1.045530     0\n",
              "1222  12.013699  1.045530     0\n",
              "1223  12.021809  1.045530     0\n",
              "\n",
              "[1224 rows x 3 columns]"
            ],
            "text/html": [
              "\n",
              "  <div id=\"df-5056b03b-ed3f-456b-bfb0-e81c5f76d363\">\n",
              "    <div class=\"colab-df-container\">\n",
              "      <div>\n",
              "<style scoped>\n",
              "    .dataframe tbody tr th:only-of-type {\n",
              "        vertical-align: middle;\n",
              "    }\n",
              "\n",
              "    .dataframe tbody tr th {\n",
              "        vertical-align: top;\n",
              "    }\n",
              "\n",
              "    .dataframe thead th {\n",
              "        text-align: right;\n",
              "    }\n",
              "</style>\n",
              "<table border=\"1\" class=\"dataframe\">\n",
              "  <thead>\n",
              "    <tr style=\"text-align: right;\">\n",
              "      <th></th>\n",
              "      <th>lpop</th>\n",
              "      <th>popinc</th>\n",
              "      <th>left</th>\n",
              "    </tr>\n",
              "  </thead>\n",
              "  <tbody>\n",
              "    <tr>\n",
              "      <th>0</th>\n",
              "      <td>19.243561</td>\n",
              "      <td>1.008137</td>\n",
              "      <td>0</td>\n",
              "    </tr>\n",
              "    <tr>\n",
              "      <th>1</th>\n",
              "      <td>19.254190</td>\n",
              "      <td>1.008137</td>\n",
              "      <td>0</td>\n",
              "    </tr>\n",
              "    <tr>\n",
              "      <th>2</th>\n",
              "      <td>19.264490</td>\n",
              "      <td>1.008137</td>\n",
              "      <td>0</td>\n",
              "    </tr>\n",
              "    <tr>\n",
              "      <th>3</th>\n",
              "      <td>19.274239</td>\n",
              "      <td>1.008137</td>\n",
              "      <td>0</td>\n",
              "    </tr>\n",
              "    <tr>\n",
              "      <th>4</th>\n",
              "      <td>19.283649</td>\n",
              "      <td>1.008137</td>\n",
              "      <td>0</td>\n",
              "    </tr>\n",
              "    <tr>\n",
              "      <th>...</th>\n",
              "      <td>...</td>\n",
              "      <td>...</td>\n",
              "      <td>...</td>\n",
              "    </tr>\n",
              "    <tr>\n",
              "      <th>1219</th>\n",
              "      <td>11.982929</td>\n",
              "      <td>1.045530</td>\n",
              "      <td>0</td>\n",
              "    </tr>\n",
              "    <tr>\n",
              "      <th>1220</th>\n",
              "      <td>11.989160</td>\n",
              "      <td>1.045530</td>\n",
              "      <td>0</td>\n",
              "    </tr>\n",
              "    <tr>\n",
              "      <th>1221</th>\n",
              "      <td>12.001510</td>\n",
              "      <td>1.045530</td>\n",
              "      <td>0</td>\n",
              "    </tr>\n",
              "    <tr>\n",
              "      <th>1222</th>\n",
              "      <td>12.013699</td>\n",
              "      <td>1.045530</td>\n",
              "      <td>0</td>\n",
              "    </tr>\n",
              "    <tr>\n",
              "      <th>1223</th>\n",
              "      <td>12.021809</td>\n",
              "      <td>1.045530</td>\n",
              "      <td>0</td>\n",
              "    </tr>\n",
              "  </tbody>\n",
              "</table>\n",
              "<p>1224 rows × 3 columns</p>\n",
              "</div>\n",
              "      <button class=\"colab-df-convert\" onclick=\"convertToInteractive('df-5056b03b-ed3f-456b-bfb0-e81c5f76d363')\"\n",
              "              title=\"Convert this dataframe to an interactive table.\"\n",
              "              style=\"display:none;\">\n",
              "        \n",
              "  <svg xmlns=\"http://www.w3.org/2000/svg\" height=\"24px\"viewBox=\"0 0 24 24\"\n",
              "       width=\"24px\">\n",
              "    <path d=\"M0 0h24v24H0V0z\" fill=\"none\"/>\n",
              "    <path d=\"M18.56 5.44l.94 2.06.94-2.06 2.06-.94-2.06-.94-.94-2.06-.94 2.06-2.06.94zm-11 1L8.5 8.5l.94-2.06 2.06-.94-2.06-.94L8.5 2.5l-.94 2.06-2.06.94zm10 10l.94 2.06.94-2.06 2.06-.94-2.06-.94-.94-2.06-.94 2.06-2.06.94z\"/><path d=\"M17.41 7.96l-1.37-1.37c-.4-.4-.92-.59-1.43-.59-.52 0-1.04.2-1.43.59L10.3 9.45l-7.72 7.72c-.78.78-.78 2.05 0 2.83L4 21.41c.39.39.9.59 1.41.59.51 0 1.02-.2 1.41-.59l7.78-7.78 2.81-2.81c.8-.78.8-2.07 0-2.86zM5.41 20L4 18.59l7.72-7.72 1.47 1.35L5.41 20z\"/>\n",
              "  </svg>\n",
              "      </button>\n",
              "      \n",
              "  <style>\n",
              "    .colab-df-container {\n",
              "      display:flex;\n",
              "      flex-wrap:wrap;\n",
              "      gap: 12px;\n",
              "    }\n",
              "\n",
              "    .colab-df-convert {\n",
              "      background-color: #E8F0FE;\n",
              "      border: none;\n",
              "      border-radius: 50%;\n",
              "      cursor: pointer;\n",
              "      display: none;\n",
              "      fill: #1967D2;\n",
              "      height: 32px;\n",
              "      padding: 0 0 0 0;\n",
              "      width: 32px;\n",
              "    }\n",
              "\n",
              "    .colab-df-convert:hover {\n",
              "      background-color: #E2EBFA;\n",
              "      box-shadow: 0px 1px 2px rgba(60, 64, 67, 0.3), 0px 1px 3px 1px rgba(60, 64, 67, 0.15);\n",
              "      fill: #174EA6;\n",
              "    }\n",
              "\n",
              "    [theme=dark] .colab-df-convert {\n",
              "      background-color: #3B4455;\n",
              "      fill: #D2E3FC;\n",
              "    }\n",
              "\n",
              "    [theme=dark] .colab-df-convert:hover {\n",
              "      background-color: #434B5C;\n",
              "      box-shadow: 0px 1px 3px 1px rgba(0, 0, 0, 0.15);\n",
              "      filter: drop-shadow(0px 1px 2px rgba(0, 0, 0, 0.3));\n",
              "      fill: #FFFFFF;\n",
              "    }\n",
              "  </style>\n",
              "\n",
              "      <script>\n",
              "        const buttonEl =\n",
              "          document.querySelector('#df-5056b03b-ed3f-456b-bfb0-e81c5f76d363 button.colab-df-convert');\n",
              "        buttonEl.style.display =\n",
              "          google.colab.kernel.accessAllowed ? 'block' : 'none';\n",
              "\n",
              "        async function convertToInteractive(key) {\n",
              "          const element = document.querySelector('#df-5056b03b-ed3f-456b-bfb0-e81c5f76d363');\n",
              "          const dataTable =\n",
              "            await google.colab.kernel.invokeFunction('convertToInteractive',\n",
              "                                                     [key], {});\n",
              "          if (!dataTable) return;\n",
              "\n",
              "          const docLinkHtml = 'Like what you see? Visit the ' +\n",
              "            '<a target=\"_blank\" href=https://colab.research.google.com/notebooks/data_table.ipynb>data table notebook</a>'\n",
              "            + ' to learn more about interactive tables.';\n",
              "          element.innerHTML = '';\n",
              "          dataTable['output_type'] = 'display_data';\n",
              "          await google.colab.output.renderOutput(dataTable, element);\n",
              "          const docLink = document.createElement('div');\n",
              "          docLink.innerHTML = docLinkHtml;\n",
              "          element.appendChild(docLink);\n",
              "        }\n",
              "      </script>\n",
              "    </div>\n",
              "  </div>\n",
              "  "
            ]
          },
          "metadata": {},
          "execution_count": 5
        }
      ]
    },
    {
      "cell_type": "markdown",
      "source": [
        "**4. Add the placeholder for the regression intercept. When the model is fitted, the coefficient of this variable is the regression model’s intercept β_0.**"
      ],
      "metadata": {
        "id": "k6U88Zz-yylH"
      }
    },
    {
      "cell_type": "code",
      "source": [
        "pooled_X = sm.add_constant(pooled_X)\n",
        "pooled_X"
      ],
      "metadata": {
        "colab": {
          "base_uri": "https://localhost:8080/",
          "height": 423
        },
        "id": "4uZPpREwy61S",
        "outputId": "20650f23-29df-442c-cc9b-5dbaf8bbf6c3"
      },
      "execution_count": 6,
      "outputs": [
        {
          "output_type": "execute_result",
          "data": {
            "text/plain": [
              "      const       lpop    popinc  left\n",
              "0       1.0  19.243561  1.008137     0\n",
              "1       1.0  19.254190  1.008137     0\n",
              "2       1.0  19.264490  1.008137     0\n",
              "3       1.0  19.274239  1.008137     0\n",
              "4       1.0  19.283649  1.008137     0\n",
              "...     ...        ...       ...   ...\n",
              "1219    1.0  11.982929  1.045530     0\n",
              "1220    1.0  11.989160  1.045530     0\n",
              "1221    1.0  12.001510  1.045530     0\n",
              "1222    1.0  12.013699  1.045530     0\n",
              "1223    1.0  12.021809  1.045530     0\n",
              "\n",
              "[1224 rows x 4 columns]"
            ],
            "text/html": [
              "\n",
              "  <div id=\"df-48e00f81-81bd-45fb-8c74-e38bc0af5656\">\n",
              "    <div class=\"colab-df-container\">\n",
              "      <div>\n",
              "<style scoped>\n",
              "    .dataframe tbody tr th:only-of-type {\n",
              "        vertical-align: middle;\n",
              "    }\n",
              "\n",
              "    .dataframe tbody tr th {\n",
              "        vertical-align: top;\n",
              "    }\n",
              "\n",
              "    .dataframe thead th {\n",
              "        text-align: right;\n",
              "    }\n",
              "</style>\n",
              "<table border=\"1\" class=\"dataframe\">\n",
              "  <thead>\n",
              "    <tr style=\"text-align: right;\">\n",
              "      <th></th>\n",
              "      <th>const</th>\n",
              "      <th>lpop</th>\n",
              "      <th>popinc</th>\n",
              "      <th>left</th>\n",
              "    </tr>\n",
              "  </thead>\n",
              "  <tbody>\n",
              "    <tr>\n",
              "      <th>0</th>\n",
              "      <td>1.0</td>\n",
              "      <td>19.243561</td>\n",
              "      <td>1.008137</td>\n",
              "      <td>0</td>\n",
              "    </tr>\n",
              "    <tr>\n",
              "      <th>1</th>\n",
              "      <td>1.0</td>\n",
              "      <td>19.254190</td>\n",
              "      <td>1.008137</td>\n",
              "      <td>0</td>\n",
              "    </tr>\n",
              "    <tr>\n",
              "      <th>2</th>\n",
              "      <td>1.0</td>\n",
              "      <td>19.264490</td>\n",
              "      <td>1.008137</td>\n",
              "      <td>0</td>\n",
              "    </tr>\n",
              "    <tr>\n",
              "      <th>3</th>\n",
              "      <td>1.0</td>\n",
              "      <td>19.274239</td>\n",
              "      <td>1.008137</td>\n",
              "      <td>0</td>\n",
              "    </tr>\n",
              "    <tr>\n",
              "      <th>4</th>\n",
              "      <td>1.0</td>\n",
              "      <td>19.283649</td>\n",
              "      <td>1.008137</td>\n",
              "      <td>0</td>\n",
              "    </tr>\n",
              "    <tr>\n",
              "      <th>...</th>\n",
              "      <td>...</td>\n",
              "      <td>...</td>\n",
              "      <td>...</td>\n",
              "      <td>...</td>\n",
              "    </tr>\n",
              "    <tr>\n",
              "      <th>1219</th>\n",
              "      <td>1.0</td>\n",
              "      <td>11.982929</td>\n",
              "      <td>1.045530</td>\n",
              "      <td>0</td>\n",
              "    </tr>\n",
              "    <tr>\n",
              "      <th>1220</th>\n",
              "      <td>1.0</td>\n",
              "      <td>11.989160</td>\n",
              "      <td>1.045530</td>\n",
              "      <td>0</td>\n",
              "    </tr>\n",
              "    <tr>\n",
              "      <th>1221</th>\n",
              "      <td>1.0</td>\n",
              "      <td>12.001510</td>\n",
              "      <td>1.045530</td>\n",
              "      <td>0</td>\n",
              "    </tr>\n",
              "    <tr>\n",
              "      <th>1222</th>\n",
              "      <td>1.0</td>\n",
              "      <td>12.013699</td>\n",
              "      <td>1.045530</td>\n",
              "      <td>0</td>\n",
              "    </tr>\n",
              "    <tr>\n",
              "      <th>1223</th>\n",
              "      <td>1.0</td>\n",
              "      <td>12.021809</td>\n",
              "      <td>1.045530</td>\n",
              "      <td>0</td>\n",
              "    </tr>\n",
              "  </tbody>\n",
              "</table>\n",
              "<p>1224 rows × 4 columns</p>\n",
              "</div>\n",
              "      <button class=\"colab-df-convert\" onclick=\"convertToInteractive('df-48e00f81-81bd-45fb-8c74-e38bc0af5656')\"\n",
              "              title=\"Convert this dataframe to an interactive table.\"\n",
              "              style=\"display:none;\">\n",
              "        \n",
              "  <svg xmlns=\"http://www.w3.org/2000/svg\" height=\"24px\"viewBox=\"0 0 24 24\"\n",
              "       width=\"24px\">\n",
              "    <path d=\"M0 0h24v24H0V0z\" fill=\"none\"/>\n",
              "    <path d=\"M18.56 5.44l.94 2.06.94-2.06 2.06-.94-2.06-.94-.94-2.06-.94 2.06-2.06.94zm-11 1L8.5 8.5l.94-2.06 2.06-.94-2.06-.94L8.5 2.5l-.94 2.06-2.06.94zm10 10l.94 2.06.94-2.06 2.06-.94-2.06-.94-.94-2.06-.94 2.06-2.06.94z\"/><path d=\"M17.41 7.96l-1.37-1.37c-.4-.4-.92-.59-1.43-.59-.52 0-1.04.2-1.43.59L10.3 9.45l-7.72 7.72c-.78.78-.78 2.05 0 2.83L4 21.41c.39.39.9.59 1.41.59.51 0 1.02-.2 1.41-.59l7.78-7.78 2.81-2.81c.8-.78.8-2.07 0-2.86zM5.41 20L4 18.59l7.72-7.72 1.47 1.35L5.41 20z\"/>\n",
              "  </svg>\n",
              "      </button>\n",
              "      \n",
              "  <style>\n",
              "    .colab-df-container {\n",
              "      display:flex;\n",
              "      flex-wrap:wrap;\n",
              "      gap: 12px;\n",
              "    }\n",
              "\n",
              "    .colab-df-convert {\n",
              "      background-color: #E8F0FE;\n",
              "      border: none;\n",
              "      border-radius: 50%;\n",
              "      cursor: pointer;\n",
              "      display: none;\n",
              "      fill: #1967D2;\n",
              "      height: 32px;\n",
              "      padding: 0 0 0 0;\n",
              "      width: 32px;\n",
              "    }\n",
              "\n",
              "    .colab-df-convert:hover {\n",
              "      background-color: #E2EBFA;\n",
              "      box-shadow: 0px 1px 2px rgba(60, 64, 67, 0.3), 0px 1px 3px 1px rgba(60, 64, 67, 0.15);\n",
              "      fill: #174EA6;\n",
              "    }\n",
              "\n",
              "    [theme=dark] .colab-df-convert {\n",
              "      background-color: #3B4455;\n",
              "      fill: #D2E3FC;\n",
              "    }\n",
              "\n",
              "    [theme=dark] .colab-df-convert:hover {\n",
              "      background-color: #434B5C;\n",
              "      box-shadow: 0px 1px 3px 1px rgba(0, 0, 0, 0.15);\n",
              "      filter: drop-shadow(0px 1px 2px rgba(0, 0, 0, 0.3));\n",
              "      fill: #FFFFFF;\n",
              "    }\n",
              "  </style>\n",
              "\n",
              "      <script>\n",
              "        const buttonEl =\n",
              "          document.querySelector('#df-48e00f81-81bd-45fb-8c74-e38bc0af5656 button.colab-df-convert');\n",
              "        buttonEl.style.display =\n",
              "          google.colab.kernel.accessAllowed ? 'block' : 'none';\n",
              "\n",
              "        async function convertToInteractive(key) {\n",
              "          const element = document.querySelector('#df-48e00f81-81bd-45fb-8c74-e38bc0af5656');\n",
              "          const dataTable =\n",
              "            await google.colab.kernel.invokeFunction('convertToInteractive',\n",
              "                                                     [key], {});\n",
              "          if (!dataTable) return;\n",
              "\n",
              "          const docLinkHtml = 'Like what you see? Visit the ' +\n",
              "            '<a target=\"_blank\" href=https://colab.research.google.com/notebooks/data_table.ipynb>data table notebook</a>'\n",
              "            + ' to learn more about interactive tables.';\n",
              "          element.innerHTML = '';\n",
              "          dataTable['output_type'] = 'display_data';\n",
              "          await google.colab.output.renderOutput(dataTable, element);\n",
              "          const docLink = document.createElement('div');\n",
              "          docLink.innerHTML = docLinkHtml;\n",
              "          element.appendChild(docLink);\n",
              "        }\n",
              "      </script>\n",
              "    </div>\n",
              "  </div>\n",
              "  "
            ]
          },
          "metadata": {},
          "execution_count": 6
        }
      ]
    },
    {
      "cell_type": "markdown",
      "source": [
        "**5. Build the OLS regression model:**"
      ],
      "metadata": {
        "id": "sNCnJQPwzH7o"
      }
    },
    {
      "cell_type": "code",
      "source": [
        "pooled_olsr_model = sm.OLS(endog=pooled_y, exog=pooled_X)\n",
        "pooled_olsr_model"
      ],
      "metadata": {
        "colab": {
          "base_uri": "https://localhost:8080/"
        },
        "id": "NywwdkXszKzo",
        "outputId": "11a146a2-71fe-4d47-a010-093cd951a719"
      },
      "execution_count": 7,
      "outputs": [
        {
          "output_type": "execute_result",
          "data": {
            "text/plain": [
              "<statsmodels.regression.linear_model.OLS at 0x7f1d9291a8d0>"
            ]
          },
          "metadata": {},
          "execution_count": 7
        }
      ]
    },
    {
      "cell_type": "markdown",
      "source": [
        "**6. Train the model on the (y, X) data set and fetch the training results:**"
      ],
      "metadata": {
        "id": "-UbBDF1B1m4I"
      }
    },
    {
      "cell_type": "code",
      "source": [
        "pooled_olsr_model_results = pooled_olsr_model.fit()"
      ],
      "metadata": {
        "id": "pOwXKObf1p0x"
      },
      "execution_count": 8,
      "outputs": []
    },
    {
      "cell_type": "markdown",
      "source": [
        "**7. Print the Training Summary**"
      ],
      "metadata": {
        "id": "5OAM8c-412GB"
      }
    },
    {
      "cell_type": "code",
      "source": [
        "print(pooled_olsr_model_results.summary())"
      ],
      "metadata": {
        "colab": {
          "base_uri": "https://localhost:8080/"
        },
        "id": "sz9orsGo17Hw",
        "outputId": "2939fb40-ad50-4563-af91-4b761126ba96"
      },
      "execution_count": 9,
      "outputs": [
        {
          "output_type": "stream",
          "name": "stdout",
          "text": [
            "                            OLS Regression Results                            \n",
            "==============================================================================\n",
            "Dep. Variable:                  pcgnp   R-squared:                       0.041\n",
            "Model:                            OLS   Adj. R-squared:                  0.039\n",
            "Method:                 Least Squares   F-statistic:                     17.34\n",
            "Date:                Sun, 24 Jul 2022   Prob (F-statistic):           4.99e-11\n",
            "Time:                        19:50:20   Log-Likelihood:                -3668.0\n",
            "No. Observations:                1224   AIC:                             7344.\n",
            "Df Residuals:                    1220   BIC:                             7364.\n",
            "Df Model:                           3                                         \n",
            "Covariance Type:            nonrobust                                         \n",
            "==============================================================================\n",
            "                 coef    std err          t      P>|t|      [0.025      0.975]\n",
            "------------------------------------------------------------------------------\n",
            "const          5.6468      1.166      4.842      0.000       3.359       7.935\n",
            "lpop          -0.0494      0.073     -0.679      0.497      -0.192       0.093\n",
            "popinc        -0.4088      0.081     -5.057      0.000      -0.567      -0.250\n",
            "left          -2.0039      0.349     -5.743      0.000      -2.688      -1.319\n",
            "==============================================================================\n",
            "Omnibus:                      527.403   Durbin-Watson:                   0.196\n",
            "Prob(Omnibus):                  0.000   Jarque-Bera (JB):             2135.851\n",
            "Skew:                           2.091   Prob(JB):                         0.00\n",
            "Kurtosis:                       7.939   Cond. No.                         133.\n",
            "==============================================================================\n",
            "\n",
            "Notes:\n",
            "[1] Standard Errors assume that the covariance matrix of the errors is correctly specified.\n"
          ]
        }
      ]
    },
    {
      "cell_type": "markdown",
      "source": [
        "### **b. Analyzing the Goodness of Fit**"
      ],
      "metadata": {
        "id": "io9fY-Z14FMv"
      }
    },
    {
      "cell_type": "markdown",
      "source": [
        "1. Overall, we explained about 4% of the variation in pcgnp from the Adj R^2"
      ],
      "metadata": {
        "id": "awwa4P0D4Q8X"
      }
    },
    {
      "cell_type": "markdown",
      "source": [
        "### **c. Analyzing the residuals (errors)**"
      ],
      "metadata": {
        "id": "nvygiXly4uBv"
      }
    },
    {
      "cell_type": "code",
      "source": [
        "print(pooled_olsr_model_results.resid)"
      ],
      "metadata": {
        "colab": {
          "base_uri": "https://localhost:8080/"
        },
        "id": "FfI5lLBD4sLv",
        "outputId": "b84890cc-8d7f-44f7-fad8-d1d26645b5dc"
      },
      "execution_count": 10,
      "outputs": [
        {
          "output_type": "stream",
          "name": "stdout",
          "text": [
            "0        7.062879\n",
            "1        7.970402\n",
            "2        8.876912\n",
            "3        9.889394\n",
            "4       11.258859\n",
            "          ...    \n",
            "1219    -4.067482\n",
            "1220    -3.947174\n",
            "1221    -4.006564\n",
            "1222    -4.065962\n",
            "1223    -4.065562\n",
            "Length: 1224, dtype: float64\n"
          ]
        }
      ]
    },
    {
      "cell_type": "code",
      "source": [
        "# the mean value of the residual errors\n",
        "print('Mean value of residual errors='+str(pooled_olsr_model_results.resid.mean()))"
      ],
      "metadata": {
        "colab": {
          "base_uri": "https://localhost:8080/"
        },
        "id": "tX5G9Dqw4763",
        "outputId": "2733baed-4155-4570-bd6e-94dd20f96977"
      },
      "execution_count": 11,
      "outputs": [
        {
          "output_type": "stream",
          "name": "stdout",
          "text": [
            "Mean value of residual errors=-7.430512269386669e-16\n"
          ]
        }
      ]
    },
    {
      "cell_type": "code",
      "source": [
        "# analyzing the normality of the errors\n",
        "sm.qqplot(data=pooled_olsr_model_results.resid, line='45')\n",
        "plt.show()"
      ],
      "metadata": {
        "colab": {
          "base_uri": "https://localhost:8080/",
          "height": 279
        },
        "id": "jwJppGXd5GAv",
        "outputId": "b9242ffb-4f58-4e65-d03b-00f82c210aff"
      },
      "execution_count": 12,
      "outputs": [
        {
          "output_type": "display_data",
          "data": {
            "text/plain": [
              "<Figure size 432x288 with 1 Axes>"
            ],
            "image/png": "[encoded data removed]"
          },
          "metadata": {
            "needs_background": "light"
          }
        }
      ]
    },
    {
      "cell_type": "markdown",
      "source": [
        "Are data are in need of heavy transformation, the assumption of normality of the residuals in this context does not hold. Our Jarque_bera test in the model output also confirms this as it is greater than p < 0.001"
      ],
      "metadata": {
        "id": "cFF68zhs5L3A"
      }
    },
    {
      "cell_type": "code",
      "source": [
        "# analyzing heteroskeasticity \n",
        "fig, ax = plt.subplots()\n",
        "fig.suptitle('Raw residuals of Pooled OLS versus X')\n",
        "plt.ylabel('Residual (y - mu)')\n",
        "plt.xlabel('X='+str(X_var_names[0]))\n",
        "ax.scatter(pooled_X[X_var_names[0]], pooled_olsr_model_results.resid, s=4, c='black', label='Residual Error')\n",
        "plt.show()"
      ],
      "metadata": {
        "colab": {
          "base_uri": "https://localhost:8080/",
          "height": 308
        },
        "id": "4MRkm6ET5Rn_",
        "outputId": "c05072bc-1989-4ba0-d80c-e257925edb13"
      },
      "execution_count": 13,
      "outputs": [
        {
          "output_type": "display_data",
          "data": {
            "text/plain": [
              "<Figure size 432x288 with 1 Axes>"
            ],
            "image/png": "[encoded data removed]"
          },
          "metadata": {
            "needs_background": "light"
          }
        }
      ]
    },
    {
      "cell_type": "markdown",
      "source": [
        "There appears to be a decent amount of heteroskedasticity in the model (alot). It is clear some obseratiosn are predicting pcgnp better than others. "
      ],
      "metadata": {
        "id": "RdcHKjCp6fi9"
      }
    },
    {
      "cell_type": "code",
      "source": [
        "# The heteroskedasticity can be confirmed running the White test in which we will regress the square of the \n",
        "#residual on X and test the significance of resulting regression model’s coefficients as follows:\n",
        "\n",
        "keys = ['Lagrange Multiplier statistic:', 'LM test\\'s p-value:',\n",
        "        'F-statistic:', 'F-test\\'s ' 'p-value:']\n",
        "\n",
        "results = het_white(resid=pooled_olsr_model_results.resid, exog=pooled_X)\n",
        " \n",
        "print('Results of the White test for heteroskedasticity of residual errors ===> ')\n",
        " \n",
        "print(lzip(keys,results))"
      ],
      "metadata": {
        "colab": {
          "base_uri": "https://localhost:8080/"
        },
        "id": "GJ0a_0SQ62Wt",
        "outputId": "6a29c4bf-1aca-4cc5-f39b-79b2fa40c13a"
      },
      "execution_count": 14,
      "outputs": [
        {
          "output_type": "stream",
          "name": "stdout",
          "text": [
            "Results of the White test for heteroskedasticity of residual errors ===> \n",
            "[('Lagrange Multiplier statistic:', 347.9447613982495), (\"LM test's p-value:\", 2.4863085751182453e-70), ('F-statistic:', 60.32052353422633), (\"F-test's p-value:\", 5.058558081682303e-83)]\n"
          ]
        }
      ]
    },
    {
      "cell_type": "markdown",
      "source": [
        "The LM test’s p-value is < .001 indicating a rejection of the Null hypothesis of the White test that the residuals are homoskedastic"
      ],
      "metadata": {
        "id": "6npNGuDy7Unt"
      }
    },
    {
      "cell_type": "code",
      "source": [
        "# Are the residual errors correlated w/ response variables Y?\n",
        "fig, ax = plt.subplots()\n",
        "fig.suptitle('Raw residuals of Pooled OLS versus y')\n",
        "plt.ylabel('Residual (y - mu)')\n",
        "plt.xlabel('y')\n",
        "ax.scatter(pooled_y, pooled_olsr_model_results.resid, s=4, c='black', label='Residual Error')\n",
        "plt.show()"
      ],
      "metadata": {
        "colab": {
          "base_uri": "https://localhost:8080/",
          "height": 308
        },
        "id": "Y7Mv8NkU7iLP",
        "outputId": "bdd51dec-4d07-44a4-dcff-a64fb87de88e"
      },
      "execution_count": 15,
      "outputs": [
        {
          "output_type": "display_data",
          "data": {
            "text/plain": [
              "<Figure size 432x288 with 1 Axes>"
            ],
            "image/png": "[encoded data removed]"
          },
          "metadata": {
            "needs_background": "light"
          }
        }
      ]
    },
    {
      "cell_type": "markdown",
      "source": [
        "There seems to be what looks like a linear trend between the residual errors and y. A correlation test using Pearson’s r confirms this visual judgement:"
      ],
      "metadata": {
        "id": "jjB8lNIh7s0d"
      }
    },
    {
      "cell_type": "code",
      "source": [
        "keys = ['Pearson\\'s r:', 'p-value']\n",
        "results = st.pearsonr(x=pooled_y, y=pooled_olsr_model_results.resid)\n",
        "print('Results of the Pearson\\'s r test of correlation between the residual errors and the response variable y ===>')\n",
        "print(lzip(keys,results))"
      ],
      "metadata": {
        "colab": {
          "base_uri": "https://localhost:8080/"
        },
        "id": "Jm8iXmQV7vI8",
        "outputId": "8eaf1a41-4811-490a-ab02-6a644cb3c40f"
      },
      "execution_count": 16,
      "outputs": [
        {
          "output_type": "stream",
          "name": "stdout",
          "text": [
            "Results of the Pearson's r test of correlation between the residual errors and the response variable y ===>\n",
            "[(\"Pearson's r:\", 0.9793391954085706), ('p-value', 0.0)]\n"
          ]
        }
      ]
    },
    {
      "cell_type": "markdown",
      "source": [
        "The high degree of correlation between the residual errors of regression and the response variable indicate that our Pooled OLSR model is missing important explanatory variables which would have otherwise been able to “explain” some of this correlation. Whatever variance in the per capita GDP growth rate (y) of the country that the gross capital formation rate (X) has not been able to explain has leaked into the residuals in the form of both a correlation with y, and heteroskedasticity"
      ],
      "metadata": {
        "id": "4OJgZN7q8BON"
      }
    },
    {
      "cell_type": "markdown",
      "source": [
        "### **d. Analyzing autocorrelation**"
      ],
      "metadata": {
        "id": "UXQ2kafX8Hkg"
      }
    },
    {
      "cell_type": "code",
      "source": [
        "tsap.plot_acf(x=pooled_olsr_model_results.resid)\n",
        "plt.show()"
      ],
      "metadata": {
        "colab": {
          "base_uri": "https://localhost:8080/",
          "height": 281
        },
        "id": "2Q3cPYiK8K6N",
        "outputId": "debe7708-e109-4d66-8b5a-11dce42955a8"
      },
      "execution_count": 17,
      "outputs": [
        {
          "output_type": "display_data",
          "data": {
            "text/plain": [
              "<Figure size 432x288 with 1 Axes>"
            ],
            "image/png": "[encoded data removed]"
          },
          "metadata": {
            "needs_background": "light"
          }
        }
      ]
    },
    {
      "cell_type": "markdown",
      "source": [
        "There is significant autocorrelation present atleast up to about 25 time periods suggesting to us our model is suffering from atocorrelation "
      ],
      "metadata": {
        "id": "CTGBQpcv8eXw"
      }
    },
    {
      "cell_type": "markdown",
      "source": [
        "# **Start of Homework 2 PLDA**"
      ],
      "metadata": {
        "id": "uXzdPycuuYzJ"
      }
    },
    {
      "cell_type": "markdown",
      "source": [
        "# **2. The Pooled OLS Model** (Accounting for two dimensions (time and units) in the index "
      ],
      "metadata": {
        "id": "uKFI2KQfEhDj"
      }
    },
    {
      "cell_type": "markdown",
      "source": [
        "## **Model 1**"
      ],
      "metadata": {
        "id": "AHQMQ41opR-7"
      }
    },
    {
      "cell_type": "code",
      "source": [
        "# Import and preprocess data\n",
        "import pandas as pd\n",
        "!pip install linearmodels\n",
        "\n",
        "dtafile = '/content/drive/MyDrive/Delaware/ICPSR_2022/Panel Data And Longitudinal Analysis/Assignments/Assignment 2_Topics 3 & 4/Copy of Poe and Tate APSR 1994.dta'\n",
        "\n",
        "\n",
        "dataset = pd.read_stata(dtafile)\n",
        "dataset = dataset.set_index(['ccode', 'year'])\n",
        "dataset\n"
      ],
      "metadata": {
        "colab": {
          "base_uri": "https://localhost:8080/",
          "height": 824
        },
        "id": "x2LdAYEH9QQM",
        "outputId": "c7207e07-d872-4ac1-aeca-4b8a7b8297a4"
      },
      "execution_count": 18,
      "outputs": [
        {
          "output_type": "stream",
          "name": "stdout",
          "text": [
            "Looking in indexes: https://pypi.org/simple, https://us-python.pkg.dev/colab-wheels/public/simple/\n",
            "Requirement already satisfied: linearmodels in /usr/local/lib/python3.7/dist-packages (4.25)\n",
            "Requirement already satisfied: property-cached>=1.6.3 in /usr/local/lib/python3.7/dist-packages (from linearmodels) (1.6.4)\n",
            "Requirement already satisfied: numpy>=1.16 in /usr/local/lib/python3.7/dist-packages (from linearmodels) (1.21.6)\n",
            "Requirement already satisfied: statsmodels>=0.11 in /usr/local/lib/python3.7/dist-packages (from linearmodels) (0.13.2)\n",
            "Requirement already satisfied: pyhdfe>=0.1 in /usr/local/lib/python3.7/dist-packages (from linearmodels) (0.1.0)\n",
            "Requirement already satisfied: mypy-extensions>=0.4 in /usr/local/lib/python3.7/dist-packages (from linearmodels) (0.4.3)\n",
            "Requirement already satisfied: formulaic in /usr/local/lib/python3.7/dist-packages (from linearmodels) (0.3.4)\n",
            "Requirement already satisfied: Cython>=0.29.21 in /usr/local/lib/python3.7/dist-packages (from linearmodels) (0.29.30)\n",
            "Requirement already satisfied: pandas>=0.24 in /usr/local/lib/python3.7/dist-packages (from linearmodels) (1.3.5)\n",
            "Requirement already satisfied: patsy in /usr/local/lib/python3.7/dist-packages (from linearmodels) (0.5.2)\n",
            "Requirement already satisfied: scipy>=1.2 in /usr/local/lib/python3.7/dist-packages (from linearmodels) (1.7.3)\n",
            "Requirement already satisfied: python-dateutil>=2.7.3 in /usr/local/lib/python3.7/dist-packages (from pandas>=0.24->linearmodels) (2.8.2)\n",
            "Requirement already satisfied: pytz>=2017.3 in /usr/local/lib/python3.7/dist-packages (from pandas>=0.24->linearmodels) (2022.1)\n",
            "Requirement already satisfied: six>=1.5 in /usr/local/lib/python3.7/dist-packages (from python-dateutil>=2.7.3->pandas>=0.24->linearmodels) (1.15.0)\n",
            "Requirement already satisfied: packaging>=21.3 in /usr/local/lib/python3.7/dist-packages (from statsmodels>=0.11->linearmodels) (21.3)\n",
            "Requirement already satisfied: pyparsing!=3.0.5,>=2.0.2 in /usr/local/lib/python3.7/dist-packages (from packaging>=21.3->statsmodels>=0.11->linearmodels) (3.0.9)\n",
            "Requirement already satisfied: astor>=0.8 in /usr/local/lib/python3.7/dist-packages (from formulaic->linearmodels) (0.8.1)\n",
            "Requirement already satisfied: interface-meta<2.0.0,>=1.2.0 in /usr/local/lib/python3.7/dist-packages (from formulaic->linearmodels) (1.3.0)\n",
            "Requirement already satisfied: wrapt>=1.0 in /usr/local/lib/python3.7/dist-packages (from formulaic->linearmodels) (1.14.1)\n"
          ]
        },
        {
          "output_type": "execute_result",
          "data": {
            "text/plain": [
              "             vanhdemo      pcgnp  left  ainew  sdnew  milctr2  britinfl  \\\n",
              "ccode year                                                                \n",
              "2     1980  18.700001  11.347000     0      1      1        0         1   \n",
              "      1981  18.700001  12.253999     0      1      1        0         1   \n",
              "      1982  18.700001  13.160000     0      1      1        0         1   \n",
              "      1983  18.700001  14.172000     0      1      1        0         1   \n",
              "      1984  16.100000  15.541000     0      1      1        0         1   \n",
              "...               ...        ...   ...    ...    ...      ...       ...   \n",
              "990   1983        NaN   0.560000     0      1      1        0         1   \n",
              "      1984        NaN   0.680000     0      1      1        0         1   \n",
              "      1985        NaN   0.620000     0      1      1        0         1   \n",
              "      1986        NaN   0.560000     0      1      1        0         1   \n",
              "      1987        NaN   0.560000     0      1      1        0         1   \n",
              "\n",
              "                 lpop  iwar  cwar    popinc     pcginc  polrtnew  lag_ainew  \\\n",
              "ccode year                                                                    \n",
              "2     1980  19.243561     0     0  1.008137   7.513738         7        NaN   \n",
              "      1981  19.254190     0     0  1.008137   7.993301         7        1.0   \n",
              "      1982  19.264490     0     0  1.008137   7.393504         7        1.0   \n",
              "      1983  19.274239     0     0  1.008137   7.689969         7        1.0   \n",
              "      1984  19.283649     0     0  1.008137   9.659893         7        1.0   \n",
              "...               ...   ...   ...       ...        ...       ...        ...   \n",
              "990   1983  11.982929     0     0  1.045530   0.000000         4        1.0   \n",
              "      1984  11.989160     0     0  1.045530  21.428570         4        1.0   \n",
              "      1985  12.001510     0     0  1.045530  -8.823528         4        1.0   \n",
              "      1986  12.013699     0     0  1.045530  -9.677419         4        1.0   \n",
              "      1987  12.021809     0     0  1.045530   0.000000         4        1.0   \n",
              "\n",
              "            lag_sdnew  \n",
              "ccode year             \n",
              "2     1980        NaN  \n",
              "      1981        1.0  \n",
              "      1982        1.0  \n",
              "      1983        1.0  \n",
              "      1984        1.0  \n",
              "...               ...  \n",
              "990   1983        1.0  \n",
              "      1984        1.0  \n",
              "      1985        1.0  \n",
              "      1986        1.0  \n",
              "      1987        1.0  \n",
              "\n",
              "[1224 rows x 15 columns]"
            ],
            "text/html": [
              "\n",
              "  <div id=\"df-4ba7d2ce-fbce-476c-8519-df66a404eee8\">\n",
              "    <div class=\"colab-df-container\">\n",
              "      <div>\n",
              "<style scoped>\n",
              "    .dataframe tbody tr th:only-of-type {\n",
              "        vertical-align: middle;\n",
              "    }\n",
              "\n",
              "    .dataframe tbody tr th {\n",
              "        vertical-align: top;\n",
              "    }\n",
              "\n",
              "    .dataframe thead th {\n",
              "        text-align: right;\n",
              "    }\n",
              "</style>\n",
              "<table border=\"1\" class=\"dataframe\">\n",
              "  <thead>\n",
              "    <tr style=\"text-align: right;\">\n",
              "      <th></th>\n",
              "      <th></th>\n",
              "      <th>vanhdemo</th>\n",
              "      <th>pcgnp</th>\n",
              "      <th>left</th>\n",
              "      <th>ainew</th>\n",
              "      <th>sdnew</th>\n",
              "      <th>milctr2</th>\n",
              "      <th>britinfl</th>\n",
              "      <th>lpop</th>\n",
              "      <th>iwar</th>\n",
              "      <th>cwar</th>\n",
              "      <th>popinc</th>\n",
              "      <th>pcginc</th>\n",
              "      <th>polrtnew</th>\n",
              "      <th>lag_ainew</th>\n",
              "      <th>lag_sdnew</th>\n",
              "    </tr>\n",
              "    <tr>\n",
              "      <th>ccode</th>\n",
              "      <th>year</th>\n",
              "      <th></th>\n",
              "      <th></th>\n",
              "      <th></th>\n",
              "      <th></th>\n",
              "      <th></th>\n",
              "      <th></th>\n",
              "      <th></th>\n",
              "      <th></th>\n",
              "      <th></th>\n",
              "      <th></th>\n",
              "      <th></th>\n",
              "      <th></th>\n",
              "      <th></th>\n",
              "      <th></th>\n",
              "      <th></th>\n",
              "    </tr>\n",
              "  </thead>\n",
              "  <tbody>\n",
              "    <tr>\n",
              "      <th rowspan=\"5\" valign=\"top\">2</th>\n",
              "      <th>1980</th>\n",
              "      <td>18.700001</td>\n",
              "      <td>11.347000</td>\n",
              "      <td>0</td>\n",
              "      <td>1</td>\n",
              "      <td>1</td>\n",
              "      <td>0</td>\n",
              "      <td>1</td>\n",
              "      <td>19.243561</td>\n",
              "      <td>0</td>\n",
              "      <td>0</td>\n",
              "      <td>1.008137</td>\n",
              "      <td>7.513738</td>\n",
              "      <td>7</td>\n",
              "      <td>NaN</td>\n",
              "      <td>NaN</td>\n",
              "    </tr>\n",
              "    <tr>\n",
              "      <th>1981</th>\n",
              "      <td>18.700001</td>\n",
              "      <td>12.253999</td>\n",
              "      <td>0</td>\n",
              "      <td>1</td>\n",
              "      <td>1</td>\n",
              "      <td>0</td>\n",
              "      <td>1</td>\n",
              "      <td>19.254190</td>\n",
              "      <td>0</td>\n",
              "      <td>0</td>\n",
              "      <td>1.008137</td>\n",
              "      <td>7.993301</td>\n",
              "      <td>7</td>\n",
              "      <td>1.0</td>\n",
              "      <td>1.0</td>\n",
              "    </tr>\n",
              "    <tr>\n",
              "      <th>1982</th>\n",
              "      <td>18.700001</td>\n",
              "      <td>13.160000</td>\n",
              "      <td>0</td>\n",
              "      <td>1</td>\n",
              "      <td>1</td>\n",
              "      <td>0</td>\n",
              "      <td>1</td>\n",
              "      <td>19.264490</td>\n",
              "      <td>0</td>\n",
              "      <td>0</td>\n",
              "      <td>1.008137</td>\n",
              "      <td>7.393504</td>\n",
              "      <td>7</td>\n",
              "      <td>1.0</td>\n",
              "      <td>1.0</td>\n",
              "    </tr>\n",
              "    <tr>\n",
              "      <th>1983</th>\n",
              "      <td>18.700001</td>\n",
              "      <td>14.172000</td>\n",
              "      <td>0</td>\n",
              "      <td>1</td>\n",
              "      <td>1</td>\n",
              "      <td>0</td>\n",
              "      <td>1</td>\n",
              "      <td>19.274239</td>\n",
              "      <td>0</td>\n",
              "      <td>0</td>\n",
              "      <td>1.008137</td>\n",
              "      <td>7.689969</td>\n",
              "      <td>7</td>\n",
              "      <td>1.0</td>\n",
              "      <td>1.0</td>\n",
              "    </tr>\n",
              "    <tr>\n",
              "      <th>1984</th>\n",
              "      <td>16.100000</td>\n",
              "      <td>15.541000</td>\n",
              "      <td>0</td>\n",
              "      <td>1</td>\n",
              "      <td>1</td>\n",
              "      <td>0</td>\n",
              "      <td>1</td>\n",
              "      <td>19.283649</td>\n",
              "      <td>0</td>\n",
              "      <td>0</td>\n",
              "      <td>1.008137</td>\n",
              "      <td>9.659893</td>\n",
              "      <td>7</td>\n",
              "      <td>1.0</td>\n",
              "      <td>1.0</td>\n",
              "    </tr>\n",
              "    <tr>\n",
              "      <th>...</th>\n",
              "      <th>...</th>\n",
              "      <td>...</td>\n",
              "      <td>...</td>\n",
              "      <td>...</td>\n",
              "      <td>...</td>\n",
              "      <td>...</td>\n",
              "      <td>...</td>\n",
              "      <td>...</td>\n",
              "      <td>...</td>\n",
              "      <td>...</td>\n",
              "      <td>...</td>\n",
              "      <td>...</td>\n",
              "      <td>...</td>\n",
              "      <td>...</td>\n",
              "      <td>...</td>\n",
              "      <td>...</td>\n",
              "    </tr>\n",
              "    <tr>\n",
              "      <th rowspan=\"5\" valign=\"top\">990</th>\n",
              "      <th>1983</th>\n",
              "      <td>NaN</td>\n",
              "      <td>0.560000</td>\n",
              "      <td>0</td>\n",
              "      <td>1</td>\n",
              "      <td>1</td>\n",
              "      <td>0</td>\n",
              "      <td>1</td>\n",
              "      <td>11.982929</td>\n",
              "      <td>0</td>\n",
              "      <td>0</td>\n",
              "      <td>1.045530</td>\n",
              "      <td>0.000000</td>\n",
              "      <td>4</td>\n",
              "      <td>1.0</td>\n",
              "      <td>1.0</td>\n",
              "    </tr>\n",
              "    <tr>\n",
              "      <th>1984</th>\n",
              "      <td>NaN</td>\n",
              "      <td>0.680000</td>\n",
              "      <td>0</td>\n",
              "      <td>1</td>\n",
              "      <td>1</td>\n",
              "      <td>0</td>\n",
              "      <td>1</td>\n",
              "      <td>11.989160</td>\n",
              "      <td>0</td>\n",
              "      <td>0</td>\n",
              "      <td>1.045530</td>\n",
              "      <td>21.428570</td>\n",
              "      <td>4</td>\n",
              "      <td>1.0</td>\n",
              "      <td>1.0</td>\n",
              "    </tr>\n",
              "    <tr>\n",
              "      <th>1985</th>\n",
              "      <td>NaN</td>\n",
              "      <td>0.620000</td>\n",
              "      <td>0</td>\n",
              "      <td>1</td>\n",
              "      <td>1</td>\n",
              "      <td>0</td>\n",
              "      <td>1</td>\n",
              "      <td>12.001510</td>\n",
              "      <td>0</td>\n",
              "      <td>0</td>\n",
              "      <td>1.045530</td>\n",
              "      <td>-8.823528</td>\n",
              "      <td>4</td>\n",
              "      <td>1.0</td>\n",
              "      <td>1.0</td>\n",
              "    </tr>\n",
              "    <tr>\n",
              "      <th>1986</th>\n",
              "      <td>NaN</td>\n",
              "      <td>0.560000</td>\n",
              "      <td>0</td>\n",
              "      <td>1</td>\n",
              "      <td>1</td>\n",
              "      <td>0</td>\n",
              "      <td>1</td>\n",
              "      <td>12.013699</td>\n",
              "      <td>0</td>\n",
              "      <td>0</td>\n",
              "      <td>1.045530</td>\n",
              "      <td>-9.677419</td>\n",
              "      <td>4</td>\n",
              "      <td>1.0</td>\n",
              "      <td>1.0</td>\n",
              "    </tr>\n",
              "    <tr>\n",
              "      <th>1987</th>\n",
              "      <td>NaN</td>\n",
              "      <td>0.560000</td>\n",
              "      <td>0</td>\n",
              "      <td>1</td>\n",
              "      <td>1</td>\n",
              "      <td>0</td>\n",
              "      <td>1</td>\n",
              "      <td>12.021809</td>\n",
              "      <td>0</td>\n",
              "      <td>0</td>\n",
              "      <td>1.045530</td>\n",
              "      <td>0.000000</td>\n",
              "      <td>4</td>\n",
              "      <td>1.0</td>\n",
              "      <td>1.0</td>\n",
              "    </tr>\n",
              "  </tbody>\n",
              "</table>\n",
              "<p>1224 rows × 15 columns</p>\n",
              "</div>\n",
              "      <button class=\"colab-df-convert\" onclick=\"convertToInteractive('df-4ba7d2ce-fbce-476c-8519-df66a404eee8')\"\n",
              "              title=\"Convert this dataframe to an interactive table.\"\n",
              "              style=\"display:none;\">\n",
              "        \n",
              "  <svg xmlns=\"http://www.w3.org/2000/svg\" height=\"24px\"viewBox=\"0 0 24 24\"\n",
              "       width=\"24px\">\n",
              "    <path d=\"M0 0h24v24H0V0z\" fill=\"none\"/>\n",
              "    <path d=\"M18.56 5.44l.94 2.06.94-2.06 2.06-.94-2.06-.94-.94-2.06-.94 2.06-2.06.94zm-11 1L8.5 8.5l.94-2.06 2.06-.94-2.06-.94L8.5 2.5l-.94 2.06-2.06.94zm10 10l.94 2.06.94-2.06 2.06-.94-2.06-.94-.94-2.06-.94 2.06-2.06.94z\"/><path d=\"M17.41 7.96l-1.37-1.37c-.4-.4-.92-.59-1.43-.59-.52 0-1.04.2-1.43.59L10.3 9.45l-7.72 7.72c-.78.78-.78 2.05 0 2.83L4 21.41c.39.39.9.59 1.41.59.51 0 1.02-.2 1.41-.59l7.78-7.78 2.81-2.81c.8-.78.8-2.07 0-2.86zM5.41 20L4 18.59l7.72-7.72 1.47 1.35L5.41 20z\"/>\n",
              "  </svg>\n",
              "      </button>\n",
              "      \n",
              "  <style>\n",
              "    .colab-df-container {\n",
              "      display:flex;\n",
              "      flex-wrap:wrap;\n",
              "      gap: 12px;\n",
              "    }\n",
              "\n",
              "    .colab-df-convert {\n",
              "      background-color: #E8F0FE;\n",
              "      border: none;\n",
              "      border-radius: 50%;\n",
              "      cursor: pointer;\n",
              "      display: none;\n",
              "      fill: #1967D2;\n",
              "      height: 32px;\n",
              "      padding: 0 0 0 0;\n",
              "      width: 32px;\n",
              "    }\n",
              "\n",
              "    .colab-df-convert:hover {\n",
              "      background-color: #E2EBFA;\n",
              "      box-shadow: 0px 1px 2px rgba(60, 64, 67, 0.3), 0px 1px 3px 1px rgba(60, 64, 67, 0.15);\n",
              "      fill: #174EA6;\n",
              "    }\n",
              "\n",
              "    [theme=dark] .colab-df-convert {\n",
              "      background-color: #3B4455;\n",
              "      fill: #D2E3FC;\n",
              "    }\n",
              "\n",
              "    [theme=dark] .colab-df-convert:hover {\n",
              "      background-color: #434B5C;\n",
              "      box-shadow: 0px 1px 3px 1px rgba(0, 0, 0, 0.15);\n",
              "      filter: drop-shadow(0px 1px 2px rgba(0, 0, 0, 0.3));\n",
              "      fill: #FFFFFF;\n",
              "    }\n",
              "  </style>\n",
              "\n",
              "      <script>\n",
              "        const buttonEl =\n",
              "          document.querySelector('#df-4ba7d2ce-fbce-476c-8519-df66a404eee8 button.colab-df-convert');\n",
              "        buttonEl.style.display =\n",
              "          google.colab.kernel.accessAllowed ? 'block' : 'none';\n",
              "\n",
              "        async function convertToInteractive(key) {\n",
              "          const element = document.querySelector('#df-4ba7d2ce-fbce-476c-8519-df66a404eee8');\n",
              "          const dataTable =\n",
              "            await google.colab.kernel.invokeFunction('convertToInteractive',\n",
              "                                                     [key], {});\n",
              "          if (!dataTable) return;\n",
              "\n",
              "          const docLinkHtml = 'Like what you see? Visit the ' +\n",
              "            '<a target=\"_blank\" href=https://colab.research.google.com/notebooks/data_table.ipynb>data table notebook</a>'\n",
              "            + ' to learn more about interactive tables.';\n",
              "          element.innerHTML = '';\n",
              "          dataTable['output_type'] = 'display_data';\n",
              "          await google.colab.output.renderOutput(dataTable, element);\n",
              "          const docLink = document.createElement('div');\n",
              "          docLink.innerHTML = docLinkHtml;\n",
              "          element.appendChild(docLink);\n",
              "        }\n",
              "      </script>\n",
              "    </div>\n",
              "  </div>\n",
              "  "
            ]
          },
          "metadata": {},
          "execution_count": 18
        }
      ]
    },
    {
      "cell_type": "code",
      "source": [
        "years = dataset.index.get_level_values('year').to_list()\n",
        "dataset['year'] = pd.Categorical(years)\n",
        "\n",
        "# creating a lag of the Dependent Variable 'pcgnp'\n",
        "dataset['lag_pcgnp'] = dataset['pcgnp'].shift(1)\n",
        "\n",
        "dataset\n",
        "\n",
        "\n"
      ],
      "metadata": {
        "colab": {
          "base_uri": "https://localhost:8080/",
          "height": 455
        },
        "id": "dx_p8mZIFxga",
        "outputId": "989e6ccb-bee9-418f-fc36-1141db85b420"
      },
      "execution_count": 19,
      "outputs": [
        {
          "output_type": "execute_result",
          "data": {
            "text/plain": [
              "             vanhdemo      pcgnp  left  ainew  sdnew  milctr2  britinfl  \\\n",
              "ccode year                                                                \n",
              "2     1980  18.700001  11.347000     0      1      1        0         1   \n",
              "      1981  18.700001  12.253999     0      1      1        0         1   \n",
              "      1982  18.700001  13.160000     0      1      1        0         1   \n",
              "      1983  18.700001  14.172000     0      1      1        0         1   \n",
              "      1984  16.100000  15.541000     0      1      1        0         1   \n",
              "...               ...        ...   ...    ...    ...      ...       ...   \n",
              "990   1983        NaN   0.560000     0      1      1        0         1   \n",
              "      1984        NaN   0.680000     0      1      1        0         1   \n",
              "      1985        NaN   0.620000     0      1      1        0         1   \n",
              "      1986        NaN   0.560000     0      1      1        0         1   \n",
              "      1987        NaN   0.560000     0      1      1        0         1   \n",
              "\n",
              "                 lpop  iwar  cwar    popinc     pcginc  polrtnew  lag_ainew  \\\n",
              "ccode year                                                                    \n",
              "2     1980  19.243561     0     0  1.008137   7.513738         7        NaN   \n",
              "      1981  19.254190     0     0  1.008137   7.993301         7        1.0   \n",
              "      1982  19.264490     0     0  1.008137   7.393504         7        1.0   \n",
              "      1983  19.274239     0     0  1.008137   7.689969         7        1.0   \n",
              "      1984  19.283649     0     0  1.008137   9.659893         7        1.0   \n",
              "...               ...   ...   ...       ...        ...       ...        ...   \n",
              "990   1983  11.982929     0     0  1.045530   0.000000         4        1.0   \n",
              "      1984  11.989160     0     0  1.045530  21.428570         4        1.0   \n",
              "      1985  12.001510     0     0  1.045530  -8.823528         4        1.0   \n",
              "      1986  12.013699     0     0  1.045530  -9.677419         4        1.0   \n",
              "      1987  12.021809     0     0  1.045530   0.000000         4        1.0   \n",
              "\n",
              "            lag_sdnew  year  lag_pcgnp  \n",
              "ccode year                              \n",
              "2     1980        NaN  1980        NaN  \n",
              "      1981        1.0  1981  11.347000  \n",
              "      1982        1.0  1982  12.253999  \n",
              "      1983        1.0  1983  13.160000  \n",
              "      1984        1.0  1984  14.172000  \n",
              "...               ...   ...        ...  \n",
              "990   1983        1.0  1983   0.560000  \n",
              "      1984        1.0  1984   0.560000  \n",
              "      1985        1.0  1985   0.680000  \n",
              "      1986        1.0  1986   0.620000  \n",
              "      1987        1.0  1987   0.560000  \n",
              "\n",
              "[1224 rows x 17 columns]"
            ],
            "text/html": [
              "\n",
              "  <div id=\"df-5c263d2a-28f9-4481-98ce-f065fc9c01bc\">\n",
              "    <div class=\"colab-df-container\">\n",
              "      <div>\n",
              "<style scoped>\n",
              "    .dataframe tbody tr th:only-of-type {\n",
              "        vertical-align: middle;\n",
              "    }\n",
              "\n",
              "    .dataframe tbody tr th {\n",
              "        vertical-align: top;\n",
              "    }\n",
              "\n",
              "    .dataframe thead th {\n",
              "        text-align: right;\n",
              "    }\n",
              "</style>\n",
              "<table border=\"1\" class=\"dataframe\">\n",
              "  <thead>\n",
              "    <tr style=\"text-align: right;\">\n",
              "      <th></th>\n",
              "      <th></th>\n",
              "      <th>vanhdemo</th>\n",
              "      <th>pcgnp</th>\n",
              "      <th>left</th>\n",
              "      <th>ainew</th>\n",
              "      <th>sdnew</th>\n",
              "      <th>milctr2</th>\n",
              "      <th>britinfl</th>\n",
              "      <th>lpop</th>\n",
              "      <th>iwar</th>\n",
              "      <th>cwar</th>\n",
              "      <th>popinc</th>\n",
              "      <th>pcginc</th>\n",
              "      <th>polrtnew</th>\n",
              "      <th>lag_ainew</th>\n",
              "      <th>lag_sdnew</th>\n",
              "      <th>year</th>\n",
              "      <th>lag_pcgnp</th>\n",
              "    </tr>\n",
              "    <tr>\n",
              "      <th>ccode</th>\n",
              "      <th>year</th>\n",
              "      <th></th>\n",
              "      <th></th>\n",
              "      <th></th>\n",
              "      <th></th>\n",
              "      <th></th>\n",
              "      <th></th>\n",
              "      <th></th>\n",
              "      <th></th>\n",
              "      <th></th>\n",
              "      <th></th>\n",
              "      <th></th>\n",
              "      <th></th>\n",
              "      <th></th>\n",
              "      <th></th>\n",
              "      <th></th>\n",
              "      <th></th>\n",
              "      <th></th>\n",
              "    </tr>\n",
              "  </thead>\n",
              "  <tbody>\n",
              "    <tr>\n",
              "      <th rowspan=\"5\" valign=\"top\">2</th>\n",
              "      <th>1980</th>\n",
              "      <td>18.700001</td>\n",
              "      <td>11.347000</td>\n",
              "      <td>0</td>\n",
              "      <td>1</td>\n",
              "      <td>1</td>\n",
              "      <td>0</td>\n",
              "      <td>1</td>\n",
              "      <td>19.243561</td>\n",
              "      <td>0</td>\n",
              "      <td>0</td>\n",
              "      <td>1.008137</td>\n",
              "      <td>7.513738</td>\n",
              "      <td>7</td>\n",
              "      <td>NaN</td>\n",
              "      <td>NaN</td>\n",
              "      <td>1980</td>\n",
              "      <td>NaN</td>\n",
              "    </tr>\n",
              "    <tr>\n",
              "      <th>1981</th>\n",
              "      <td>18.700001</td>\n",
              "      <td>12.253999</td>\n",
              "      <td>0</td>\n",
              "      <td>1</td>\n",
              "      <td>1</td>\n",
              "      <td>0</td>\n",
              "      <td>1</td>\n",
              "      <td>19.254190</td>\n",
              "      <td>0</td>\n",
              "      <td>0</td>\n",
              "      <td>1.008137</td>\n",
              "      <td>7.993301</td>\n",
              "      <td>7</td>\n",
              "      <td>1.0</td>\n",
              "      <td>1.0</td>\n",
              "      <td>1981</td>\n",
              "      <td>11.347000</td>\n",
              "    </tr>\n",
              "    <tr>\n",
              "      <th>1982</th>\n",
              "      <td>18.700001</td>\n",
              "      <td>13.160000</td>\n",
              "      <td>0</td>\n",
              "      <td>1</td>\n",
              "      <td>1</td>\n",
              "      <td>0</td>\n",
              "      <td>1</td>\n",
              "      <td>19.264490</td>\n",
              "      <td>0</td>\n",
              "      <td>0</td>\n",
              "      <td>1.008137</td>\n",
              "      <td>7.393504</td>\n",
              "      <td>7</td>\n",
              "      <td>1.0</td>\n",
              "      <td>1.0</td>\n",
              "      <td>1982</td>\n",
              "      <td>12.253999</td>\n",
              "    </tr>\n",
              "    <tr>\n",
              "      <th>1983</th>\n",
              "      <td>18.700001</td>\n",
              "      <td>14.172000</td>\n",
              "      <td>0</td>\n",
              "      <td>1</td>\n",
              "      <td>1</td>\n",
              "      <td>0</td>\n",
              "      <td>1</td>\n",
              "      <td>19.274239</td>\n",
              "      <td>0</td>\n",
              "      <td>0</td>\n",
              "      <td>1.008137</td>\n",
              "      <td>7.689969</td>\n",
              "      <td>7</td>\n",
              "      <td>1.0</td>\n",
              "      <td>1.0</td>\n",
              "      <td>1983</td>\n",
              "      <td>13.160000</td>\n",
              "    </tr>\n",
              "    <tr>\n",
              "      <th>1984</th>\n",
              "      <td>16.100000</td>\n",
              "      <td>15.541000</td>\n",
              "      <td>0</td>\n",
              "      <td>1</td>\n",
              "      <td>1</td>\n",
              "      <td>0</td>\n",
              "      <td>1</td>\n",
              "      <td>19.283649</td>\n",
              "      <td>0</td>\n",
              "      <td>0</td>\n",
              "      <td>1.008137</td>\n",
              "      <td>9.659893</td>\n",
              "      <td>7</td>\n",
              "      <td>1.0</td>\n",
              "      <td>1.0</td>\n",
              "      <td>1984</td>\n",
              "      <td>14.172000</td>\n",
              "    </tr>\n",
              "    <tr>\n",
              "      <th>...</th>\n",
              "      <th>...</th>\n",
              "      <td>...</td>\n",
              "      <td>...</td>\n",
              "      <td>...</td>\n",
              "      <td>...</td>\n",
              "      <td>...</td>\n",
              "      <td>...</td>\n",
              "      <td>...</td>\n",
              "      <td>...</td>\n",
              "      <td>...</td>\n",
              "      <td>...</td>\n",
              "      <td>...</td>\n",
              "      <td>...</td>\n",
              "      <td>...</td>\n",
              "      <td>...</td>\n",
              "      <td>...</td>\n",
              "      <td>...</td>\n",
              "      <td>...</td>\n",
              "    </tr>\n",
              "    <tr>\n",
              "      <th rowspan=\"5\" valign=\"top\">990</th>\n",
              "      <th>1983</th>\n",
              "      <td>NaN</td>\n",
              "      <td>0.560000</td>\n",
              "      <td>0</td>\n",
              "      <td>1</td>\n",
              "      <td>1</td>\n",
              "      <td>0</td>\n",
              "      <td>1</td>\n",
              "      <td>11.982929</td>\n",
              "      <td>0</td>\n",
              "      <td>0</td>\n",
              "      <td>1.045530</td>\n",
              "      <td>0.000000</td>\n",
              "      <td>4</td>\n",
              "      <td>1.0</td>\n",
              "      <td>1.0</td>\n",
              "      <td>1983</td>\n",
              "      <td>0.560000</td>\n",
              "    </tr>\n",
              "    <tr>\n",
              "      <th>1984</th>\n",
              "      <td>NaN</td>\n",
              "      <td>0.680000</td>\n",
              "      <td>0</td>\n",
              "      <td>1</td>\n",
              "      <td>1</td>\n",
              "      <td>0</td>\n",
              "      <td>1</td>\n",
              "      <td>11.989160</td>\n",
              "      <td>0</td>\n",
              "      <td>0</td>\n",
              "      <td>1.045530</td>\n",
              "      <td>21.428570</td>\n",
              "      <td>4</td>\n",
              "      <td>1.0</td>\n",
              "      <td>1.0</td>\n",
              "      <td>1984</td>\n",
              "      <td>0.560000</td>\n",
              "    </tr>\n",
              "    <tr>\n",
              "      <th>1985</th>\n",
              "      <td>NaN</td>\n",
              "      <td>0.620000</td>\n",
              "      <td>0</td>\n",
              "      <td>1</td>\n",
              "      <td>1</td>\n",
              "      <td>0</td>\n",
              "      <td>1</td>\n",
              "      <td>12.001510</td>\n",
              "      <td>0</td>\n",
              "      <td>0</td>\n",
              "      <td>1.045530</td>\n",
              "      <td>-8.823528</td>\n",
              "      <td>4</td>\n",
              "      <td>1.0</td>\n",
              "      <td>1.0</td>\n",
              "      <td>1985</td>\n",
              "      <td>0.680000</td>\n",
              "    </tr>\n",
              "    <tr>\n",
              "      <th>1986</th>\n",
              "      <td>NaN</td>\n",
              "      <td>0.560000</td>\n",
              "      <td>0</td>\n",
              "      <td>1</td>\n",
              "      <td>1</td>\n",
              "      <td>0</td>\n",
              "      <td>1</td>\n",
              "      <td>12.013699</td>\n",
              "      <td>0</td>\n",
              "      <td>0</td>\n",
              "      <td>1.045530</td>\n",
              "      <td>-9.677419</td>\n",
              "      <td>4</td>\n",
              "      <td>1.0</td>\n",
              "      <td>1.0</td>\n",
              "      <td>1986</td>\n",
              "      <td>0.620000</td>\n",
              "    </tr>\n",
              "    <tr>\n",
              "      <th>1987</th>\n",
              "      <td>NaN</td>\n",
              "      <td>0.560000</td>\n",
              "      <td>0</td>\n",
              "      <td>1</td>\n",
              "      <td>1</td>\n",
              "      <td>0</td>\n",
              "      <td>1</td>\n",
              "      <td>12.021809</td>\n",
              "      <td>0</td>\n",
              "      <td>0</td>\n",
              "      <td>1.045530</td>\n",
              "      <td>0.000000</td>\n",
              "      <td>4</td>\n",
              "      <td>1.0</td>\n",
              "      <td>1.0</td>\n",
              "      <td>1987</td>\n",
              "      <td>0.560000</td>\n",
              "    </tr>\n",
              "  </tbody>\n",
              "</table>\n",
              "<p>1224 rows × 17 columns</p>\n",
              "</div>\n",
              "      <button class=\"colab-df-convert\" onclick=\"convertToInteractive('df-5c263d2a-28f9-4481-98ce-f065fc9c01bc')\"\n",
              "              title=\"Convert this dataframe to an interactive table.\"\n",
              "              style=\"display:none;\">\n",
              "        \n",
              "  <svg xmlns=\"http://www.w3.org/2000/svg\" height=\"24px\"viewBox=\"0 0 24 24\"\n",
              "       width=\"24px\">\n",
              "    <path d=\"M0 0h24v24H0V0z\" fill=\"none\"/>\n",
              "    <path d=\"M18.56 5.44l.94 2.06.94-2.06 2.06-.94-2.06-.94-.94-2.06-.94 2.06-2.06.94zm-11 1L8.5 8.5l.94-2.06 2.06-.94-2.06-.94L8.5 2.5l-.94 2.06-2.06.94zm10 10l.94 2.06.94-2.06 2.06-.94-2.06-.94-.94-2.06-.94 2.06-2.06.94z\"/><path d=\"M17.41 7.96l-1.37-1.37c-.4-.4-.92-.59-1.43-.59-.52 0-1.04.2-1.43.59L10.3 9.45l-7.72 7.72c-.78.78-.78 2.05 0 2.83L4 21.41c.39.39.9.59 1.41.59.51 0 1.02-.2 1.41-.59l7.78-7.78 2.81-2.81c.8-.78.8-2.07 0-2.86zM5.41 20L4 18.59l7.72-7.72 1.47 1.35L5.41 20z\"/>\n",
              "  </svg>\n",
              "      </button>\n",
              "      \n",
              "  <style>\n",
              "    .colab-df-container {\n",
              "      display:flex;\n",
              "      flex-wrap:wrap;\n",
              "      gap: 12px;\n",
              "    }\n",
              "\n",
              "    .colab-df-convert {\n",
              "      background-color: #E8F0FE;\n",
              "      border: none;\n",
              "      border-radius: 50%;\n",
              "      cursor: pointer;\n",
              "      display: none;\n",
              "      fill: #1967D2;\n",
              "      height: 32px;\n",
              "      padding: 0 0 0 0;\n",
              "      width: 32px;\n",
              "    }\n",
              "\n",
              "    .colab-df-convert:hover {\n",
              "      background-color: #E2EBFA;\n",
              "      box-shadow: 0px 1px 2px rgba(60, 64, 67, 0.3), 0px 1px 3px 1px rgba(60, 64, 67, 0.15);\n",
              "      fill: #174EA6;\n",
              "    }\n",
              "\n",
              "    [theme=dark] .colab-df-convert {\n",
              "      background-color: #3B4455;\n",
              "      fill: #D2E3FC;\n",
              "    }\n",
              "\n",
              "    [theme=dark] .colab-df-convert:hover {\n",
              "      background-color: #434B5C;\n",
              "      box-shadow: 0px 1px 3px 1px rgba(0, 0, 0, 0.15);\n",
              "      filter: drop-shadow(0px 1px 2px rgba(0, 0, 0, 0.3));\n",
              "      fill: #FFFFFF;\n",
              "    }\n",
              "  </style>\n",
              "\n",
              "      <script>\n",
              "        const buttonEl =\n",
              "          document.querySelector('#df-5c263d2a-28f9-4481-98ce-f065fc9c01bc button.colab-df-convert');\n",
              "        buttonEl.style.display =\n",
              "          google.colab.kernel.accessAllowed ? 'block' : 'none';\n",
              "\n",
              "        async function convertToInteractive(key) {\n",
              "          const element = document.querySelector('#df-5c263d2a-28f9-4481-98ce-f065fc9c01bc');\n",
              "          const dataTable =\n",
              "            await google.colab.kernel.invokeFunction('convertToInteractive',\n",
              "                                                     [key], {});\n",
              "          if (!dataTable) return;\n",
              "\n",
              "          const docLinkHtml = 'Like what you see? Visit the ' +\n",
              "            '<a target=\"_blank\" href=https://colab.research.google.com/notebooks/data_table.ipynb>data table notebook</a>'\n",
              "            + ' to learn more about interactive tables.';\n",
              "          element.innerHTML = '';\n",
              "          dataTable['output_type'] = 'display_data';\n",
              "          await google.colab.output.renderOutput(dataTable, element);\n",
              "          const docLink = document.createElement('div');\n",
              "          docLink.innerHTML = docLinkHtml;\n",
              "          element.appendChild(docLink);\n",
              "        }\n",
              "      </script>\n",
              "    </div>\n",
              "  </div>\n",
              "  "
            ]
          },
          "metadata": {},
          "execution_count": 19
        }
      ]
    },
    {
      "cell_type": "code",
      "source": [
        "# Perform PooledOLS\n",
        "from linearmodels import PooledOLS\n",
        "import statsmodels.api as sm\n",
        "\n",
        "exog = dataset[['lpop', 'popinc', 'left']]\n",
        "exog = sm.tools.tools.add_constant(exog)\n",
        "endog = dataset['pcgnp']\n",
        "mod = PooledOLS(endog, exog)\n",
        "pooledOLS_res = mod.fit(cov_type='clustered', cluster_entity=True)\n",
        "\n",
        "#Store values for checking homoskedasticity graphically\n",
        "fittedvals_pooled_OLS = pooledOLS_res.predict().fitted_values\n",
        "residuals_pooled_OLS = pooledOLS_res.resids"
      ],
      "metadata": {
        "id": "94P0nzmSG7IU"
      },
      "execution_count": 20,
      "outputs": []
    },
    {
      "cell_type": "code",
      "source": [
        "pooledOLS_res"
      ],
      "metadata": {
        "colab": {
          "base_uri": "https://localhost:8080/",
          "height": 521
        },
        "id": "7-_0u3bxRfZE",
        "outputId": "8abdb0c4-f9a2-443c-f191-2d15ca0f6d9c"
      },
      "execution_count": 21,
      "outputs": [
        {
          "output_type": "execute_result",
          "data": {
            "text/plain": [
              "                          PooledOLS Estimation Summary                          \n",
              "================================================================================\n",
              "Dep. Variable:                  pcgnp   R-squared:                        0.0409\n",
              "Estimator:                  PooledOLS   R-squared (Between):              0.0433\n",
              "No. Observations:                1224   R-squared (Within):              -0.0034\n",
              "Date:                Sun, Jul 24 2022   R-squared (Overall):              0.0409\n",
              "Time:                        19:50:26   Log-likelihood                   -3668.0\n",
              "Cov. Estimator:             Clustered                                           \n",
              "                                        F-statistic:                      17.340\n",
              "Entities:                         153   P-value                           0.0000\n",
              "Avg Obs:                       8.0000   Distribution:                  F(3,1220)\n",
              "Min Obs:                       8.0000                                           \n",
              "Max Obs:                       8.0000   F-statistic (robust):             3.4298\n",
              "                                        P-value                           0.0166\n",
              "Time periods:                       8   Distribution:                  F(3,1220)\n",
              "Avg Obs:                       153.00                                           \n",
              "Min Obs:                       153.00                                           \n",
              "Max Obs:                       153.00                                           \n",
              "                                                                                \n",
              "                             Parameter Estimates                              \n",
              "==============================================================================\n",
              "            Parameter  Std. Err.     T-stat    P-value    Lower CI    Upper CI\n",
              "------------------------------------------------------------------------------\n",
              "const          5.6468     3.1018     1.8205     0.0689     -0.4387      11.732\n",
              "lpop          -0.0494     0.2055    -0.2403     0.8101     -0.4526      0.3538\n",
              "popinc        -0.4088     0.3905    -1.0467     0.2955     -1.1750      0.3574\n",
              "left          -2.0039     0.6418    -3.1222     0.0018     -3.2630     -0.7447\n",
              "==============================================================================\n",
              "PanelResults, id: 0x7f1d8d11b110"
            ],
            "text/html": [
              "<table class=\"simpletable\">\n",
              "<caption>PooledOLS Estimation Summary</caption>\n",
              "<tr>\n",
              "  <th>Dep. Variable:</th>          <td>pcgnp</td>      <th>  R-squared:         </th>    <td>0.0409</td>  \n",
              "</tr>\n",
              "<tr>\n",
              "  <th>Estimator:</th>            <td>PooledOLS</td>    <th>  R-squared (Between):</th>   <td>0.0433</td>  \n",
              "</tr>\n",
              "<tr>\n",
              "  <th>No. Observations:</th>       <td>1224</td>       <th>  R-squared (Within):</th>    <td>-0.0034</td> \n",
              "</tr>\n",
              "<tr>\n",
              "  <th>Date:</th>             <td>Sun, Jul 24 2022</td> <th>  R-squared (Overall):</th>   <td>0.0409</td>  \n",
              "</tr>\n",
              "<tr>\n",
              "  <th>Time:</th>                 <td>19:50:26</td>     <th>  Log-likelihood     </th>    <td>-3668.0</td> \n",
              "</tr>\n",
              "<tr>\n",
              "  <th>Cov. Estimator:</th>       <td>Clustered</td>    <th>                     </th>       <td></td>     \n",
              "</tr>\n",
              "<tr>\n",
              "  <th></th>                          <td></td>         <th>  F-statistic:       </th>    <td>17.340</td>  \n",
              "</tr>\n",
              "<tr>\n",
              "  <th>Entities:</th>                <td>153</td>       <th>  P-value            </th>    <td>0.0000</td>  \n",
              "</tr>\n",
              "<tr>\n",
              "  <th>Avg Obs:</th>               <td>8.0000</td>      <th>  Distribution:      </th>   <td>F(3,1220)</td>\n",
              "</tr>\n",
              "<tr>\n",
              "  <th>Min Obs:</th>               <td>8.0000</td>      <th>                     </th>       <td></td>     \n",
              "</tr>\n",
              "<tr>\n",
              "  <th>Max Obs:</th>               <td>8.0000</td>      <th>  F-statistic (robust):</th>  <td>3.4298</td>  \n",
              "</tr>\n",
              "<tr>\n",
              "  <th></th>                          <td></td>         <th>  P-value            </th>    <td>0.0166</td>  \n",
              "</tr>\n",
              "<tr>\n",
              "  <th>Time periods:</th>             <td>8</td>        <th>  Distribution:      </th>   <td>F(3,1220)</td>\n",
              "</tr>\n",
              "<tr>\n",
              "  <th>Avg Obs:</th>               <td>153.00</td>      <th>                     </th>       <td></td>     \n",
              "</tr>\n",
              "<tr>\n",
              "  <th>Min Obs:</th>               <td>153.00</td>      <th>                     </th>       <td></td>     \n",
              "</tr>\n",
              "<tr>\n",
              "  <th>Max Obs:</th>               <td>153.00</td>      <th>                     </th>       <td></td>     \n",
              "</tr>\n",
              "<tr>\n",
              "  <th></th>                          <td></td>         <th>                     </th>       <td></td>     \n",
              "</tr>\n",
              "</table>\n",
              "<table class=\"simpletable\">\n",
              "<caption>Parameter Estimates</caption>\n",
              "<tr>\n",
              "     <td></td>    <th>Parameter</th> <th>Std. Err.</th> <th>T-stat</th>  <th>P-value</th> <th>Lower CI</th> <th>Upper CI</th>\n",
              "</tr>\n",
              "<tr>\n",
              "  <th>const</th>   <td>5.6468</td>    <td>3.1018</td>   <td>1.8205</td>  <td>0.0689</td>   <td>-0.4387</td>  <td>11.732</td> \n",
              "</tr>\n",
              "<tr>\n",
              "  <th>lpop</th>    <td>-0.0494</td>   <td>0.2055</td>   <td>-0.2403</td> <td>0.8101</td>   <td>-0.4526</td>  <td>0.3538</td> \n",
              "</tr>\n",
              "<tr>\n",
              "  <th>popinc</th>  <td>-0.4088</td>   <td>0.3905</td>   <td>-1.0467</td> <td>0.2955</td>   <td>-1.1750</td>  <td>0.3574</td> \n",
              "</tr>\n",
              "<tr>\n",
              "  <th>left</th>    <td>-2.0039</td>   <td>0.6418</td>   <td>-3.1222</td> <td>0.0018</td>   <td>-3.2630</td>  <td>-0.7447</td>\n",
              "</tr>\n",
              "</table><br/>id: 0x7f1d8d11b110"
            ]
          },
          "metadata": {},
          "execution_count": 21
        }
      ]
    },
    {
      "cell_type": "markdown",
      "source": [
        "## **a. Examnining both temporal and spatial autocorrelation (checking for heteroskedasticity & autocorrelation**"
      ],
      "metadata": {
        "id": "k8ExHFwnJMkA"
      }
    },
    {
      "cell_type": "markdown",
      "source": [
        "### **i. Homoskedasticity check**"
      ],
      "metadata": {
        "id": "NiitTTkyJjZ4"
      }
    },
    {
      "cell_type": "code",
      "source": [
        "# 3A. Homoskedasticity\n",
        "import matplotlib.pyplot as plt\n",
        " # 3A.1 Residuals-Plot for growing Variance Detection\n",
        "fig, ax = plt.subplots()\n",
        "ax.scatter(fittedvals_pooled_OLS, residuals_pooled_OLS, color = 'blue')\n",
        "ax.axhline(0, color = 'r', ls = '--')\n",
        "ax.set_xlabel('Predicted Values', fontsize = 15)\n",
        "ax.set_ylabel('Residuals', fontsize = 15)\n",
        "ax.set_title('Homoskedasticity Test', fontsize = 30)\n",
        "plt.show()"
      ],
      "metadata": {
        "colab": {
          "base_uri": "https://localhost:8080/",
          "height": 313
        },
        "id": "8xy1m7E_Jdj2",
        "outputId": "ffb23bfa-9f7a-4d13-be55-77a1e0a30af2"
      },
      "execution_count": 22,
      "outputs": [
        {
          "output_type": "display_data",
          "data": {
            "text/plain": [
              "<Figure size 432x288 with 1 Axes>"
            ],
            "image/png": "[encoded data removed]"
          },
          "metadata": {
            "needs_background": "light"
          }
        }
      ]
    },
    {
      "cell_type": "markdown",
      "source": [
        "Some values are systematically predicting values of pcgnp better than others and the errors are not homoskedastic (ie constant variance). We will confirm with a White Test & a Breusch-Pagan LM Test "
      ],
      "metadata": {
        "id": "uwmXIn8IKZyq"
      }
    },
    {
      "cell_type": "code",
      "source": [
        "# 3A.2 White-Test\n",
        "from statsmodels.stats.diagnostic import het_white, het_breuschpagan\n",
        "pooled_OLS_dataset = pd.concat([dataset, residuals_pooled_OLS], axis=1)\n",
        "pooled_OLS_dataset = pooled_OLS_dataset.drop(['year'], axis = 1).fillna(0)\n",
        "exog = dataset[['lpop', 'popinc', 'left']]\n",
        "exog = sm.tools.tools.add_constant(exog).fillna(0)\n",
        "\n",
        "\n",
        "white_test_results = het_white(pooled_OLS_dataset['residual'], exog)\n",
        "\n",
        "labels = ['LM-Stat', 'LM p-val', 'F-Stat', 'F p-val'] \n",
        "print(dict(zip(labels, white_test_results)))\n",
        "\n",
        "# 3A.3 Breusch-Pagan-Test\n",
        "breusch_pagan_test_results = het_breuschpagan(pooled_OLS_dataset['residual'], exog)\n",
        "labels = ['LM-Stat', 'LM p-val', 'F-Stat', 'F p-val'] \n",
        "print(dict(zip(labels, breusch_pagan_test_results)))"
      ],
      "metadata": {
        "colab": {
          "base_uri": "https://localhost:8080/"
        },
        "id": "g6Pw1pRpKr24",
        "outputId": "eafb7296-ea44-4670-b55a-b68124a90634"
      },
      "execution_count": 23,
      "outputs": [
        {
          "output_type": "stream",
          "name": "stdout",
          "text": [
            "{'LM-Stat': 347.9447613982496, 'LM p-val': 2.486308575118104e-70, 'F-Stat': 60.32052353422635, 'F p-val': 5.058558081682303e-83}\n",
            "{'LM-Stat': 68.86950731283335, 'LM p-val': 7.452537399189447e-15, 'F-Stat': 24.245687522916473, 'F p-val': 3.0522996703489514e-15}\n"
          ]
        }
      ]
    },
    {
      "cell_type": "markdown",
      "source": [
        "### **ii. Autocorrelation Check**"
      ],
      "metadata": {
        "id": "aSWexehySpxk"
      }
    },
    {
      "cell_type": "code",
      "source": [
        "# 3.B Non-Autocorrelation\n",
        "# Durbin-Watson-Test\n",
        "from statsmodels.stats.stattools import durbin_watson\n",
        "\n",
        "durbin_watson_test_results = durbin_watson(pooled_OLS_dataset['residual']) \n",
        "print(durbin_watson_test_results)"
      ],
      "metadata": {
        "colab": {
          "base_uri": "https://localhost:8080/"
        },
        "id": "evDLkQzwSuYF",
        "outputId": "f4cd5e6d-e063-445f-ba8b-21658215a175"
      },
      "execution_count": 24,
      "outputs": [
        {
          "output_type": "stream",
          "name": "stdout",
          "text": [
            "0.1961635401917736\n"
          ]
        }
      ]
    },
    {
      "cell_type": "markdown",
      "source": [
        "## **Model 2**"
      ],
      "metadata": {
        "id": "A3s7NVFCqaIy"
      }
    },
    {
      "cell_type": "markdown",
      "source": [
        "**Pooled OLS w/ Clustered Standard Errors controlling for spatio-temporal autocorrelation**"
      ],
      "metadata": {
        "id": "_x0M-1ymS4is"
      }
    },
    {
      "cell_type": "code",
      "source": [
        "clust_entity_time = mod.fit(\n",
        "    cov_type=\"clustered\", cluster_entity=True, cluster_time=True\n",
        ")\n",
        "\n",
        "#Store values for checking homoskedasticity graphically\n",
        "fittedvals_clust_entity_time = clust_entity_time.predict().fitted_values\n",
        "residuals_clust_entity_time = clust_entity_time.resids\n",
        "\n",
        "clust_entity_time"
      ],
      "metadata": {
        "colab": {
          "base_uri": "https://localhost:8080/",
          "height": 521
        },
        "id": "2w9J84xDQo1X",
        "outputId": "2870c67c-896f-4ba5-b726-eb7ba9bfcff7"
      },
      "execution_count": 25,
      "outputs": [
        {
          "output_type": "execute_result",
          "data": {
            "text/plain": [
              "                          PooledOLS Estimation Summary                          \n",
              "================================================================================\n",
              "Dep. Variable:                  pcgnp   R-squared:                        0.0409\n",
              "Estimator:                  PooledOLS   R-squared (Between):              0.0433\n",
              "No. Observations:                1224   R-squared (Within):              -0.0034\n",
              "Date:                Sun, Jul 24 2022   R-squared (Overall):              0.0409\n",
              "Time:                        19:50:26   Log-likelihood                   -3668.0\n",
              "Cov. Estimator:             Clustered                                           \n",
              "                                        F-statistic:                      17.340\n",
              "Entities:                         153   P-value                           0.0000\n",
              "Avg Obs:                       8.0000   Distribution:                  F(3,1220)\n",
              "Min Obs:                       8.0000                                           \n",
              "Max Obs:                       8.0000   F-statistic (robust):             3.7786\n",
              "                                        P-value                           0.0103\n",
              "Time periods:                       8   Distribution:                  F(3,1220)\n",
              "Avg Obs:                       153.00                                           \n",
              "Min Obs:                       153.00                                           \n",
              "Max Obs:                       153.00                                           \n",
              "                                                                                \n",
              "                             Parameter Estimates                              \n",
              "==============================================================================\n",
              "            Parameter  Std. Err.     T-stat    P-value    Lower CI    Upper CI\n",
              "------------------------------------------------------------------------------\n",
              "const          5.6468     2.8919     1.9526     0.0511     -0.0268      11.320\n",
              "lpop          -0.0494     0.1923    -0.2569     0.7973     -0.4266      0.3279\n",
              "popinc        -0.4088     0.3819    -1.0704     0.2847     -1.1580      0.3405\n",
              "left          -2.0039     0.6103    -3.2836     0.0011     -3.2011     -0.8066\n",
              "==============================================================================\n",
              "PanelResults, id: 0x7f1d8d0cfcd0"
            ],
            "text/html": [
              "<table class=\"simpletable\">\n",
              "<caption>PooledOLS Estimation Summary</caption>\n",
              "<tr>\n",
              "  <th>Dep. Variable:</th>          <td>pcgnp</td>      <th>  R-squared:         </th>    <td>0.0409</td>  \n",
              "</tr>\n",
              "<tr>\n",
              "  <th>Estimator:</th>            <td>PooledOLS</td>    <th>  R-squared (Between):</th>   <td>0.0433</td>  \n",
              "</tr>\n",
              "<tr>\n",
              "  <th>No. Observations:</th>       <td>1224</td>       <th>  R-squared (Within):</th>    <td>-0.0034</td> \n",
              "</tr>\n",
              "<tr>\n",
              "  <th>Date:</th>             <td>Sun, Jul 24 2022</td> <th>  R-squared (Overall):</th>   <td>0.0409</td>  \n",
              "</tr>\n",
              "<tr>\n",
              "  <th>Time:</th>                 <td>19:50:26</td>     <th>  Log-likelihood     </th>    <td>-3668.0</td> \n",
              "</tr>\n",
              "<tr>\n",
              "  <th>Cov. Estimator:</th>       <td>Clustered</td>    <th>                     </th>       <td></td>     \n",
              "</tr>\n",
              "<tr>\n",
              "  <th></th>                          <td></td>         <th>  F-statistic:       </th>    <td>17.340</td>  \n",
              "</tr>\n",
              "<tr>\n",
              "  <th>Entities:</th>                <td>153</td>       <th>  P-value            </th>    <td>0.0000</td>  \n",
              "</tr>\n",
              "<tr>\n",
              "  <th>Avg Obs:</th>               <td>8.0000</td>      <th>  Distribution:      </th>   <td>F(3,1220)</td>\n",
              "</tr>\n",
              "<tr>\n",
              "  <th>Min Obs:</th>               <td>8.0000</td>      <th>                     </th>       <td></td>     \n",
              "</tr>\n",
              "<tr>\n",
              "  <th>Max Obs:</th>               <td>8.0000</td>      <th>  F-statistic (robust):</th>  <td>3.7786</td>  \n",
              "</tr>\n",
              "<tr>\n",
              "  <th></th>                          <td></td>         <th>  P-value            </th>    <td>0.0103</td>  \n",
              "</tr>\n",
              "<tr>\n",
              "  <th>Time periods:</th>             <td>8</td>        <th>  Distribution:      </th>   <td>F(3,1220)</td>\n",
              "</tr>\n",
              "<tr>\n",
              "  <th>Avg Obs:</th>               <td>153.00</td>      <th>                     </th>       <td></td>     \n",
              "</tr>\n",
              "<tr>\n",
              "  <th>Min Obs:</th>               <td>153.00</td>      <th>                     </th>       <td></td>     \n",
              "</tr>\n",
              "<tr>\n",
              "  <th>Max Obs:</th>               <td>153.00</td>      <th>                     </th>       <td></td>     \n",
              "</tr>\n",
              "<tr>\n",
              "  <th></th>                          <td></td>         <th>                     </th>       <td></td>     \n",
              "</tr>\n",
              "</table>\n",
              "<table class=\"simpletable\">\n",
              "<caption>Parameter Estimates</caption>\n",
              "<tr>\n",
              "     <td></td>    <th>Parameter</th> <th>Std. Err.</th> <th>T-stat</th>  <th>P-value</th> <th>Lower CI</th> <th>Upper CI</th>\n",
              "</tr>\n",
              "<tr>\n",
              "  <th>const</th>   <td>5.6468</td>    <td>2.8919</td>   <td>1.9526</td>  <td>0.0511</td>   <td>-0.0268</td>  <td>11.320</td> \n",
              "</tr>\n",
              "<tr>\n",
              "  <th>lpop</th>    <td>-0.0494</td>   <td>0.1923</td>   <td>-0.2569</td> <td>0.7973</td>   <td>-0.4266</td>  <td>0.3279</td> \n",
              "</tr>\n",
              "<tr>\n",
              "  <th>popinc</th>  <td>-0.4088</td>   <td>0.3819</td>   <td>-1.0704</td> <td>0.2847</td>   <td>-1.1580</td>  <td>0.3405</td> \n",
              "</tr>\n",
              "<tr>\n",
              "  <th>left</th>    <td>-2.0039</td>   <td>0.6103</td>   <td>-3.2836</td> <td>0.0011</td>   <td>-3.2011</td>  <td>-0.8066</td>\n",
              "</tr>\n",
              "</table><br/>id: 0x7f1d8d0cfcd0"
            ]
          },
          "metadata": {},
          "execution_count": 25
        }
      ]
    },
    {
      "cell_type": "code",
      "source": [
        "# 3A. Homoskedasticity\n",
        "import matplotlib.pyplot as plt\n",
        " # 3A.1 Residuals-Plot for growing Variance Detection\n",
        "fig, ax = plt.subplots()\n",
        "ax.scatter(fittedvals_clust_entity_time, residuals_clust_entity_time, color = 'blue')\n",
        "ax.axhline(0, color = 'r', ls = '--')\n",
        "ax.set_xlabel('Predicted Values', fontsize = 15)\n",
        "ax.set_ylabel('Residuals', fontsize = 15)\n",
        "ax.set_title('Homoskedasticity Test', fontsize = 30)\n",
        "plt.show()"
      ],
      "metadata": {
        "colab": {
          "base_uri": "https://localhost:8080/",
          "height": 313
        },
        "id": "aXR3y22tR8dY",
        "outputId": "84e108d7-900e-4f6e-9f49-76a3dda18f4d"
      },
      "execution_count": 26,
      "outputs": [
        {
          "output_type": "display_data",
          "data": {
            "text/plain": [
              "<Figure size 432x288 with 1 Axes>"
            ],
            "image/png": "[encoded data removed]"
          },
          "metadata": {
            "needs_background": "light"
          }
        }
      ]
    },
    {
      "cell_type": "code",
      "source": [
        "# 3A.2 White-Test\n",
        "from statsmodels.stats.diagnostic import het_white, het_breuschpagan\n",
        "pooled_OLS_dataset_ent_time = pd.concat([dataset, residuals_clust_entity_time], axis=1)\n",
        "pooled_OLS_dataset_ent_time = pooled_OLS_dataset_ent_time.drop(['year'], axis = 1).fillna(0)\n",
        "exog = dataset[['lpop', 'popinc', 'left']]\n",
        "exog = sm.tools.tools.add_constant(exog).fillna(0)\n",
        "\n",
        "\n",
        "white_test_results_ent_time = het_white(pooled_OLS_dataset_ent_time['residual'], exog)\n",
        "\n",
        "labels = ['LM-Stat', 'LM p-val', 'F-Stat', 'F p-val'] \n",
        "print(dict(zip(labels, white_test_results_ent_time)))\n",
        "\n",
        "# 3A.3 Breusch-Pagan-Test\n",
        "breusch_pagan_test_results_ent_time = het_breuschpagan(pooled_OLS_dataset_ent_time['residual'], exog)\n",
        "labels = ['LM-Stat', 'LM p-val', 'F-Stat', 'F p-val'] \n",
        "print(dict(zip(labels, breusch_pagan_test_results_ent_time)))"
      ],
      "metadata": {
        "colab": {
          "base_uri": "https://localhost:8080/"
        },
        "id": "l0XaAnq4TOyk",
        "outputId": "e00a7b1c-f979-46f7-9e5e-ef0d13252921"
      },
      "execution_count": 27,
      "outputs": [
        {
          "output_type": "stream",
          "name": "stdout",
          "text": [
            "{'LM-Stat': 347.9447613982496, 'LM p-val': 2.486308575118104e-70, 'F-Stat': 60.32052353422635, 'F p-val': 5.058558081682303e-83}\n",
            "{'LM-Stat': 68.86950731283335, 'LM p-val': 7.452537399189447e-15, 'F-Stat': 24.245687522916473, 'F p-val': 3.0522996703489514e-15}\n"
          ]
        }
      ]
    },
    {
      "cell_type": "code",
      "source": [
        "# 3.B Non-Autocorrelation\n",
        "# Durbin-Watson-Test\n",
        "from statsmodels.stats.stattools import durbin_watson\n",
        "\n",
        "durbin_watson_test_results_ent_time = durbin_watson(pooled_OLS_dataset_ent_time['residual']) \n",
        "print(durbin_watson_test_results_ent_time)"
      ],
      "metadata": {
        "colab": {
          "base_uri": "https://localhost:8080/"
        },
        "id": "t9nTsK85TuEb",
        "outputId": "ae551e0d-267b-4aa5-ce53-86587fd490f3"
      },
      "execution_count": 28,
      "outputs": [
        {
          "output_type": "stream",
          "name": "stdout",
          "text": [
            "0.1961635401917736\n"
          ]
        }
      ]
    },
    {
      "cell_type": "markdown",
      "source": [
        "The durbin watson t-stat is showing a value of 0.19 which implies a very strong positive autocorrelation given the statistic ranges from 0-4 where as 2 implies no autocorrelation and 0-2 implies positive autocorrelation whereas 2-4 posits negative autocorrelation -- this suggests to us in this context that a fixed and or a random effects model may be more suitable in this context to control for the unobserved heterogeneity's that are being thrown into the error term"
      ],
      "metadata": {
        "id": "sgnIznYZVY8K"
      }
    },
    {
      "cell_type": "markdown",
      "source": [
        "## **Model 3**"
      ],
      "metadata": {
        "id": "q0fAwVdCqiMt"
      }
    },
    {
      "cell_type": "markdown",
      "source": [
        "### **Estimating a Final model with entity/time clustered SE's & a lagged DV**"
      ],
      "metadata": {
        "id": "gbS7GZNfkC1H"
      }
    },
    {
      "cell_type": "code",
      "source": [
        "# Perform PooledOLS\n",
        "from linearmodels import PooledOLS\n",
        "import statsmodels.api as sm\n",
        "\n",
        "exog = dataset[['lpop', 'popinc', 'left', 'lag_pcgnp']]\n",
        "exog = sm.tools.tools.add_constant(exog)\n",
        "endog = dataset['pcgnp']\n",
        "mod = PooledOLS(endog, exog)\n",
        "pooledOLS_res = mod.fit(cov_type='clustered', cluster_entity=True, cluster_time=True)\n",
        "\n",
        "#Store values for checking homoskedasticity graphically\n",
        "fittedvals_pooled_OLS = pooledOLS_res.predict().fitted_values\n",
        "residuals_pooled_OLS = pooledOLS_res.resids"
      ],
      "metadata": {
        "colab": {
          "base_uri": "https://localhost:8080/"
        },
        "id": "t35MO5d3kPjk",
        "outputId": "8d89c02c-d70e-4626-9854-764a8dd936d1"
      },
      "execution_count": 29,
      "outputs": [
        {
          "output_type": "stream",
          "name": "stderr",
          "text": [
            "/usr/local/lib/python3.7/dist-packages/linearmodels/shared/exceptions.py:37: MissingValueWarning: \n",
            "Inputs contain missing values. Dropping rows with missing observations.\n",
            "  warnings.warn(missing_value_warning_msg, MissingValueWarning)\n"
          ]
        }
      ]
    },
    {
      "cell_type": "code",
      "source": [
        "pooledOLS_res"
      ],
      "metadata": {
        "colab": {
          "base_uri": "https://localhost:8080/",
          "height": 541
        },
        "id": "Lhx6PM9hkglp",
        "outputId": "78cd991f-90d4-434b-afb5-cf2d8749e404"
      },
      "execution_count": 30,
      "outputs": [
        {
          "output_type": "execute_result",
          "data": {
            "text/plain": [
              "                          PooledOLS Estimation Summary                          \n",
              "================================================================================\n",
              "Dep. Variable:                  pcgnp   R-squared:                        0.8225\n",
              "Estimator:                  PooledOLS   R-squared (Between):              0.9663\n",
              "No. Observations:                1223   R-squared (Within):              -1.8373\n",
              "Date:                Sun, Jul 24 2022   R-squared (Overall):              0.8225\n",
              "Time:                        19:50:27   Log-likelihood                   -2632.8\n",
              "Cov. Estimator:             Clustered                                           \n",
              "                                        F-statistic:                      1410.6\n",
              "Entities:                         153   P-value                           0.0000\n",
              "Avg Obs:                       7.9935   Distribution:                  F(4,1218)\n",
              "Min Obs:                       7.0000                                           \n",
              "Max Obs:                       8.0000   F-statistic (robust):             632.89\n",
              "                                        P-value                           0.0000\n",
              "Time periods:                       8   Distribution:                  F(4,1218)\n",
              "Avg Obs:                       152.88                                           \n",
              "Min Obs:                       152.00                                           \n",
              "Max Obs:                       153.00                                           \n",
              "                                                                                \n",
              "                             Parameter Estimates                              \n",
              "==============================================================================\n",
              "            Parameter  Std. Err.     T-stat    P-value    Lower CI    Upper CI\n",
              "------------------------------------------------------------------------------\n",
              "const          0.5348     0.5650     0.9467     0.3440     -0.5736      1.6433\n",
              "lpop          -0.0007     0.0353    -0.0209     0.9834     -0.0700      0.0685\n",
              "popinc        -0.0473     0.0981    -0.4821     0.6299     -0.2397      0.1452\n",
              "left          -0.3414     0.1952    -1.7491     0.0805     -0.7243      0.0415\n",
              "lag_pcgnp      0.9000     0.0946     9.5106     0.0000      0.7144      1.0857\n",
              "==============================================================================\n",
              "PanelResults, id: 0x7f1d8d0af290"
            ],
            "text/html": [
              "<table class=\"simpletable\">\n",
              "<caption>PooledOLS Estimation Summary</caption>\n",
              "<tr>\n",
              "  <th>Dep. Variable:</th>          <td>pcgnp</td>      <th>  R-squared:         </th>    <td>0.8225</td>  \n",
              "</tr>\n",
              "<tr>\n",
              "  <th>Estimator:</th>            <td>PooledOLS</td>    <th>  R-squared (Between):</th>   <td>0.9663</td>  \n",
              "</tr>\n",
              "<tr>\n",
              "  <th>No. Observations:</th>       <td>1223</td>       <th>  R-squared (Within):</th>    <td>-1.8373</td> \n",
              "</tr>\n",
              "<tr>\n",
              "  <th>Date:</th>             <td>Sun, Jul 24 2022</td> <th>  R-squared (Overall):</th>   <td>0.8225</td>  \n",
              "</tr>\n",
              "<tr>\n",
              "  <th>Time:</th>                 <td>19:50:27</td>     <th>  Log-likelihood     </th>    <td>-2632.8</td> \n",
              "</tr>\n",
              "<tr>\n",
              "  <th>Cov. Estimator:</th>       <td>Clustered</td>    <th>                     </th>       <td></td>     \n",
              "</tr>\n",
              "<tr>\n",
              "  <th></th>                          <td></td>         <th>  F-statistic:       </th>    <td>1410.6</td>  \n",
              "</tr>\n",
              "<tr>\n",
              "  <th>Entities:</th>                <td>153</td>       <th>  P-value            </th>    <td>0.0000</td>  \n",
              "</tr>\n",
              "<tr>\n",
              "  <th>Avg Obs:</th>               <td>7.9935</td>      <th>  Distribution:      </th>   <td>F(4,1218)</td>\n",
              "</tr>\n",
              "<tr>\n",
              "  <th>Min Obs:</th>               <td>7.0000</td>      <th>                     </th>       <td></td>     \n",
              "</tr>\n",
              "<tr>\n",
              "  <th>Max Obs:</th>               <td>8.0000</td>      <th>  F-statistic (robust):</th>  <td>632.89</td>  \n",
              "</tr>\n",
              "<tr>\n",
              "  <th></th>                          <td></td>         <th>  P-value            </th>    <td>0.0000</td>  \n",
              "</tr>\n",
              "<tr>\n",
              "  <th>Time periods:</th>             <td>8</td>        <th>  Distribution:      </th>   <td>F(4,1218)</td>\n",
              "</tr>\n",
              "<tr>\n",
              "  <th>Avg Obs:</th>               <td>152.88</td>      <th>                     </th>       <td></td>     \n",
              "</tr>\n",
              "<tr>\n",
              "  <th>Min Obs:</th>               <td>152.00</td>      <th>                     </th>       <td></td>     \n",
              "</tr>\n",
              "<tr>\n",
              "  <th>Max Obs:</th>               <td>153.00</td>      <th>                     </th>       <td></td>     \n",
              "</tr>\n",
              "<tr>\n",
              "  <th></th>                          <td></td>         <th>                     </th>       <td></td>     \n",
              "</tr>\n",
              "</table>\n",
              "<table class=\"simpletable\">\n",
              "<caption>Parameter Estimates</caption>\n",
              "<tr>\n",
              "      <td></td>      <th>Parameter</th> <th>Std. Err.</th> <th>T-stat</th>  <th>P-value</th> <th>Lower CI</th> <th>Upper CI</th>\n",
              "</tr>\n",
              "<tr>\n",
              "  <th>const</th>      <td>0.5348</td>    <td>0.5650</td>   <td>0.9467</td>  <td>0.3440</td>   <td>-0.5736</td>  <td>1.6433</td> \n",
              "</tr>\n",
              "<tr>\n",
              "  <th>lpop</th>       <td>-0.0007</td>   <td>0.0353</td>   <td>-0.0209</td> <td>0.9834</td>   <td>-0.0700</td>  <td>0.0685</td> \n",
              "</tr>\n",
              "<tr>\n",
              "  <th>popinc</th>     <td>-0.0473</td>   <td>0.0981</td>   <td>-0.4821</td> <td>0.6299</td>   <td>-0.2397</td>  <td>0.1452</td> \n",
              "</tr>\n",
              "<tr>\n",
              "  <th>left</th>       <td>-0.3414</td>   <td>0.1952</td>   <td>-1.7491</td> <td>0.0805</td>   <td>-0.7243</td>  <td>0.0415</td> \n",
              "</tr>\n",
              "<tr>\n",
              "  <th>lag_pcgnp</th>  <td>0.9000</td>    <td>0.0946</td>   <td>9.5106</td>  <td>0.0000</td>   <td>0.7144</td>   <td>1.0857</td> \n",
              "</tr>\n",
              "</table><br/>id: 0x7f1d8d0af290"
            ]
          },
          "metadata": {},
          "execution_count": 30
        }
      ]
    },
    {
      "cell_type": "code",
      "source": [
        "# 3A. Homoskedasticity\n",
        "import matplotlib.pyplot as plt\n",
        " # 3A.1 Residuals-Plot for growing Variance Detection\n",
        "fig, ax = plt.subplots()\n",
        "ax.scatter(fittedvals_pooled_OLS, residuals_pooled_OLS, color = 'blue')\n",
        "ax.axhline(0, color = 'r', ls = '--')\n",
        "ax.set_xlabel('Predicted Values', fontsize = 15)\n",
        "ax.set_ylabel('Residuals', fontsize = 15)\n",
        "ax.set_title('Homoskedasticity Test', fontsize = 30)\n",
        "plt.show()"
      ],
      "metadata": {
        "colab": {
          "base_uri": "https://localhost:8080/",
          "height": 313
        },
        "id": "orAp-5QhlD-O",
        "outputId": "65cb4ff2-5e23-45d8-c257-efcac06529a9"
      },
      "execution_count": 31,
      "outputs": [
        {
          "output_type": "display_data",
          "data": {
            "text/plain": [
              "<Figure size 432x288 with 1 Axes>"
            ],
            "image/png": "[encoded data removed]"
          },
          "metadata": {
            "needs_background": "light"
          }
        }
      ]
    },
    {
      "cell_type": "code",
      "source": [
        "# 3A.2 White-Test\n",
        "from statsmodels.stats.diagnostic import het_white, het_breuschpagan\n",
        "pooled_OLS_dataset = pd.concat([dataset, residuals_pooled_OLS], axis=1)\n",
        "pooled_OLS_dataset = pooled_OLS_dataset.drop(['year'], axis = 1).fillna(0)\n",
        "exog = dataset[['lpop', 'popinc', 'left', 'lag_pcgnp']]\n",
        "exog = sm.tools.tools.add_constant(exog).fillna(0)\n",
        "\n",
        "\n",
        "white_test_results = het_white(pooled_OLS_dataset['residual'], exog)\n",
        "\n",
        "labels = ['LM-Stat', 'LM p-val', 'F-Stat', 'F p-val'] \n",
        "print(dict(zip(labels, white_test_results)))\n",
        "\n",
        "# 3A.3 Breusch-Pagan-Test\n",
        "breusch_pagan_test_results = het_breuschpagan(pooled_OLS_dataset['residual'], exog)\n",
        "labels = ['LM-Stat', 'LM p-val', 'F-Stat', 'F p-val'] \n",
        "print(dict(zip(labels, breusch_pagan_test_results)))"
      ],
      "metadata": {
        "colab": {
          "base_uri": "https://localhost:8080/"
        },
        "id": "qx2bmV7llLYA",
        "outputId": "c9c16bc8-f125-4175-909e-cab9c0e25786"
      },
      "execution_count": 32,
      "outputs": [
        {
          "output_type": "stream",
          "name": "stdout",
          "text": [
            "{'LM-Stat': 155.85278479680233, 'LM p-val': 1.3595306135794847e-26, 'F-Stat': 13.580803708875113, 'F p-val': 1.48583902515674e-28}\n",
            "{'LM-Stat': 81.50284099211092, 'LM p-val': 8.36670014971006e-17, 'F-Stat': 21.740089764349506, 'F p-val': 2.3925612173811842e-17}\n"
          ]
        }
      ]
    },
    {
      "cell_type": "markdown",
      "source": [
        "Overall, it appears that our model is still suffering from spatio-dependence after including a lagged AR(1) of the Dependent Variable on the right-hand side of the regression equation but the heteroskeadasticity has been improve and our variance is much more homoskedastic"
      ],
      "metadata": {
        "id": "0ZhiTD69mIQD"
      }
    },
    {
      "cell_type": "code",
      "source": [
        "# 3.B Non-Autocorrelation\n",
        "# Durbin-Watson-Test\n",
        "from statsmodels.stats.stattools import durbin_watson\n",
        "\n",
        "durbin_watson_test_results = durbin_watson(pooled_OLS_dataset['residual']) \n",
        "print(durbin_watson_test_results)"
      ],
      "metadata": {
        "colab": {
          "base_uri": "https://localhost:8080/"
        },
        "id": "J5kChxHlmFu0",
        "outputId": "d5f19b78-2ffe-413e-d581-a2dc480c57b6"
      },
      "execution_count": 33,
      "outputs": [
        {
          "output_type": "stream",
          "name": "stdout",
          "text": [
            "2.1717206733872105\n"
          ]
        }
      ]
    },
    {
      "cell_type": "markdown",
      "source": [
        "However, after including a lag of the DV on the right-hand side of the model, our temporal autocorrelation has greatly been accounted for as is evident by the DW test statistic hovering near 2 which suggests to us very low levels of temporal autocorrelation or possibly slighlty negative autocorrelation but nothing of which is too concerning. "
      ],
      "metadata": {
        "id": "C5F2K16YmasB"
      }
    },
    {
      "cell_type": "markdown",
      "source": [
        "# **Question 1**\n",
        "\"Using the model specification used in PCSEs.do, test for cross sectional dependence and autocorrelation. Remember that you need to run xtreg before using some of the dependence tests (e.g., xtreg vanhdemo pcgnp left lpop iwar milctr2 britinfl). Report your results; do you find evidence of temporal dependence? Cross-sectional dependence?\""
      ],
      "metadata": {
        "id": "rziVbh6YWdEZ"
      }
    },
    {
      "cell_type": "markdown",
      "source": [
        "## **Question 1 Answer:**\n",
        "\n",
        "Overall, I have found in the first 2 models I estimated evidence of both temporal dependence and spatio-dependence. The Breusch-Pagan lm tests for both pooledOLS models reported (1. with clustered standard errors clustered solely by entity (controlling for autocorrelation across time), & 2. w/ clustered standard errors reported clustered by both time and entity (controlling for autocorrelation between entities w/in a given time period and across time respectively) showed a p value < 0.05 for both models implying that we have spatio-dependence. The White's test also confirmed this spatio-temporal finding along with graphical displays of the fitted values plotted against the residuals which showed clear heteroskedasticity as well. Also, I found robust evidence for autocorrelation as well from the Durbin-Watson test statistic calculated that showed for both models a DW test stat of roughly 0.19 suggesting to us very strong positive-autocorrelation. "
      ],
      "metadata": {
        "id": "NFPaeDWXWgjV"
      }
    },
    {
      "cell_type": "markdown",
      "source": [
        "# **Question 2**\n",
        "\"Given the type of structure this panel data has (N x T), which test do you think might be the most reliable to use?\""
      ],
      "metadata": {
        "id": "6MQspIakecSG"
      }
    },
    {
      "cell_type": "markdown",
      "source": [
        "## **Question 2 Answer**"
      ],
      "metadata": {
        "id": "EaRnEiU3ef4w"
      }
    },
    {
      "cell_type": "code",
      "source": [
        "\n",
        "print(f\"Unique # of units (groups) = {len(pooled_OLS_dataset.index.get_level_values('ccode').unique())}\")\n",
        "print(f\"Unique # of time periods = {len(pooled_OLS_dataset.index.get_level_values('year').unique())}\")"
      ],
      "metadata": {
        "colab": {
          "base_uri": "https://localhost:8080/"
        },
        "id": "o41bl9YzgxEg",
        "outputId": "3bdb7caa-c812-405d-a11b-b30ad68a7984"
      },
      "execution_count": 34,
      "outputs": [
        {
          "output_type": "stream",
          "name": "stdout",
          "text": [
            "Unique # of units (groups) = 153\n",
            "Unique # of time periods = 8\n"
          ]
        }
      ]
    },
    {
      "cell_type": "markdown",
      "source": [
        "Because N in this case is much much laarger than T -- it would be optimal if we could use the Freese, Friedman, or Pesaran tests for spatio dependence but given the limitations in python as a statistical software, I had to opt for the bruesch-pagan test along with white's test. For testing for autocorrelation, the durbin-watson test was employed once again due to the limitations in python statistical software. \n",
        "\n"
      ],
      "metadata": {
        "id": "H9kH3A_Fhab9"
      }
    },
    {
      "cell_type": "markdown",
      "source": [
        "# **Question 3**\n",
        "\"Based on your results in Q1, estimate a model that accounts for the issues you describe above. Unfortunately, we can’t run these tests again after using xtpcse. But do your regression results change?\""
      ],
      "metadata": {
        "id": "9k326w4EreML"
      }
    },
    {
      "cell_type": "markdown",
      "source": [
        "### **Question 3 Answer**"
      ],
      "metadata": {
        "id": "EB2Ju1y4u3hK"
      }
    },
    {
      "cell_type": "markdown",
      "source": [
        "Based on the results in Q1, the model I've estimated that accounts for the issues I described above is the model as was estimated in model 3 with clustered standard errors reported for both entity and time controlling for spatio dependence and temporal dependence respectively along with a lagged version of the dependent variable taking the form of an AR(1) included on the right-hand side of the regression equation. This accounts for the temporal autocorrelation while the spatio correlation is accounted for in the fixes with the standard errors clustered reported, although we can completely remove all bias from spatio-dependence and heterskedasticity, the estimate is still robust and the results remain consistent. However, the fact that we are still suffering from spatio-correlation as was evidenced by the Bruesch-Pagan test may also imply that there is still unobserved heterogeniety that is being picked up in the error term that is not being accounted for in the model which suggests to us that a fixed and or random effects model may also be a valid approach. "
      ],
      "metadata": {
        "id": "xYMaVKxRrngw"
      }
    }
  ]
}