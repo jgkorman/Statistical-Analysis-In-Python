{
  "nbformat": 4,
  "nbformat_minor": 0,
  "metadata": {
    "colab": {
      "name": "Assignment_5_PDLA_Korman_JamesG_ICPSR_2022.ipynb",
      "provenance": [],
      "collapsed_sections": [],
      "mount_file_id": "1QrLcUBp_S-OudCL1_7CySEO1oilpu_pO",
      "authorship_tag": "ABX9TyPhUYoLEC598xcFWWyVI1lb",
      "include_colab_link": true
    },
    "kernelspec": {
      "name": "python3",
      "display_name": "Python 3"
    },
    "language_info": {
      "name": "python"
    }
  },
  "cells": [
    {
      "cell_type": "markdown",
      "metadata": {
        "id": "view-in-github",
        "colab_type": "text"
      },
      "source": [
        "<a href=\"https://colab.research.google.com/github/jgkorman/Statistical-Analysis-In-Python/blob/main/Assignment_5_PDLA_Korman_JamesG_ICPSR_2022.ipynb\" target=\"_parent\"><img src=\"https://colab.research.google.com/assets/colab-badge.svg\" alt=\"Open In Colab\"/></a>"
      ]
    },
    {
      "cell_type": "markdown",
      "source": [
        "# **ICPSR PDLA Assignment 5**\n",
        "Author: Korman, James, G\n",
        "\n"
      ],
      "metadata": {
        "id": "6JFz_0c3JyiV"
      }
    },
    {
      "cell_type": "markdown",
      "source": [
        "# **Directions**\n",
        "\n",
        "\n",
        "This assignment will use the National Longitudinal Survey (1968 to 1988) with data on 5,159 young women (14-26 years of age in 1968). The variables are\n",
        "\n",
        "* ln_wage: ln(wage/GNP deflator) (DV)\n",
        "* age: age in current year\n",
        "* msp: 1 if married, spouse present\n",
        "* ttl_exp: total work experience"
      ],
      "metadata": {
        "id": "YEtfbSkn089G"
      }
    },
    {
      "cell_type": "markdown",
      "source": [
        "## **Reading in the Data & Descriptive Statistics**"
      ],
      "metadata": {
        "id": "XX6pl9siLTK0"
      }
    },
    {
      "cell_type": "code",
      "source": [
        "import pandas as pd\n",
        "import numpy as np\n",
        "import matplotlib.pyplot as plt \n",
        "import seaborn as sns\n",
        "\n",
        "import scipy.stats as st\n",
        "import statsmodels.api as sm\n",
        "import statsmodels.graphics.tsaplots as tsap\n",
        "from statsmodels.compat import lzip\n",
        "from statsmodels.stats.diagnostic import het_white\n"
      ],
      "metadata": {
        "id": "cO4iH8u-LRF7"
      },
      "execution_count": 7,
      "outputs": []
    },
    {
      "cell_type": "code",
      "source": [
        "dtafile = '/content/drive/MyDrive/Delaware/ICPSR_2022/Panel Data And Longitudinal Analysis/Assignments/Assignment 5/Copy of National Longitudinal Survey.dta'\n",
        "\n",
        "df = pd.read_stata(dtafile)\n",
        "df = df.set_index(['idcode', 'year'])\n",
        "df"
      ],
      "metadata": {
        "colab": {
          "base_uri": "https://localhost:8080/",
          "height": 455
        },
        "id": "GfytIpRotE9w",
        "outputId": "773c9a33-6f7e-4a04-b7e4-3c691b81bc4e"
      },
      "execution_count": 8,
      "outputs": [
        {
          "output_type": "execute_result",
          "data": {
            "text/plain": [
              "              age  msp    ttl_exp   ln_wage\n",
              "idcode year                                \n",
              "1      70    18.0  0.0   1.083333  1.451214\n",
              "       71    19.0  1.0   1.275641  1.028620\n",
              "       72    20.0  1.0   2.256410  1.589977\n",
              "       73    21.0  1.0   2.314102  1.780273\n",
              "       75    23.0  1.0   2.775641  1.777012\n",
              "...           ...  ...        ...       ...\n",
              "5159   80    35.0  0.0   5.000000  1.784807\n",
              "       82    37.0  0.0   7.000000  1.871802\n",
              "       83    38.0  0.0   8.076923  1.843853\n",
              "       85    40.0  0.0   9.076923  1.799792\n",
              "       88    43.0  0.0  10.596154  1.968204\n",
              "\n",
              "[28534 rows x 4 columns]"
            ],
            "text/html": [
              "\n",
              "  <div id=\"df-571fb2aa-7aa7-4e53-a876-e90b052b4e54\">\n",
              "    <div class=\"colab-df-container\">\n",
              "      <div>\n",
              "<style scoped>\n",
              "    .dataframe tbody tr th:only-of-type {\n",
              "        vertical-align: middle;\n",
              "    }\n",
              "\n",
              "    .dataframe tbody tr th {\n",
              "        vertical-align: top;\n",
              "    }\n",
              "\n",
              "    .dataframe thead th {\n",
              "        text-align: right;\n",
              "    }\n",
              "</style>\n",
              "<table border=\"1\" class=\"dataframe\">\n",
              "  <thead>\n",
              "    <tr style=\"text-align: right;\">\n",
              "      <th></th>\n",
              "      <th></th>\n",
              "      <th>age</th>\n",
              "      <th>msp</th>\n",
              "      <th>ttl_exp</th>\n",
              "      <th>ln_wage</th>\n",
              "    </tr>\n",
              "    <tr>\n",
              "      <th>idcode</th>\n",
              "      <th>year</th>\n",
              "      <th></th>\n",
              "      <th></th>\n",
              "      <th></th>\n",
              "      <th></th>\n",
              "    </tr>\n",
              "  </thead>\n",
              "  <tbody>\n",
              "    <tr>\n",
              "      <th rowspan=\"5\" valign=\"top\">1</th>\n",
              "      <th>70</th>\n",
              "      <td>18.0</td>\n",
              "      <td>0.0</td>\n",
              "      <td>1.083333</td>\n",
              "      <td>1.451214</td>\n",
              "    </tr>\n",
              "    <tr>\n",
              "      <th>71</th>\n",
              "      <td>19.0</td>\n",
              "      <td>1.0</td>\n",
              "      <td>1.275641</td>\n",
              "      <td>1.028620</td>\n",
              "    </tr>\n",
              "    <tr>\n",
              "      <th>72</th>\n",
              "      <td>20.0</td>\n",
              "      <td>1.0</td>\n",
              "      <td>2.256410</td>\n",
              "      <td>1.589977</td>\n",
              "    </tr>\n",
              "    <tr>\n",
              "      <th>73</th>\n",
              "      <td>21.0</td>\n",
              "      <td>1.0</td>\n",
              "      <td>2.314102</td>\n",
              "      <td>1.780273</td>\n",
              "    </tr>\n",
              "    <tr>\n",
              "      <th>75</th>\n",
              "      <td>23.0</td>\n",
              "      <td>1.0</td>\n",
              "      <td>2.775641</td>\n",
              "      <td>1.777012</td>\n",
              "    </tr>\n",
              "    <tr>\n",
              "      <th>...</th>\n",
              "      <th>...</th>\n",
              "      <td>...</td>\n",
              "      <td>...</td>\n",
              "      <td>...</td>\n",
              "      <td>...</td>\n",
              "    </tr>\n",
              "    <tr>\n",
              "      <th rowspan=\"5\" valign=\"top\">5159</th>\n",
              "      <th>80</th>\n",
              "      <td>35.0</td>\n",
              "      <td>0.0</td>\n",
              "      <td>5.000000</td>\n",
              "      <td>1.784807</td>\n",
              "    </tr>\n",
              "    <tr>\n",
              "      <th>82</th>\n",
              "      <td>37.0</td>\n",
              "      <td>0.0</td>\n",
              "      <td>7.000000</td>\n",
              "      <td>1.871802</td>\n",
              "    </tr>\n",
              "    <tr>\n",
              "      <th>83</th>\n",
              "      <td>38.0</td>\n",
              "      <td>0.0</td>\n",
              "      <td>8.076923</td>\n",
              "      <td>1.843853</td>\n",
              "    </tr>\n",
              "    <tr>\n",
              "      <th>85</th>\n",
              "      <td>40.0</td>\n",
              "      <td>0.0</td>\n",
              "      <td>9.076923</td>\n",
              "      <td>1.799792</td>\n",
              "    </tr>\n",
              "    <tr>\n",
              "      <th>88</th>\n",
              "      <td>43.0</td>\n",
              "      <td>0.0</td>\n",
              "      <td>10.596154</td>\n",
              "      <td>1.968204</td>\n",
              "    </tr>\n",
              "  </tbody>\n",
              "</table>\n",
              "<p>28534 rows × 4 columns</p>\n",
              "</div>\n",
              "      <button class=\"colab-df-convert\" onclick=\"convertToInteractive('df-571fb2aa-7aa7-4e53-a876-e90b052b4e54')\"\n",
              "              title=\"Convert this dataframe to an interactive table.\"\n",
              "              style=\"display:none;\">\n",
              "        \n",
              "  <svg xmlns=\"http://www.w3.org/2000/svg\" height=\"24px\"viewBox=\"0 0 24 24\"\n",
              "       width=\"24px\">\n",
              "    <path d=\"M0 0h24v24H0V0z\" fill=\"none\"/>\n",
              "    <path d=\"M18.56 5.44l.94 2.06.94-2.06 2.06-.94-2.06-.94-.94-2.06-.94 2.06-2.06.94zm-11 1L8.5 8.5l.94-2.06 2.06-.94-2.06-.94L8.5 2.5l-.94 2.06-2.06.94zm10 10l.94 2.06.94-2.06 2.06-.94-2.06-.94-.94-2.06-.94 2.06-2.06.94z\"/><path d=\"M17.41 7.96l-1.37-1.37c-.4-.4-.92-.59-1.43-.59-.52 0-1.04.2-1.43.59L10.3 9.45l-7.72 7.72c-.78.78-.78 2.05 0 2.83L4 21.41c.39.39.9.59 1.41.59.51 0 1.02-.2 1.41-.59l7.78-7.78 2.81-2.81c.8-.78.8-2.07 0-2.86zM5.41 20L4 18.59l7.72-7.72 1.47 1.35L5.41 20z\"/>\n",
              "  </svg>\n",
              "      </button>\n",
              "      \n",
              "  <style>\n",
              "    .colab-df-container {\n",
              "      display:flex;\n",
              "      flex-wrap:wrap;\n",
              "      gap: 12px;\n",
              "    }\n",
              "\n",
              "    .colab-df-convert {\n",
              "      background-color: #E8F0FE;\n",
              "      border: none;\n",
              "      border-radius: 50%;\n",
              "      cursor: pointer;\n",
              "      display: none;\n",
              "      fill: #1967D2;\n",
              "      height: 32px;\n",
              "      padding: 0 0 0 0;\n",
              "      width: 32px;\n",
              "    }\n",
              "\n",
              "    .colab-df-convert:hover {\n",
              "      background-color: #E2EBFA;\n",
              "      box-shadow: 0px 1px 2px rgba(60, 64, 67, 0.3), 0px 1px 3px 1px rgba(60, 64, 67, 0.15);\n",
              "      fill: #174EA6;\n",
              "    }\n",
              "\n",
              "    [theme=dark] .colab-df-convert {\n",
              "      background-color: #3B4455;\n",
              "      fill: #D2E3FC;\n",
              "    }\n",
              "\n",
              "    [theme=dark] .colab-df-convert:hover {\n",
              "      background-color: #434B5C;\n",
              "      box-shadow: 0px 1px 3px 1px rgba(0, 0, 0, 0.15);\n",
              "      filter: drop-shadow(0px 1px 2px rgba(0, 0, 0, 0.3));\n",
              "      fill: #FFFFFF;\n",
              "    }\n",
              "  </style>\n",
              "\n",
              "      <script>\n",
              "        const buttonEl =\n",
              "          document.querySelector('#df-571fb2aa-7aa7-4e53-a876-e90b052b4e54 button.colab-df-convert');\n",
              "        buttonEl.style.display =\n",
              "          google.colab.kernel.accessAllowed ? 'block' : 'none';\n",
              "\n",
              "        async function convertToInteractive(key) {\n",
              "          const element = document.querySelector('#df-571fb2aa-7aa7-4e53-a876-e90b052b4e54');\n",
              "          const dataTable =\n",
              "            await google.colab.kernel.invokeFunction('convertToInteractive',\n",
              "                                                     [key], {});\n",
              "          if (!dataTable) return;\n",
              "\n",
              "          const docLinkHtml = 'Like what you see? Visit the ' +\n",
              "            '<a target=\"_blank\" href=https://colab.research.google.com/notebooks/data_table.ipynb>data table notebook</a>'\n",
              "            + ' to learn more about interactive tables.';\n",
              "          element.innerHTML = '';\n",
              "          dataTable['output_type'] = 'display_data';\n",
              "          await google.colab.output.renderOutput(dataTable, element);\n",
              "          const docLink = document.createElement('div');\n",
              "          docLink.innerHTML = docLinkHtml;\n",
              "          element.appendChild(docLink);\n",
              "        }\n",
              "      </script>\n",
              "    </div>\n",
              "  </div>\n",
              "  "
            ]
          },
          "metadata": {},
          "execution_count": 8
        }
      ]
    },
    {
      "cell_type": "markdown",
      "source": [
        "# **1. Question 1**\n",
        "\n",
        "Using OLS, estimate the following pooled model: \n",
        "\n",
        "**ln_wagei,t = +b1agei,t + b2mspi,t + b3ttl_expi,t + ei,t.** \n",
        "\n",
        "Report the effects. What do you find?"
      ],
      "metadata": {
        "id": "pIdeF0TAomJ0"
      }
    },
    {
      "cell_type": "code",
      "source": [
        "!pip install linearmodels\n",
        "from linearmodels import PooledOLS"
      ],
      "metadata": {
        "colab": {
          "base_uri": "https://localhost:8080/"
        },
        "id": "8VPbvo5x2zXm",
        "outputId": "4002b0c6-33a4-4304-c0dc-833df7514bb2"
      },
      "execution_count": 9,
      "outputs": [
        {
          "output_type": "stream",
          "name": "stdout",
          "text": [
            "Looking in indexes: https://pypi.org/simple, https://us-python.pkg.dev/colab-wheels/public/simple/\n",
            "Requirement already satisfied: linearmodels in /usr/local/lib/python3.7/dist-packages (4.25)\n",
            "Requirement already satisfied: pyhdfe>=0.1 in /usr/local/lib/python3.7/dist-packages (from linearmodels) (0.1.0)\n",
            "Requirement already satisfied: mypy-extensions>=0.4 in /usr/local/lib/python3.7/dist-packages (from linearmodels) (0.4.3)\n",
            "Requirement already satisfied: property-cached>=1.6.3 in /usr/local/lib/python3.7/dist-packages (from linearmodels) (1.6.4)\n",
            "Requirement already satisfied: formulaic in /usr/local/lib/python3.7/dist-packages (from linearmodels) (0.3.4)\n",
            "Requirement already satisfied: numpy>=1.16 in /usr/local/lib/python3.7/dist-packages (from linearmodels) (1.21.6)\n",
            "Requirement already satisfied: patsy in /usr/local/lib/python3.7/dist-packages (from linearmodels) (0.5.2)\n",
            "Requirement already satisfied: statsmodels>=0.11 in /usr/local/lib/python3.7/dist-packages (from linearmodels) (0.13.2)\n",
            "Requirement already satisfied: scipy>=1.2 in /usr/local/lib/python3.7/dist-packages (from linearmodels) (1.7.3)\n",
            "Requirement already satisfied: Cython>=0.29.21 in /usr/local/lib/python3.7/dist-packages (from linearmodels) (0.29.31)\n",
            "Requirement already satisfied: pandas>=0.24 in /usr/local/lib/python3.7/dist-packages (from linearmodels) (1.3.5)\n",
            "Requirement already satisfied: pytz>=2017.3 in /usr/local/lib/python3.7/dist-packages (from pandas>=0.24->linearmodels) (2022.1)\n",
            "Requirement already satisfied: python-dateutil>=2.7.3 in /usr/local/lib/python3.7/dist-packages (from pandas>=0.24->linearmodels) (2.8.2)\n",
            "Requirement already satisfied: six>=1.5 in /usr/local/lib/python3.7/dist-packages (from python-dateutil>=2.7.3->pandas>=0.24->linearmodels) (1.15.0)\n",
            "Requirement already satisfied: packaging>=21.3 in /usr/local/lib/python3.7/dist-packages (from statsmodels>=0.11->linearmodels) (21.3)\n",
            "Requirement already satisfied: pyparsing!=3.0.5,>=2.0.2 in /usr/local/lib/python3.7/dist-packages (from packaging>=21.3->statsmodels>=0.11->linearmodels) (3.0.9)\n",
            "Requirement already satisfied: astor>=0.8 in /usr/local/lib/python3.7/dist-packages (from formulaic->linearmodels) (0.8.1)\n",
            "Requirement already satisfied: wrapt>=1.0 in /usr/local/lib/python3.7/dist-packages (from formulaic->linearmodels) (1.14.1)\n",
            "Requirement already satisfied: interface-meta<2.0.0,>=1.2.0 in /usr/local/lib/python3.7/dist-packages (from formulaic->linearmodels) (1.3.0)\n"
          ]
        }
      ]
    },
    {
      "cell_type": "code",
      "source": [
        "\n",
        "endog = df['ln_wage']\n",
        "exog = df[['age', 'msp', 'ttl_exp']]\n",
        "exog = sm.tools.tools.add_constant(exog)\n",
        "mod = PooledOLS(endog, exog)\n",
        "res = mod.fit(cov_type='clustered', cluster_entity=True)\n",
        "print(res.summary)\n"
      ],
      "metadata": {
        "colab": {
          "base_uri": "https://localhost:8080/"
        },
        "id": "m_rJHu7g3-Q6",
        "outputId": "94ca79e1-30ff-49ba-ec5f-b6948f85f623"
      },
      "execution_count": 10,
      "outputs": [
        {
          "output_type": "stream",
          "name": "stderr",
          "text": [
            "/usr/local/lib/python3.7/dist-packages/statsmodels/tsa/tsatools.py:117: FutureWarning: In a future version of pandas all arguments of concat except for the argument 'objs' will be keyword-only\n",
            "  # put in order ctt\n",
            "/usr/local/lib/python3.7/dist-packages/linearmodels/shared/exceptions.py:37: MissingValueWarning: \n",
            "Inputs contain missing values. Dropping rows with missing observations.\n",
            "  warnings.warn(missing_value_warning_msg, MissingValueWarning)\n"
          ]
        },
        {
          "output_type": "stream",
          "name": "stdout",
          "text": [
            "                          PooledOLS Estimation Summary                          \n",
            "================================================================================\n",
            "Dep. Variable:                ln_wage   R-squared:                        0.1801\n",
            "Estimator:                  PooledOLS   R-squared (Between):              0.2450\n",
            "No. Observations:               28494   R-squared (Within):               0.1215\n",
            "Date:                Tue, Aug 02 2022   R-squared (Overall):              0.1801\n",
            "Time:                        20:28:40   Log-likelihood                -1.658e+04\n",
            "Cov. Estimator:             Clustered                                           \n",
            "                                        F-statistic:                      2086.0\n",
            "Entities:                        4710   P-value                           0.0000\n",
            "Avg Obs:                       6.0497   Distribution:                 F(3,28490)\n",
            "Min Obs:                       1.0000                                           \n",
            "Max Obs:                       15.000   F-statistic (robust):             652.35\n",
            "                                        P-value                           0.0000\n",
            "Time periods:                      15   Distribution:                 F(3,28490)\n",
            "Avg Obs:                       1899.6                                           \n",
            "Min Obs:                       1223.0                                           \n",
            "Max Obs:                       2258.0                                           \n",
            "                                                                                \n",
            "                             Parameter Estimates                              \n",
            "==============================================================================\n",
            "            Parameter  Std. Err.     T-stat    P-value    Lower CI    Upper CI\n",
            "------------------------------------------------------------------------------\n",
            "const          1.5487     0.0237     65.468     0.0000      1.5024      1.5951\n",
            "age           -0.0067     0.0011    -6.1827     0.0000     -0.0089     -0.0046\n",
            "msp            0.0140     0.0095     1.4740     0.1405     -0.0046      0.0327\n",
            "ttl_exp        0.0504     0.0017     29.267     0.0000      0.0471      0.0538\n",
            "==============================================================================\n"
          ]
        }
      ]
    },
    {
      "cell_type": "markdown",
      "source": [
        "With the pooled OLS model above using clustered standard errors clustered by entity, I find that age is a highly statistically significant predictor of log wage at the P < .01 level suggesting to us that as age increases, log wages decrease. Being married relative to not being married (msp variable) is not statistically significant thereby we can't say that it is a factor that determines log wages. The variable \"total experience\" however was statistically significant and positive suggesting to us the more total experience, the greater earnings there are. The model explained about 18% of the variaiton overall in log wages. "
      ],
      "metadata": {
        "id": "thCsFwrF6QgK"
      }
    },
    {
      "cell_type": "markdown",
      "source": [
        "# **2. Question 2** \n",
        "\n",
        "Using GLS, estimate the following random-effects models: \n",
        "\n",
        "**ln_wagei,t = +b1agei,t + b2mspi,t + b3ttl_expi,t + hi + ei,t.**\n",
        "\n",
        "Report the effects. What do you find?"
      ],
      "metadata": {
        "id": "b1vQ5i8XrHGa"
      }
    },
    {
      "cell_type": "code",
      "source": [
        "from linearmodels import RandomEffects\n",
        "mod = RandomEffects(endog, exog)\n",
        "res = mod.fit(cov_type='clustered', cluster_entity=True)\n",
        "print(res.summary)\n"
      ],
      "metadata": {
        "id": "OuUgVlpGxbvD",
        "colab": {
          "base_uri": "https://localhost:8080/"
        },
        "outputId": "f7b2c95a-9ab6-40be-b301-111b7ad0f5e0"
      },
      "execution_count": 11,
      "outputs": [
        {
          "output_type": "stream",
          "name": "stderr",
          "text": [
            "/usr/local/lib/python3.7/dist-packages/linearmodels/shared/exceptions.py:37: MissingValueWarning: \n",
            "Inputs contain missing values. Dropping rows with missing observations.\n",
            "  warnings.warn(missing_value_warning_msg, MissingValueWarning)\n"
          ]
        },
        {
          "output_type": "stream",
          "name": "stdout",
          "text": [
            "                        RandomEffects Estimation Summary                        \n",
            "================================================================================\n",
            "Dep. Variable:                ln_wage   R-squared:                        0.2788\n",
            "Estimator:              RandomEffects   R-squared (Between):              0.2235\n",
            "No. Observations:               28494   R-squared (Within):               0.1363\n",
            "Date:                Tue, Aug 02 2022   R-squared (Overall):              0.1742\n",
            "Time:                        20:28:40   Log-likelihood                   -5960.9\n",
            "Cov. Estimator:             Clustered                                           \n",
            "                                        F-statistic:                      3671.0\n",
            "Entities:                        4710   P-value                           0.0000\n",
            "Avg Obs:                       6.0497   Distribution:                 F(3,28490)\n",
            "Min Obs:                       1.0000                                           \n",
            "Max Obs:                       15.000   F-statistic (robust):             655.71\n",
            "                                        P-value                           0.0000\n",
            "Time periods:                      15   Distribution:                 F(3,28490)\n",
            "Avg Obs:                       1899.6                                           \n",
            "Min Obs:                       1223.0                                           \n",
            "Max Obs:                       2258.0                                           \n",
            "                                                                                \n",
            "                             Parameter Estimates                              \n",
            "==============================================================================\n",
            "            Parameter  Std. Err.     T-stat    P-value    Lower CI    Upper CI\n",
            "------------------------------------------------------------------------------\n",
            "const          1.6099     0.0218     73.897     0.0000      1.5672      1.6526\n",
            "age           -0.0070     0.0010    -7.2833     0.0000     -0.0089     -0.0051\n",
            "msp            0.0047     0.0064     0.7248     0.4686     -0.0079      0.0173\n",
            "ttl_exp        0.0430     0.0014     30.429     0.0000      0.0402      0.0457\n",
            "==============================================================================\n"
          ]
        }
      ]
    },
    {
      "cell_type": "markdown",
      "source": [
        "For the random effects model estimated directly above, in contrast to the Pooled OLS model, the random effects model performed slightly worse in that it  explained about 17% of the variaiton in log wages relative to 18% of the variation in log wages being explained by Pooled OLS model. However, the random effects model is not as biased as the pooled OLS model, in the sense that it controls for some of the unobserved heterogeneieties by explointing both within and between variance (while not accounting for all -- it is still un-biased or the bias is negligble. This is in contrast to the Pooled OLS model which doesn't account for/control any of the unobserved heterogeneities that could also explain the variation in y -- leading the Pooled model to be a biased one. \n",
        "\n",
        "For variable interpretation, age is ocne again negative and highly statistically significant suggesting to us as age increases log wages decrease. married(msp) relative to not being married is not a statistically signiifacnt predictor of log wages. Total experience similar to the pooled model is again highly statistically signifcaint and positive suggesting to us that as one gains overall experience, earnings should increase. "
      ],
      "metadata": {
        "id": "QpbSFeTw_vVf"
      }
    },
    {
      "cell_type": "markdown",
      "source": [
        "# **3. Question 3**. \n",
        "\n",
        "Using OLS, estimate the following fixed-effects models:\n",
        "\n",
        " **ln_wagei,t = +b1agei,t+b2mspi,t+ b3ttl_expi,t + hi + ei,t.**\n",
        " \n",
        " Report the effects. What do you find?"
      ],
      "metadata": {
        "id": "uKFI2KQfEhDj"
      }
    },
    {
      "cell_type": "code",
      "source": [
        "# importing the fixed effects estimator \n",
        "from linearmodels import PanelOLS\n",
        "mod = PanelOLS(endog, exog, entity_effects=True, time_effects=True)\n",
        "res = mod.fit(cov_type='clustered', cluster_entity=True)\n",
        "print(res.summary)"
      ],
      "metadata": {
        "colab": {
          "base_uri": "https://localhost:8080/"
        },
        "id": "wo_hG2hLpn7J",
        "outputId": "71b9c2dc-b2d7-4fa8-fd19-62d1fe539126"
      },
      "execution_count": 12,
      "outputs": [
        {
          "output_type": "stream",
          "name": "stderr",
          "text": [
            "/usr/local/lib/python3.7/dist-packages/linearmodels/shared/exceptions.py:37: MissingValueWarning: \n",
            "Inputs contain missing values. Dropping rows with missing observations.\n",
            "  warnings.warn(missing_value_warning_msg, MissingValueWarning)\n"
          ]
        },
        {
          "output_type": "stream",
          "name": "stdout",
          "text": [
            "                          PanelOLS Estimation Summary                           \n",
            "================================================================================\n",
            "Dep. Variable:                ln_wage   R-squared:                        0.0424\n",
            "Estimator:                   PanelOLS   R-squared (Between):              0.2333\n",
            "No. Observations:               28494   R-squared (Within):               0.0100\n",
            "Date:                Tue, Aug 02 2022   R-squared (Overall):              0.1345\n",
            "Time:                        20:28:41   Log-likelihood                   -3201.8\n",
            "Cov. Estimator:             Clustered                                           \n",
            "                                        F-statistic:                      350.69\n",
            "Entities:                        4710   P-value                           0.0000\n",
            "Avg Obs:                       6.0497   Distribution:                 F(3,23767)\n",
            "Min Obs:                       1.0000                                           \n",
            "Max Obs:                       15.000   F-statistic (robust):             127.60\n",
            "                                        P-value                           0.0000\n",
            "Time periods:                      15   Distribution:                 F(3,23767)\n",
            "Avg Obs:                       1899.6                                           \n",
            "Min Obs:                       1223.0                                           \n",
            "Max Obs:                       2258.0                                           \n",
            "                                                                                \n",
            "                             Parameter Estimates                              \n",
            "==============================================================================\n",
            "            Parameter  Std. Err.     T-stat    P-value    Lower CI    Upper CI\n",
            "------------------------------------------------------------------------------\n",
            "const          1.0492     0.3866     2.7141     0.0066      0.2915      1.8070\n",
            "age            0.0127     0.0133     0.9538     0.3402     -0.0134      0.0388\n",
            "msp           -0.0037     0.0078    -0.4686     0.6394     -0.0190      0.0117\n",
            "ttl_exp        0.0417     0.0021     19.461     0.0000      0.0375      0.0459\n",
            "==============================================================================\n",
            "\n",
            "F-test for Poolability: 7.8357\n",
            "P-value: 0.0000\n",
            "Distribution: F(4723,23767)\n",
            "\n",
            "Included effects: Entity, Time\n"
          ]
        }
      ]
    },
    {
      "cell_type": "markdown",
      "source": [
        "For the fixed effects model estimated above, it only explained about 13% of the variation in log wages from the adjusted R squared -- this is plausible as it is the most restricted model in the sense that it only uses within variance to derive the estimates. The fixed effects model estiamted above also includes both time and entity effects to control for unobserved heterogenieities both across units, and over time. For the fixed effects model, the variable \"age\" is not statistically significant as opposed to the pooled OLS and random effects model suggesting to us age has no effect on log wages in eitehr direction. Being married(msp) again isn't statistically significant. Meanwhile, total experience again was positive and highly stastistically signifiacnt suggesting to us that total experience is a very salient predictor of log wages. "
      ],
      "metadata": {
        "id": "xD91ZNPDx0RO"
      }
    },
    {
      "cell_type": "markdown",
      "source": [
        "# **4. Question 4**\n",
        "\n",
        "How do your results from the pooled, FE and RE estimates/models compare?"
      ],
      "metadata": {
        "id": "6Tyoi5p469QK"
      }
    },
    {
      "cell_type": "markdown",
      "source": [
        "Ovearll, my results from the pooled, FE, and RE model compare as would have been expected. The pooled OLS model is the most flexible model and explained the most amount of variation in log wages relative to the other models, but it is biased in its estimates and therefore untrustworthy. The random effects model again was the happy medium between the three models estimated in that it explained more of the variation in log wages relative to the pure FE model but less than the pooled OLS model. The fixed effects model was the most restrictive model but the most plauiblse model for drawing pure direct infereneces. It explained the least amount of variation in log wages, but we can be sure that the model is unbiased, as both time and entity effects were included where as for the random effects model we put up with a little bit of bias as a result of allowing the model to be more flexible and use between group variance, but we gain more efficiency. This is evident as the standard errors are smaller for the random effects model relative to the FE model suggesting to us greater precision/efficiency. "
      ],
      "metadata": {
        "id": "aUGB9CnuJBSF"
      }
    },
    {
      "cell_type": "markdown",
      "source": [
        "# **5. Question 5**\n",
        "\n",
        "Do you think the RE estinator is or is not theoretically appropriate? Explain your answer.\n",
        "Use the Hausman test to determine if the RE estimator is appropriate."
      ],
      "metadata": {
        "id": "OEXVrB2kKDiN"
      }
    },
    {
      "cell_type": "markdown",
      "source": [
        "I believe the random effects estimator is theoretically appropriate in this case. In this case, we can theorize the random effects as draws from a larger population and help to generalize our findings on the impact of our regressors on log wages. Due to limitations in python as a statistical software at the moment, we are only able to estimate the hasuman test in the presence of ISVLS estimation, and not random and or fixed effects."
      ],
      "metadata": {
        "id": "8oYDp7DQMD3n"
      }
    }
  ]
}