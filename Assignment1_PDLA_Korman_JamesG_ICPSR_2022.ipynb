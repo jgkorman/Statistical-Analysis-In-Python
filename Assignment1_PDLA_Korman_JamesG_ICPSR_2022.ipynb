{
  "nbformat": 4,
  "nbformat_minor": 0,
  "metadata": {
    "colab": {
      "name": "Assignment1_PDLA_Korman_JamesG_ICPSR_2022.ipynb",
      "provenance": [],
      "mount_file_id": "1KqPKWiH8-DBW46RkP2nuWzon9NS9pe-8",
      "authorship_tag": "ABX9TyMU8KK5DVPfdemr6FM/Eu2M",
      "include_colab_link": true
    },
    "kernelspec": {
      "name": "python3",
      "display_name": "Python 3"
    },
    "language_info": {
      "name": "python"
    }
  },
  "cells": [
    {
      "cell_type": "markdown",
      "metadata": {
        "id": "view-in-github",
        "colab_type": "text"
      },
      "source": [
        "<a href=\"https://colab.research.google.com/github/jgkorman/Statistical-Analysis-In-Python/blob/main/Assignment1_PDLA_Korman_JamesG_ICPSR_2022.ipynb\" target=\"_parent\"><img src=\"https://colab.research.google.com/assets/colab-badge.svg\" alt=\"Open In Colab\"/></a>"
      ]
    },
    {
      "cell_type": "markdown",
      "source": [
        "# **ICPSR PDLA Assignment 1**\n",
        "Author: Korman, James, G\n",
        "\n",
        "*Note: This Assignment uses WDI World Bank Data for questions 1 & 2 & income dynamics dataset for questions 3 and 4*"
      ],
      "metadata": {
        "id": "6JFz_0c3JyiV"
      }
    },
    {
      "cell_type": "markdown",
      "source": [
        "## **Reading in the Data & Descriptive Statistics**"
      ],
      "metadata": {
        "id": "XX6pl9siLTK0"
      }
    },
    {
      "cell_type": "code",
      "source": [
        "import pandas as pd\n",
        "import numpy as np\n",
        "import matplotlib.pyplot as plt "
      ],
      "metadata": {
        "id": "cO4iH8u-LRF7"
      },
      "execution_count": 1,
      "outputs": []
    },
    {
      "cell_type": "code",
      "source": [
        "fname = \"/content/drive/MyDrive/Delaware/ICPSR_2022/Panel Data And Longitudinal Analysis/Assignments/Assignment 1_Topics 1 & 2/Copy of wdi_subset.csv\"\n",
        "wdi = pd.read_csv(fname)\n",
        "wdi"
      ],
      "metadata": {
        "colab": {
          "base_uri": "https://localhost:8080/",
          "height": 423
        },
        "id": "rhzrV0DZLfbM",
        "outputId": "a4b19513-4bfb-4d7c-9cbe-6fad84a5ff5c"
      },
      "execution_count": 2,
      "outputs": [
        {
          "output_type": "execute_result",
          "data": {
            "text/plain": [
              "        countryname countrycode  year  agedepratio  birthrateper1000  \\\n",
              "0            Brazil         BRA  1971    82.931709         34.653999   \n",
              "1            Brazil         BRA  1972    81.901657         34.112000   \n",
              "2            Brazil         BRA  1973    80.826630         33.674999   \n",
              "3            Brazil         BRA  1974    79.637421         33.337002   \n",
              "4            Brazil         BRA  1975    78.337425         33.083000   \n",
              "..              ...         ...   ...          ...               ...   \n",
              "465  United Kingdom         GBR  2013    54.015648         12.100000   \n",
              "466  United Kingdom         GBR  2014    54.782848         12.000000   \n",
              "467  United Kingdom         GBR  2015    55.535969         11.900000   \n",
              "468  United Kingdom         GBR  2016    56.174866         11.800000   \n",
              "469  United Kingdom         GBR  2017    56.809673         11.400000   \n",
              "\n",
              "     expenditures_pcgdp  fdi_pcgdp  gdpgrowth  gdppercapita  gdpgrowth_neg  \n",
              "0                   NaN        NaN  11.295087     5095.5425              0  \n",
              "1                   NaN        NaN  12.052802     5572.0273              0  \n",
              "2                   NaN        NaN  13.978692     6199.8232              0  \n",
              "3                   NaN        NaN   9.042120     6600.5220              0  \n",
              "4                   NaN   1.052467   5.209076     6780.2622              0  \n",
              "..                  ...        ...        ...           ...            ...  \n",
              "465           39.776093   1.978278   2.046355    40248.7660              0  \n",
              "466           38.965351   1.940550   2.947560    41124.1450              0  \n",
              "467           38.110355   1.565155   2.349121    41756.9220              0  \n",
              "468           37.084900   9.995738   1.789236    42201.6410              0  \n",
              "469           36.419762   2.452186   1.822928    42692.5630              0  \n",
              "\n",
              "[470 rows x 10 columns]"
            ],
            "text/html": [
              "\n",
              "  <div id=\"df-880f399f-3d3a-47d5-b106-da141407fbb7\">\n",
              "    <div class=\"colab-df-container\">\n",
              "      <div>\n",
              "<style scoped>\n",
              "    .dataframe tbody tr th:only-of-type {\n",
              "        vertical-align: middle;\n",
              "    }\n",
              "\n",
              "    .dataframe tbody tr th {\n",
              "        vertical-align: top;\n",
              "    }\n",
              "\n",
              "    .dataframe thead th {\n",
              "        text-align: right;\n",
              "    }\n",
              "</style>\n",
              "<table border=\"1\" class=\"dataframe\">\n",
              "  <thead>\n",
              "    <tr style=\"text-align: right;\">\n",
              "      <th></th>\n",
              "      <th>countryname</th>\n",
              "      <th>countrycode</th>\n",
              "      <th>year</th>\n",
              "      <th>agedepratio</th>\n",
              "      <th>birthrateper1000</th>\n",
              "      <th>expenditures_pcgdp</th>\n",
              "      <th>fdi_pcgdp</th>\n",
              "      <th>gdpgrowth</th>\n",
              "      <th>gdppercapita</th>\n",
              "      <th>gdpgrowth_neg</th>\n",
              "    </tr>\n",
              "  </thead>\n",
              "  <tbody>\n",
              "    <tr>\n",
              "      <th>0</th>\n",
              "      <td>Brazil</td>\n",
              "      <td>BRA</td>\n",
              "      <td>1971</td>\n",
              "      <td>82.931709</td>\n",
              "      <td>34.653999</td>\n",
              "      <td>NaN</td>\n",
              "      <td>NaN</td>\n",
              "      <td>11.295087</td>\n",
              "      <td>5095.5425</td>\n",
              "      <td>0</td>\n",
              "    </tr>\n",
              "    <tr>\n",
              "      <th>1</th>\n",
              "      <td>Brazil</td>\n",
              "      <td>BRA</td>\n",
              "      <td>1972</td>\n",
              "      <td>81.901657</td>\n",
              "      <td>34.112000</td>\n",
              "      <td>NaN</td>\n",
              "      <td>NaN</td>\n",
              "      <td>12.052802</td>\n",
              "      <td>5572.0273</td>\n",
              "      <td>0</td>\n",
              "    </tr>\n",
              "    <tr>\n",
              "      <th>2</th>\n",
              "      <td>Brazil</td>\n",
              "      <td>BRA</td>\n",
              "      <td>1973</td>\n",
              "      <td>80.826630</td>\n",
              "      <td>33.674999</td>\n",
              "      <td>NaN</td>\n",
              "      <td>NaN</td>\n",
              "      <td>13.978692</td>\n",
              "      <td>6199.8232</td>\n",
              "      <td>0</td>\n",
              "    </tr>\n",
              "    <tr>\n",
              "      <th>3</th>\n",
              "      <td>Brazil</td>\n",
              "      <td>BRA</td>\n",
              "      <td>1974</td>\n",
              "      <td>79.637421</td>\n",
              "      <td>33.337002</td>\n",
              "      <td>NaN</td>\n",
              "      <td>NaN</td>\n",
              "      <td>9.042120</td>\n",
              "      <td>6600.5220</td>\n",
              "      <td>0</td>\n",
              "    </tr>\n",
              "    <tr>\n",
              "      <th>4</th>\n",
              "      <td>Brazil</td>\n",
              "      <td>BRA</td>\n",
              "      <td>1975</td>\n",
              "      <td>78.337425</td>\n",
              "      <td>33.083000</td>\n",
              "      <td>NaN</td>\n",
              "      <td>1.052467</td>\n",
              "      <td>5.209076</td>\n",
              "      <td>6780.2622</td>\n",
              "      <td>0</td>\n",
              "    </tr>\n",
              "    <tr>\n",
              "      <th>...</th>\n",
              "      <td>...</td>\n",
              "      <td>...</td>\n",
              "      <td>...</td>\n",
              "      <td>...</td>\n",
              "      <td>...</td>\n",
              "      <td>...</td>\n",
              "      <td>...</td>\n",
              "      <td>...</td>\n",
              "      <td>...</td>\n",
              "      <td>...</td>\n",
              "    </tr>\n",
              "    <tr>\n",
              "      <th>465</th>\n",
              "      <td>United Kingdom</td>\n",
              "      <td>GBR</td>\n",
              "      <td>2013</td>\n",
              "      <td>54.015648</td>\n",
              "      <td>12.100000</td>\n",
              "      <td>39.776093</td>\n",
              "      <td>1.978278</td>\n",
              "      <td>2.046355</td>\n",
              "      <td>40248.7660</td>\n",
              "      <td>0</td>\n",
              "    </tr>\n",
              "    <tr>\n",
              "      <th>466</th>\n",
              "      <td>United Kingdom</td>\n",
              "      <td>GBR</td>\n",
              "      <td>2014</td>\n",
              "      <td>54.782848</td>\n",
              "      <td>12.000000</td>\n",
              "      <td>38.965351</td>\n",
              "      <td>1.940550</td>\n",
              "      <td>2.947560</td>\n",
              "      <td>41124.1450</td>\n",
              "      <td>0</td>\n",
              "    </tr>\n",
              "    <tr>\n",
              "      <th>467</th>\n",
              "      <td>United Kingdom</td>\n",
              "      <td>GBR</td>\n",
              "      <td>2015</td>\n",
              "      <td>55.535969</td>\n",
              "      <td>11.900000</td>\n",
              "      <td>38.110355</td>\n",
              "      <td>1.565155</td>\n",
              "      <td>2.349121</td>\n",
              "      <td>41756.9220</td>\n",
              "      <td>0</td>\n",
              "    </tr>\n",
              "    <tr>\n",
              "      <th>468</th>\n",
              "      <td>United Kingdom</td>\n",
              "      <td>GBR</td>\n",
              "      <td>2016</td>\n",
              "      <td>56.174866</td>\n",
              "      <td>11.800000</td>\n",
              "      <td>37.084900</td>\n",
              "      <td>9.995738</td>\n",
              "      <td>1.789236</td>\n",
              "      <td>42201.6410</td>\n",
              "      <td>0</td>\n",
              "    </tr>\n",
              "    <tr>\n",
              "      <th>469</th>\n",
              "      <td>United Kingdom</td>\n",
              "      <td>GBR</td>\n",
              "      <td>2017</td>\n",
              "      <td>56.809673</td>\n",
              "      <td>11.400000</td>\n",
              "      <td>36.419762</td>\n",
              "      <td>2.452186</td>\n",
              "      <td>1.822928</td>\n",
              "      <td>42692.5630</td>\n",
              "      <td>0</td>\n",
              "    </tr>\n",
              "  </tbody>\n",
              "</table>\n",
              "<p>470 rows × 10 columns</p>\n",
              "</div>\n",
              "      <button class=\"colab-df-convert\" onclick=\"convertToInteractive('df-880f399f-3d3a-47d5-b106-da141407fbb7')\"\n",
              "              title=\"Convert this dataframe to an interactive table.\"\n",
              "              style=\"display:none;\">\n",
              "        \n",
              "  <svg xmlns=\"http://www.w3.org/2000/svg\" height=\"24px\"viewBox=\"0 0 24 24\"\n",
              "       width=\"24px\">\n",
              "    <path d=\"M0 0h24v24H0V0z\" fill=\"none\"/>\n",
              "    <path d=\"M18.56 5.44l.94 2.06.94-2.06 2.06-.94-2.06-.94-.94-2.06-.94 2.06-2.06.94zm-11 1L8.5 8.5l.94-2.06 2.06-.94-2.06-.94L8.5 2.5l-.94 2.06-2.06.94zm10 10l.94 2.06.94-2.06 2.06-.94-2.06-.94-.94-2.06-.94 2.06-2.06.94z\"/><path d=\"M17.41 7.96l-1.37-1.37c-.4-.4-.92-.59-1.43-.59-.52 0-1.04.2-1.43.59L10.3 9.45l-7.72 7.72c-.78.78-.78 2.05 0 2.83L4 21.41c.39.39.9.59 1.41.59.51 0 1.02-.2 1.41-.59l7.78-7.78 2.81-2.81c.8-.78.8-2.07 0-2.86zM5.41 20L4 18.59l7.72-7.72 1.47 1.35L5.41 20z\"/>\n",
              "  </svg>\n",
              "      </button>\n",
              "      \n",
              "  <style>\n",
              "    .colab-df-container {\n",
              "      display:flex;\n",
              "      flex-wrap:wrap;\n",
              "      gap: 12px;\n",
              "    }\n",
              "\n",
              "    .colab-df-convert {\n",
              "      background-color: #E8F0FE;\n",
              "      border: none;\n",
              "      border-radius: 50%;\n",
              "      cursor: pointer;\n",
              "      display: none;\n",
              "      fill: #1967D2;\n",
              "      height: 32px;\n",
              "      padding: 0 0 0 0;\n",
              "      width: 32px;\n",
              "    }\n",
              "\n",
              "    .colab-df-convert:hover {\n",
              "      background-color: #E2EBFA;\n",
              "      box-shadow: 0px 1px 2px rgba(60, 64, 67, 0.3), 0px 1px 3px 1px rgba(60, 64, 67, 0.15);\n",
              "      fill: #174EA6;\n",
              "    }\n",
              "\n",
              "    [theme=dark] .colab-df-convert {\n",
              "      background-color: #3B4455;\n",
              "      fill: #D2E3FC;\n",
              "    }\n",
              "\n",
              "    [theme=dark] .colab-df-convert:hover {\n",
              "      background-color: #434B5C;\n",
              "      box-shadow: 0px 1px 3px 1px rgba(0, 0, 0, 0.15);\n",
              "      filter: drop-shadow(0px 1px 2px rgba(0, 0, 0, 0.3));\n",
              "      fill: #FFFFFF;\n",
              "    }\n",
              "  </style>\n",
              "\n",
              "      <script>\n",
              "        const buttonEl =\n",
              "          document.querySelector('#df-880f399f-3d3a-47d5-b106-da141407fbb7 button.colab-df-convert');\n",
              "        buttonEl.style.display =\n",
              "          google.colab.kernel.accessAllowed ? 'block' : 'none';\n",
              "\n",
              "        async function convertToInteractive(key) {\n",
              "          const element = document.querySelector('#df-880f399f-3d3a-47d5-b106-da141407fbb7');\n",
              "          const dataTable =\n",
              "            await google.colab.kernel.invokeFunction('convertToInteractive',\n",
              "                                                     [key], {});\n",
              "          if (!dataTable) return;\n",
              "\n",
              "          const docLinkHtml = 'Like what you see? Visit the ' +\n",
              "            '<a target=\"_blank\" href=https://colab.research.google.com/notebooks/data_table.ipynb>data table notebook</a>'\n",
              "            + ' to learn more about interactive tables.';\n",
              "          element.innerHTML = '';\n",
              "          dataTable['output_type'] = 'display_data';\n",
              "          await google.colab.output.renderOutput(dataTable, element);\n",
              "          const docLink = document.createElement('div');\n",
              "          docLink.innerHTML = docLinkHtml;\n",
              "          element.appendChild(docLink);\n",
              "        }\n",
              "      </script>\n",
              "    </div>\n",
              "  </div>\n",
              "  "
            ]
          },
          "metadata": {},
          "execution_count": 2
        }
      ]
    },
    {
      "cell_type": "code",
      "source": [
        "# variable types\n",
        "wdi.dtypes"
      ],
      "metadata": {
        "colab": {
          "base_uri": "https://localhost:8080/"
        },
        "id": "--IQzChWMEIc",
        "outputId": "f24bbe58-661a-42c2-84b3-24170e7818ac"
      },
      "execution_count": 3,
      "outputs": [
        {
          "output_type": "execute_result",
          "data": {
            "text/plain": [
              "countryname            object\n",
              "countrycode            object\n",
              "year                    int64\n",
              "agedepratio           float64\n",
              "birthrateper1000      float64\n",
              "expenditures_pcgdp    float64\n",
              "fdi_pcgdp             float64\n",
              "gdpgrowth             float64\n",
              "gdppercapita          float64\n",
              "gdpgrowth_neg           int64\n",
              "dtype: object"
            ]
          },
          "metadata": {},
          "execution_count": 3
        }
      ]
    },
    {
      "cell_type": "code",
      "source": [
        "# summary stats\n",
        "wdi.describe()"
      ],
      "metadata": {
        "colab": {
          "base_uri": "https://localhost:8080/",
          "height": 300
        },
        "id": "91eTGIJhLzl8",
        "outputId": "df40e871-1597-4ba7-8046-d8e7331f7abd"
      },
      "execution_count": 4,
      "outputs": [
        {
          "output_type": "execute_result",
          "data": {
            "text/plain": [
              "              year  agedepratio  birthrateper1000  expenditures_pcgdp  \\\n",
              "count   470.000000   470.000000        470.000000          376.000000   \n",
              "mean   1994.000000    64.766066         23.004217           27.738440   \n",
              "std      13.579114    14.034936          9.579060            8.984577   \n",
              "min    1971.000000    43.471035         10.000000           10.088495   \n",
              "25%    1982.000000    53.491340         14.401250           19.544362   \n",
              "50%    1994.000000    59.631450         21.086001           29.583241   \n",
              "75%    2006.000000    75.242514         31.300751           34.666672   \n",
              "max    2017.000000   101.301320         46.403000           62.190903   \n",
              "\n",
              "        fdi_pcgdp   gdpgrowth  gdppercapita  gdpgrowth_neg  \n",
              "count  456.000000  470.000000    470.000000     470.000000  \n",
              "mean     2.718764    3.309507  16843.684048       0.142553  \n",
              "std      5.498050    3.726628  15465.448237       0.349989  \n",
              "min     -5.670921  -12.431629    701.535520       0.000000  \n",
              "25%      0.402852    1.576223   5780.715075       0.000000  \n",
              "50%      1.403700    3.327364   8763.318350       0.000000  \n",
              "75%      3.141611    5.214362  27215.631250       0.000000  \n",
              "max     80.852646   25.117250  74498.383000       1.000000  "
            ],
            "text/html": [
              "\n",
              "  <div id=\"df-861e15ab-2aaf-467f-b1af-5f0ad1090ac8\">\n",
              "    <div class=\"colab-df-container\">\n",
              "      <div>\n",
              "<style scoped>\n",
              "    .dataframe tbody tr th:only-of-type {\n",
              "        vertical-align: middle;\n",
              "    }\n",
              "\n",
              "    .dataframe tbody tr th {\n",
              "        vertical-align: top;\n",
              "    }\n",
              "\n",
              "    .dataframe thead th {\n",
              "        text-align: right;\n",
              "    }\n",
              "</style>\n",
              "<table border=\"1\" class=\"dataframe\">\n",
              "  <thead>\n",
              "    <tr style=\"text-align: right;\">\n",
              "      <th></th>\n",
              "      <th>year</th>\n",
              "      <th>agedepratio</th>\n",
              "      <th>birthrateper1000</th>\n",
              "      <th>expenditures_pcgdp</th>\n",
              "      <th>fdi_pcgdp</th>\n",
              "      <th>gdpgrowth</th>\n",
              "      <th>gdppercapita</th>\n",
              "      <th>gdpgrowth_neg</th>\n",
              "    </tr>\n",
              "  </thead>\n",
              "  <tbody>\n",
              "    <tr>\n",
              "      <th>count</th>\n",
              "      <td>470.000000</td>\n",
              "      <td>470.000000</td>\n",
              "      <td>470.000000</td>\n",
              "      <td>376.000000</td>\n",
              "      <td>456.000000</td>\n",
              "      <td>470.000000</td>\n",
              "      <td>470.000000</td>\n",
              "      <td>470.000000</td>\n",
              "    </tr>\n",
              "    <tr>\n",
              "      <th>mean</th>\n",
              "      <td>1994.000000</td>\n",
              "      <td>64.766066</td>\n",
              "      <td>23.004217</td>\n",
              "      <td>27.738440</td>\n",
              "      <td>2.718764</td>\n",
              "      <td>3.309507</td>\n",
              "      <td>16843.684048</td>\n",
              "      <td>0.142553</td>\n",
              "    </tr>\n",
              "    <tr>\n",
              "      <th>std</th>\n",
              "      <td>13.579114</td>\n",
              "      <td>14.034936</td>\n",
              "      <td>9.579060</td>\n",
              "      <td>8.984577</td>\n",
              "      <td>5.498050</td>\n",
              "      <td>3.726628</td>\n",
              "      <td>15465.448237</td>\n",
              "      <td>0.349989</td>\n",
              "    </tr>\n",
              "    <tr>\n",
              "      <th>min</th>\n",
              "      <td>1971.000000</td>\n",
              "      <td>43.471035</td>\n",
              "      <td>10.000000</td>\n",
              "      <td>10.088495</td>\n",
              "      <td>-5.670921</td>\n",
              "      <td>-12.431629</td>\n",
              "      <td>701.535520</td>\n",
              "      <td>0.000000</td>\n",
              "    </tr>\n",
              "    <tr>\n",
              "      <th>25%</th>\n",
              "      <td>1982.000000</td>\n",
              "      <td>53.491340</td>\n",
              "      <td>14.401250</td>\n",
              "      <td>19.544362</td>\n",
              "      <td>0.402852</td>\n",
              "      <td>1.576223</td>\n",
              "      <td>5780.715075</td>\n",
              "      <td>0.000000</td>\n",
              "    </tr>\n",
              "    <tr>\n",
              "      <th>50%</th>\n",
              "      <td>1994.000000</td>\n",
              "      <td>59.631450</td>\n",
              "      <td>21.086001</td>\n",
              "      <td>29.583241</td>\n",
              "      <td>1.403700</td>\n",
              "      <td>3.327364</td>\n",
              "      <td>8763.318350</td>\n",
              "      <td>0.000000</td>\n",
              "    </tr>\n",
              "    <tr>\n",
              "      <th>75%</th>\n",
              "      <td>2006.000000</td>\n",
              "      <td>75.242514</td>\n",
              "      <td>31.300751</td>\n",
              "      <td>34.666672</td>\n",
              "      <td>3.141611</td>\n",
              "      <td>5.214362</td>\n",
              "      <td>27215.631250</td>\n",
              "      <td>0.000000</td>\n",
              "    </tr>\n",
              "    <tr>\n",
              "      <th>max</th>\n",
              "      <td>2017.000000</td>\n",
              "      <td>101.301320</td>\n",
              "      <td>46.403000</td>\n",
              "      <td>62.190903</td>\n",
              "      <td>80.852646</td>\n",
              "      <td>25.117250</td>\n",
              "      <td>74498.383000</td>\n",
              "      <td>1.000000</td>\n",
              "    </tr>\n",
              "  </tbody>\n",
              "</table>\n",
              "</div>\n",
              "      <button class=\"colab-df-convert\" onclick=\"convertToInteractive('df-861e15ab-2aaf-467f-b1af-5f0ad1090ac8')\"\n",
              "              title=\"Convert this dataframe to an interactive table.\"\n",
              "              style=\"display:none;\">\n",
              "        \n",
              "  <svg xmlns=\"http://www.w3.org/2000/svg\" height=\"24px\"viewBox=\"0 0 24 24\"\n",
              "       width=\"24px\">\n",
              "    <path d=\"M0 0h24v24H0V0z\" fill=\"none\"/>\n",
              "    <path d=\"M18.56 5.44l.94 2.06.94-2.06 2.06-.94-2.06-.94-.94-2.06-.94 2.06-2.06.94zm-11 1L8.5 8.5l.94-2.06 2.06-.94-2.06-.94L8.5 2.5l-.94 2.06-2.06.94zm10 10l.94 2.06.94-2.06 2.06-.94-2.06-.94-.94-2.06-.94 2.06-2.06.94z\"/><path d=\"M17.41 7.96l-1.37-1.37c-.4-.4-.92-.59-1.43-.59-.52 0-1.04.2-1.43.59L10.3 9.45l-7.72 7.72c-.78.78-.78 2.05 0 2.83L4 21.41c.39.39.9.59 1.41.59.51 0 1.02-.2 1.41-.59l7.78-7.78 2.81-2.81c.8-.78.8-2.07 0-2.86zM5.41 20L4 18.59l7.72-7.72 1.47 1.35L5.41 20z\"/>\n",
              "  </svg>\n",
              "      </button>\n",
              "      \n",
              "  <style>\n",
              "    .colab-df-container {\n",
              "      display:flex;\n",
              "      flex-wrap:wrap;\n",
              "      gap: 12px;\n",
              "    }\n",
              "\n",
              "    .colab-df-convert {\n",
              "      background-color: #E8F0FE;\n",
              "      border: none;\n",
              "      border-radius: 50%;\n",
              "      cursor: pointer;\n",
              "      display: none;\n",
              "      fill: #1967D2;\n",
              "      height: 32px;\n",
              "      padding: 0 0 0 0;\n",
              "      width: 32px;\n",
              "    }\n",
              "\n",
              "    .colab-df-convert:hover {\n",
              "      background-color: #E2EBFA;\n",
              "      box-shadow: 0px 1px 2px rgba(60, 64, 67, 0.3), 0px 1px 3px 1px rgba(60, 64, 67, 0.15);\n",
              "      fill: #174EA6;\n",
              "    }\n",
              "\n",
              "    [theme=dark] .colab-df-convert {\n",
              "      background-color: #3B4455;\n",
              "      fill: #D2E3FC;\n",
              "    }\n",
              "\n",
              "    [theme=dark] .colab-df-convert:hover {\n",
              "      background-color: #434B5C;\n",
              "      box-shadow: 0px 1px 3px 1px rgba(0, 0, 0, 0.15);\n",
              "      filter: drop-shadow(0px 1px 2px rgba(0, 0, 0, 0.3));\n",
              "      fill: #FFFFFF;\n",
              "    }\n",
              "  </style>\n",
              "\n",
              "      <script>\n",
              "        const buttonEl =\n",
              "          document.querySelector('#df-861e15ab-2aaf-467f-b1af-5f0ad1090ac8 button.colab-df-convert');\n",
              "        buttonEl.style.display =\n",
              "          google.colab.kernel.accessAllowed ? 'block' : 'none';\n",
              "\n",
              "        async function convertToInteractive(key) {\n",
              "          const element = document.querySelector('#df-861e15ab-2aaf-467f-b1af-5f0ad1090ac8');\n",
              "          const dataTable =\n",
              "            await google.colab.kernel.invokeFunction('convertToInteractive',\n",
              "                                                     [key], {});\n",
              "          if (!dataTable) return;\n",
              "\n",
              "          const docLinkHtml = 'Like what you see? Visit the ' +\n",
              "            '<a target=\"_blank\" href=https://colab.research.google.com/notebooks/data_table.ipynb>data table notebook</a>'\n",
              "            + ' to learn more about interactive tables.';\n",
              "          element.innerHTML = '';\n",
              "          dataTable['output_type'] = 'display_data';\n",
              "          await google.colab.output.renderOutput(dataTable, element);\n",
              "          const docLink = document.createElement('div');\n",
              "          docLink.innerHTML = docLinkHtml;\n",
              "          element.appendChild(docLink);\n",
              "        }\n",
              "      </script>\n",
              "    </div>\n",
              "  </div>\n",
              "  "
            ]
          },
          "metadata": {},
          "execution_count": 4
        }
      ]
    },
    {
      "cell_type": "markdown",
      "source": [
        "## **Question 1**\n",
        "\"Summarize within and between variance by hand for age dependency ratio (agedepratio). Do you find that\n",
        "between or within variance is larger?\""
      ],
      "metadata": {
        "id": "NERphzI0KAAc"
      }
    },
    {
      "cell_type": "markdown",
      "source": [
        "### **a. Grand mean**"
      ],
      "metadata": {
        "id": "us-57j62UTI6"
      }
    },
    {
      "cell_type": "code",
      "source": [
        "wdi['agedepratio'].mean()"
      ],
      "metadata": {
        "colab": {
          "base_uri": "https://localhost:8080/"
        },
        "id": "qpXsnWRoRgFp",
        "outputId": "ab5c52ed-7113-4c34-b24f-206ecfece3c4"
      },
      "execution_count": 5,
      "outputs": [
        {
          "output_type": "execute_result",
          "data": {
            "text/plain": [
              "64.76606575531915"
            ]
          },
          "metadata": {},
          "execution_count": 5
        }
      ]
    },
    {
      "cell_type": "markdown",
      "source": [
        "### **b. Unit Means**"
      ],
      "metadata": {
        "id": "c2XjIBfBUkEX"
      }
    },
    {
      "cell_type": "code",
      "source": [
        "unitmeans = wdi.groupby(\"countryname\").mean()['agedepratio']\n",
        "unitmeans"
      ],
      "metadata": {
        "colab": {
          "base_uri": "https://localhost:8080/"
        },
        "id": "QlO-7AI_Up1o",
        "outputId": "cee3ab01-a64e-4da2-90fa-8d81ca3a62c7"
      },
      "execution_count": 6,
      "outputs": [
        {
          "output_type": "execute_result",
          "data": {
            "text/plain": [
              "countryname\n",
              "Brazil            61.022698\n",
              "Ghana             84.805732\n",
              "Ireland           58.200692\n",
              "Mexico            74.777183\n",
              "New Zealand       54.757374\n",
              "Peru              70.784831\n",
              "South Africa      67.924208\n",
              "Sweden            55.490612\n",
              "Turkey            65.246483\n",
              "United Kingdom    54.650844\n",
              "Name: agedepratio, dtype: float64"
            ]
          },
          "metadata": {},
          "execution_count": 6
        }
      ]
    },
    {
      "cell_type": "markdown",
      "source": [
        "### **c. Calculate Overall Variance**"
      ],
      "metadata": {
        "id": "Yb-UNBmYV-Kf"
      }
    },
    {
      "cell_type": "code",
      "source": [
        "# calculating the grandmean\n",
        "grandmean = wdi['agedepratio'].mean()\n",
        "print(grandmean)\n",
        "# calculating the variance by hand\n",
        "var_long = sum((wdi['agedepratio'] - grandmean)**2) / (len(wdi['agedepratio']) - 1)\n",
        "print(var_long)\n",
        "# calculating the variance the short way (just squaring the std)\n",
        "var_short = wdi['agedepratio'].std()**2\n",
        "print(var_short)"
      ],
      "metadata": {
        "colab": {
          "base_uri": "https://localhost:8080/"
        },
        "id": "WR1msGuLWvuo",
        "outputId": "112b003d-ac87-454d-8d89-c5feceaf18bd"
      },
      "execution_count": 7,
      "outputs": [
        {
          "output_type": "stream",
          "name": "stdout",
          "text": [
            "64.76606575531915\n",
            "196.9794225672902\n",
            "196.97942256729016\n"
          ]
        }
      ]
    },
    {
      "cell_type": "markdown",
      "source": [
        "### **d. Calculate Within-Group Variance**"
      ],
      "metadata": {
        "id": "MWlda0qeapzx"
      }
    },
    {
      "cell_type": "code",
      "source": [
        "# creating a dictionary of the unitmeans variable created above to map them into a new column \n",
        "unitmeans_dictionary = unitmeans.to_dict()\n",
        "print(unitmeans_dictionary)\n",
        "\n",
        "# mapping the country grouped unit means to create a new column with averages for all of our country groups \n",
        "wdi[\"unit_means\"] = wdi[\"countryname\"].map(unitmeans_dictionary)\n",
        "\n",
        "# caculating within group variance (in this case within country variance since countries are our groups)\n",
        "print(\"\\n\")\n",
        "\n",
        "f\"the total within group variance = {sum((wdi['agedepratio'] - wdi['unit_means'])**2 / len(wdi['agedepratio'] - 1))}\""
      ],
      "metadata": {
        "colab": {
          "base_uri": "https://localhost:8080/",
          "height": 111
        },
        "id": "HNm1oteHdRFd",
        "outputId": "ad2f0a53-820d-4d75-907f-b4305dbb463e"
      },
      "execution_count": 8,
      "outputs": [
        {
          "output_type": "stream",
          "name": "stdout",
          "text": [
            "{'Brazil': 61.022698382978724, 'Ghana': 84.80573210638298, 'Ireland': 58.20069176595745, 'Mexico': 74.77718340425531, 'New Zealand': 54.757374468085104, 'Peru': 70.78483134042553, 'South Africa': 67.92420774468086, 'Sweden': 55.490611829787234, 'Turkey': 65.24648274468085, 'United Kingdom': 54.65084376595745}\n",
            "\n",
            "\n"
          ]
        },
        {
          "output_type": "execute_result",
          "data": {
            "text/plain": [
              "'the total within group variance = 107.171967200264'"
            ],
            "application/vnd.google.colaboratory.intrinsic+json": {
              "type": "string"
            }
          },
          "metadata": {},
          "execution_count": 8
        }
      ]
    },
    {
      "cell_type": "markdown",
      "source": [
        "### **e. Calculating between-group variance**"
      ],
      "metadata": {
        "id": "wOXyx18NjmPl"
      }
    },
    {
      "cell_type": "code",
      "source": [
        "print(unitmeans)\n",
        "print(\"\\n\")\n",
        "\n",
        "# the between group variance\n",
        "f\"The between group variance = {sum((unitmeans - grandmean)**2) / (len(unitmeans) - 1)}\" "
      ],
      "metadata": {
        "colab": {
          "base_uri": "https://localhost:8080/",
          "height": 294
        },
        "id": "n9dOluULjwSt",
        "outputId": "9e87107b-2d5d-4e9e-ee10-e5a6962e7981"
      },
      "execution_count": 9,
      "outputs": [
        {
          "output_type": "stream",
          "name": "stdout",
          "text": [
            "countryname\n",
            "Brazil            61.022698\n",
            "Ghana             84.805732\n",
            "Ireland           58.200692\n",
            "Mexico            74.777183\n",
            "New Zealand       54.757374\n",
            "Peru              70.784831\n",
            "South Africa      67.924208\n",
            "Sweden            55.490612\n",
            "Turkey            65.246483\n",
            "United Kingdom    54.650844\n",
            "Name: agedepratio, dtype: float64\n",
            "\n",
            "\n"
          ]
        },
        {
          "output_type": "execute_result",
          "data": {
            "text/plain": [
              "'The between group variance = 99.3203891251417'"
            ],
            "application/vnd.google.colaboratory.intrinsic+json": {
              "type": "string"
            }
          },
          "metadata": {},
          "execution_count": 9
        }
      ]
    },
    {
      "cell_type": "markdown",
      "source": [
        "### **Answer for Q1** \n",
        "Overall, I find that within group variance is larger in this case for the variable \"agedepratio\" with a value of 107.17 relative to a value of 99.32 for the between group variance. This suggests to us that there is more variability in \"agedepratio\" within our country groups rather than between our various countries. Overall, this is suggestive of no evidence between our various country-level groups."
      ],
      "metadata": {
        "id": "OYdrZstCpH_c"
      }
    },
    {
      "cell_type": "markdown",
      "source": [
        "## **Question 2**\n",
        "\"Create a plot of age dependency ratio. Do you notice any particular patterns or trends?\""
      ],
      "metadata": {
        "id": "ovokVMb7OmSr"
      }
    },
    {
      "cell_type": "code",
      "source": [
        "wdi.dtypes"
      ],
      "metadata": {
        "colab": {
          "base_uri": "https://localhost:8080/"
        },
        "id": "jpicuMcHrf6m",
        "outputId": "ccc50f70-a0f8-4704-8743-13ba39697d97"
      },
      "execution_count": 10,
      "outputs": [
        {
          "output_type": "execute_result",
          "data": {
            "text/plain": [
              "countryname            object\n",
              "countrycode            object\n",
              "year                    int64\n",
              "agedepratio           float64\n",
              "birthrateper1000      float64\n",
              "expenditures_pcgdp    float64\n",
              "fdi_pcgdp             float64\n",
              "gdpgrowth             float64\n",
              "gdppercapita          float64\n",
              "gdpgrowth_neg           int64\n",
              "unit_means            float64\n",
              "dtype: object"
            ]
          },
          "metadata": {},
          "execution_count": 10
        }
      ]
    },
    {
      "cell_type": "code",
      "source": [
        "# creating a list of country names for mapping \n",
        "countries = list(wdi['countryname'].unique())\n",
        "# creating a list of colors to correspond to the list of country names above for our 10 countries and 10 colors to add to the dataframe \n",
        "colors = ['brown', 'red', 'gold', 'yellow', 'green', 'lawngreen', 'aqua', 'steelblue', 'purple', 'navy']\n",
        "\n",
        "# putting the two lists created above into one dictionary\n",
        "color_dictionary = dict(zip(countries, colors))\n",
        "print(color_dictionary)\n",
        "\n",
        "# adding the colors column to the dataframe to correspond to a different color for each country\n",
        "wdi['colors'] = wdi['countryname'].map(color_dictionary)\n",
        "wdi"
      ],
      "metadata": {
        "colab": {
          "base_uri": "https://localhost:8080/",
          "height": 462
        },
        "id": "jISBYaFIwcbN",
        "outputId": "5418b5c9-ed32-4d1d-db43-ca31b9df078a"
      },
      "execution_count": 11,
      "outputs": [
        {
          "output_type": "stream",
          "name": "stdout",
          "text": [
            "{'Brazil': 'brown', 'Ghana': 'red', 'Ireland': 'gold', 'Mexico': 'yellow', 'New Zealand': 'green', 'Peru': 'lawngreen', 'South Africa': 'aqua', 'Sweden': 'steelblue', 'Turkey': 'purple', 'United Kingdom': 'navy'}\n"
          ]
        },
        {
          "output_type": "execute_result",
          "data": {
            "text/plain": [
              "        countryname countrycode  year  agedepratio  birthrateper1000  \\\n",
              "0            Brazil         BRA  1971    82.931709         34.653999   \n",
              "1            Brazil         BRA  1972    81.901657         34.112000   \n",
              "2            Brazil         BRA  1973    80.826630         33.674999   \n",
              "3            Brazil         BRA  1974    79.637421         33.337002   \n",
              "4            Brazil         BRA  1975    78.337425         33.083000   \n",
              "..              ...         ...   ...          ...               ...   \n",
              "465  United Kingdom         GBR  2013    54.015648         12.100000   \n",
              "466  United Kingdom         GBR  2014    54.782848         12.000000   \n",
              "467  United Kingdom         GBR  2015    55.535969         11.900000   \n",
              "468  United Kingdom         GBR  2016    56.174866         11.800000   \n",
              "469  United Kingdom         GBR  2017    56.809673         11.400000   \n",
              "\n",
              "     expenditures_pcgdp  fdi_pcgdp  gdpgrowth  gdppercapita  gdpgrowth_neg  \\\n",
              "0                   NaN        NaN  11.295087     5095.5425              0   \n",
              "1                   NaN        NaN  12.052802     5572.0273              0   \n",
              "2                   NaN        NaN  13.978692     6199.8232              0   \n",
              "3                   NaN        NaN   9.042120     6600.5220              0   \n",
              "4                   NaN   1.052467   5.209076     6780.2622              0   \n",
              "..                  ...        ...        ...           ...            ...   \n",
              "465           39.776093   1.978278   2.046355    40248.7660              0   \n",
              "466           38.965351   1.940550   2.947560    41124.1450              0   \n",
              "467           38.110355   1.565155   2.349121    41756.9220              0   \n",
              "468           37.084900   9.995738   1.789236    42201.6410              0   \n",
              "469           36.419762   2.452186   1.822928    42692.5630              0   \n",
              "\n",
              "     unit_means colors  \n",
              "0     61.022698  brown  \n",
              "1     61.022698  brown  \n",
              "2     61.022698  brown  \n",
              "3     61.022698  brown  \n",
              "4     61.022698  brown  \n",
              "..          ...    ...  \n",
              "465   54.650844   navy  \n",
              "466   54.650844   navy  \n",
              "467   54.650844   navy  \n",
              "468   54.650844   navy  \n",
              "469   54.650844   navy  \n",
              "\n",
              "[470 rows x 12 columns]"
            ],
            "text/html": [
              "\n",
              "  <div id=\"df-573d1fc5-792a-4abd-a7a1-1255eb7c4cbe\">\n",
              "    <div class=\"colab-df-container\">\n",
              "      <div>\n",
              "<style scoped>\n",
              "    .dataframe tbody tr th:only-of-type {\n",
              "        vertical-align: middle;\n",
              "    }\n",
              "\n",
              "    .dataframe tbody tr th {\n",
              "        vertical-align: top;\n",
              "    }\n",
              "\n",
              "    .dataframe thead th {\n",
              "        text-align: right;\n",
              "    }\n",
              "</style>\n",
              "<table border=\"1\" class=\"dataframe\">\n",
              "  <thead>\n",
              "    <tr style=\"text-align: right;\">\n",
              "      <th></th>\n",
              "      <th>countryname</th>\n",
              "      <th>countrycode</th>\n",
              "      <th>year</th>\n",
              "      <th>agedepratio</th>\n",
              "      <th>birthrateper1000</th>\n",
              "      <th>expenditures_pcgdp</th>\n",
              "      <th>fdi_pcgdp</th>\n",
              "      <th>gdpgrowth</th>\n",
              "      <th>gdppercapita</th>\n",
              "      <th>gdpgrowth_neg</th>\n",
              "      <th>unit_means</th>\n",
              "      <th>colors</th>\n",
              "    </tr>\n",
              "  </thead>\n",
              "  <tbody>\n",
              "    <tr>\n",
              "      <th>0</th>\n",
              "      <td>Brazil</td>\n",
              "      <td>BRA</td>\n",
              "      <td>1971</td>\n",
              "      <td>82.931709</td>\n",
              "      <td>34.653999</td>\n",
              "      <td>NaN</td>\n",
              "      <td>NaN</td>\n",
              "      <td>11.295087</td>\n",
              "      <td>5095.5425</td>\n",
              "      <td>0</td>\n",
              "      <td>61.022698</td>\n",
              "      <td>brown</td>\n",
              "    </tr>\n",
              "    <tr>\n",
              "      <th>1</th>\n",
              "      <td>Brazil</td>\n",
              "      <td>BRA</td>\n",
              "      <td>1972</td>\n",
              "      <td>81.901657</td>\n",
              "      <td>34.112000</td>\n",
              "      <td>NaN</td>\n",
              "      <td>NaN</td>\n",
              "      <td>12.052802</td>\n",
              "      <td>5572.0273</td>\n",
              "      <td>0</td>\n",
              "      <td>61.022698</td>\n",
              "      <td>brown</td>\n",
              "    </tr>\n",
              "    <tr>\n",
              "      <th>2</th>\n",
              "      <td>Brazil</td>\n",
              "      <td>BRA</td>\n",
              "      <td>1973</td>\n",
              "      <td>80.826630</td>\n",
              "      <td>33.674999</td>\n",
              "      <td>NaN</td>\n",
              "      <td>NaN</td>\n",
              "      <td>13.978692</td>\n",
              "      <td>6199.8232</td>\n",
              "      <td>0</td>\n",
              "      <td>61.022698</td>\n",
              "      <td>brown</td>\n",
              "    </tr>\n",
              "    <tr>\n",
              "      <th>3</th>\n",
              "      <td>Brazil</td>\n",
              "      <td>BRA</td>\n",
              "      <td>1974</td>\n",
              "      <td>79.637421</td>\n",
              "      <td>33.337002</td>\n",
              "      <td>NaN</td>\n",
              "      <td>NaN</td>\n",
              "      <td>9.042120</td>\n",
              "      <td>6600.5220</td>\n",
              "      <td>0</td>\n",
              "      <td>61.022698</td>\n",
              "      <td>brown</td>\n",
              "    </tr>\n",
              "    <tr>\n",
              "      <th>4</th>\n",
              "      <td>Brazil</td>\n",
              "      <td>BRA</td>\n",
              "      <td>1975</td>\n",
              "      <td>78.337425</td>\n",
              "      <td>33.083000</td>\n",
              "      <td>NaN</td>\n",
              "      <td>1.052467</td>\n",
              "      <td>5.209076</td>\n",
              "      <td>6780.2622</td>\n",
              "      <td>0</td>\n",
              "      <td>61.022698</td>\n",
              "      <td>brown</td>\n",
              "    </tr>\n",
              "    <tr>\n",
              "      <th>...</th>\n",
              "      <td>...</td>\n",
              "      <td>...</td>\n",
              "      <td>...</td>\n",
              "      <td>...</td>\n",
              "      <td>...</td>\n",
              "      <td>...</td>\n",
              "      <td>...</td>\n",
              "      <td>...</td>\n",
              "      <td>...</td>\n",
              "      <td>...</td>\n",
              "      <td>...</td>\n",
              "      <td>...</td>\n",
              "    </tr>\n",
              "    <tr>\n",
              "      <th>465</th>\n",
              "      <td>United Kingdom</td>\n",
              "      <td>GBR</td>\n",
              "      <td>2013</td>\n",
              "      <td>54.015648</td>\n",
              "      <td>12.100000</td>\n",
              "      <td>39.776093</td>\n",
              "      <td>1.978278</td>\n",
              "      <td>2.046355</td>\n",
              "      <td>40248.7660</td>\n",
              "      <td>0</td>\n",
              "      <td>54.650844</td>\n",
              "      <td>navy</td>\n",
              "    </tr>\n",
              "    <tr>\n",
              "      <th>466</th>\n",
              "      <td>United Kingdom</td>\n",
              "      <td>GBR</td>\n",
              "      <td>2014</td>\n",
              "      <td>54.782848</td>\n",
              "      <td>12.000000</td>\n",
              "      <td>38.965351</td>\n",
              "      <td>1.940550</td>\n",
              "      <td>2.947560</td>\n",
              "      <td>41124.1450</td>\n",
              "      <td>0</td>\n",
              "      <td>54.650844</td>\n",
              "      <td>navy</td>\n",
              "    </tr>\n",
              "    <tr>\n",
              "      <th>467</th>\n",
              "      <td>United Kingdom</td>\n",
              "      <td>GBR</td>\n",
              "      <td>2015</td>\n",
              "      <td>55.535969</td>\n",
              "      <td>11.900000</td>\n",
              "      <td>38.110355</td>\n",
              "      <td>1.565155</td>\n",
              "      <td>2.349121</td>\n",
              "      <td>41756.9220</td>\n",
              "      <td>0</td>\n",
              "      <td>54.650844</td>\n",
              "      <td>navy</td>\n",
              "    </tr>\n",
              "    <tr>\n",
              "      <th>468</th>\n",
              "      <td>United Kingdom</td>\n",
              "      <td>GBR</td>\n",
              "      <td>2016</td>\n",
              "      <td>56.174866</td>\n",
              "      <td>11.800000</td>\n",
              "      <td>37.084900</td>\n",
              "      <td>9.995738</td>\n",
              "      <td>1.789236</td>\n",
              "      <td>42201.6410</td>\n",
              "      <td>0</td>\n",
              "      <td>54.650844</td>\n",
              "      <td>navy</td>\n",
              "    </tr>\n",
              "    <tr>\n",
              "      <th>469</th>\n",
              "      <td>United Kingdom</td>\n",
              "      <td>GBR</td>\n",
              "      <td>2017</td>\n",
              "      <td>56.809673</td>\n",
              "      <td>11.400000</td>\n",
              "      <td>36.419762</td>\n",
              "      <td>2.452186</td>\n",
              "      <td>1.822928</td>\n",
              "      <td>42692.5630</td>\n",
              "      <td>0</td>\n",
              "      <td>54.650844</td>\n",
              "      <td>navy</td>\n",
              "    </tr>\n",
              "  </tbody>\n",
              "</table>\n",
              "<p>470 rows × 12 columns</p>\n",
              "</div>\n",
              "      <button class=\"colab-df-convert\" onclick=\"convertToInteractive('df-573d1fc5-792a-4abd-a7a1-1255eb7c4cbe')\"\n",
              "              title=\"Convert this dataframe to an interactive table.\"\n",
              "              style=\"display:none;\">\n",
              "        \n",
              "  <svg xmlns=\"http://www.w3.org/2000/svg\" height=\"24px\"viewBox=\"0 0 24 24\"\n",
              "       width=\"24px\">\n",
              "    <path d=\"M0 0h24v24H0V0z\" fill=\"none\"/>\n",
              "    <path d=\"M18.56 5.44l.94 2.06.94-2.06 2.06-.94-2.06-.94-.94-2.06-.94 2.06-2.06.94zm-11 1L8.5 8.5l.94-2.06 2.06-.94-2.06-.94L8.5 2.5l-.94 2.06-2.06.94zm10 10l.94 2.06.94-2.06 2.06-.94-2.06-.94-.94-2.06-.94 2.06-2.06.94z\"/><path d=\"M17.41 7.96l-1.37-1.37c-.4-.4-.92-.59-1.43-.59-.52 0-1.04.2-1.43.59L10.3 9.45l-7.72 7.72c-.78.78-.78 2.05 0 2.83L4 21.41c.39.39.9.59 1.41.59.51 0 1.02-.2 1.41-.59l7.78-7.78 2.81-2.81c.8-.78.8-2.07 0-2.86zM5.41 20L4 18.59l7.72-7.72 1.47 1.35L5.41 20z\"/>\n",
              "  </svg>\n",
              "      </button>\n",
              "      \n",
              "  <style>\n",
              "    .colab-df-container {\n",
              "      display:flex;\n",
              "      flex-wrap:wrap;\n",
              "      gap: 12px;\n",
              "    }\n",
              "\n",
              "    .colab-df-convert {\n",
              "      background-color: #E8F0FE;\n",
              "      border: none;\n",
              "      border-radius: 50%;\n",
              "      cursor: pointer;\n",
              "      display: none;\n",
              "      fill: #1967D2;\n",
              "      height: 32px;\n",
              "      padding: 0 0 0 0;\n",
              "      width: 32px;\n",
              "    }\n",
              "\n",
              "    .colab-df-convert:hover {\n",
              "      background-color: #E2EBFA;\n",
              "      box-shadow: 0px 1px 2px rgba(60, 64, 67, 0.3), 0px 1px 3px 1px rgba(60, 64, 67, 0.15);\n",
              "      fill: #174EA6;\n",
              "    }\n",
              "\n",
              "    [theme=dark] .colab-df-convert {\n",
              "      background-color: #3B4455;\n",
              "      fill: #D2E3FC;\n",
              "    }\n",
              "\n",
              "    [theme=dark] .colab-df-convert:hover {\n",
              "      background-color: #434B5C;\n",
              "      box-shadow: 0px 1px 3px 1px rgba(0, 0, 0, 0.15);\n",
              "      filter: drop-shadow(0px 1px 2px rgba(0, 0, 0, 0.3));\n",
              "      fill: #FFFFFF;\n",
              "    }\n",
              "  </style>\n",
              "\n",
              "      <script>\n",
              "        const buttonEl =\n",
              "          document.querySelector('#df-573d1fc5-792a-4abd-a7a1-1255eb7c4cbe button.colab-df-convert');\n",
              "        buttonEl.style.display =\n",
              "          google.colab.kernel.accessAllowed ? 'block' : 'none';\n",
              "\n",
              "        async function convertToInteractive(key) {\n",
              "          const element = document.querySelector('#df-573d1fc5-792a-4abd-a7a1-1255eb7c4cbe');\n",
              "          const dataTable =\n",
              "            await google.colab.kernel.invokeFunction('convertToInteractive',\n",
              "                                                     [key], {});\n",
              "          if (!dataTable) return;\n",
              "\n",
              "          const docLinkHtml = 'Like what you see? Visit the ' +\n",
              "            '<a target=\"_blank\" href=https://colab.research.google.com/notebooks/data_table.ipynb>data table notebook</a>'\n",
              "            + ' to learn more about interactive tables.';\n",
              "          element.innerHTML = '';\n",
              "          dataTable['output_type'] = 'display_data';\n",
              "          await google.colab.output.renderOutput(dataTable, element);\n",
              "          const docLink = document.createElement('div');\n",
              "          docLink.innerHTML = docLinkHtml;\n",
              "          element.appendChild(docLink);\n",
              "        }\n",
              "      </script>\n",
              "    </div>\n",
              "  </div>\n",
              "  "
            ]
          },
          "metadata": {},
          "execution_count": 11
        }
      ]
    },
    {
      "cell_type": "code",
      "source": [
        "# Line plot examining the series for our 10 different countries over time \n",
        "import seaborn as sns\n",
        "sns.set(rc = {'figure.figsize':(15,8)})\n",
        "sns.lineplot(x='year', y='agedepratio', data=wdi, hue='countryname', legend=False)\n",
        "plt.axhline(grandmean, color='black', lw=3, label='Grand Mean')\n",
        "plt.text(2000, 65, \"Grand Mean\", size='medium', color='black', weight='semibold')\n",
        "\n",
        "plt.legend(title='Country', loc='upper right', labels = countries)\n",
        "plt.title(\"Agedepratio from 1970 to 2017\", fontsize=20, weight='bold')\n",
        "plt.xlabel('Year', fontsize=15)\n",
        "plt.ylabel('agedepratio', fontsize=15)\n"
      ],
      "metadata": {
        "colab": {
          "base_uri": "https://localhost:8080/",
          "height": 543
        },
        "id": "GJlkVeFsyTqq",
        "outputId": "b773b5fb-c410-4e01-fb48-2a0b285fff22"
      },
      "execution_count": 12,
      "outputs": [
        {
          "output_type": "execute_result",
          "data": {
            "text/plain": [
              "Text(0, 0.5, 'agedepratio')"
            ]
          },
          "metadata": {},
          "execution_count": 12
        },
        {
          "output_type": "display_data",
          "data": {
            "text/plain": [
              "<Figure size 1080x576 with 1 Axes>"
            ],
            "image/png": "[encoded data removed]"
          },
          "metadata": {}
        }
      ]
    },
    {
      "cell_type": "markdown",
      "source": [
        "### **Answer for Q2**\n",
        "Overall, in analyzing the figure above that plots the agedepratio over time, we notice that for the 10 countries examined, all countries are showing a a continual shift downward in their values but it appears that developing countries such as Ghana and Mexico shown in orange and red respectively, have a very sharp downturn overtime whereas the values for advanced industrialized democracies such as the UK and New Zealand shown in blue and purple respectively, remain relatively stable overtime with some flucations across the years but their series are rather stationary. Overall, however, the trend is clearly downward over time. "
      ],
      "metadata": {
        "id": "4YCJpBTY3gzv"
      }
    },
    {
      "cell_type": "markdown",
      "source": [
        "## **Quesion 3**\n",
        "\"Now use the Panel Study of Income Dynamics data (PSID_long_data.dta). id is the unit identifier, while\n",
        "wave is the time varible. Choose one variable (may want to pick a continuous one) and summarize within and\n",
        "between variance by hand. (note: you might have issues in R with missing values. You can drop them for the\n",
        "purposes of this assignment, e.g., psidn<-npsid[complete.cases(psid$variable),], where variable is\n",
        "the variable name you’re interested in).\""
      ],
      "metadata": {
        "id": "W48kgKYnOwEC"
      }
    },
    {
      "cell_type": "code",
      "source": [
        "# reading in the dta file in python \n",
        "\n",
        "dtafile = '/content/drive/MyDrive/Delaware/ICPSR_2022/Panel Data And Longitudinal Analysis/Assignments/Assignment 1_Topics 1 & 2/Copy of PSID_long_data.dta'\n",
        "income_dynamics = pd.read_stata(dtafile, convert_categoricals=False)\n",
        "income_dynamics"
      ],
      "metadata": {
        "colab": {
          "base_uri": "https://localhost:8080/",
          "height": 423
        },
        "id": "COjDZbpTPkHO",
        "outputId": "d63349a6-5d80-4431-d798-7f4dbd7962bf"
      },
      "execution_count": 13,
      "outputs": [
        {
          "output_type": "execute_result",
          "data": {
            "text/plain": [
              "              id  wave  paeduc  maeduc  race    totinc   age  educ  SRH  male  \\\n",
              "0         4003.0     7     2.0     2.0   1.0   89560.0  55.0   9.0  NaN   1.0   \n",
              "1         4003.0     9     2.0     2.0   1.0   24960.0  57.0  10.0  NaN   1.0   \n",
              "2         4003.0    11     2.0     2.0   1.0   40416.0  59.0  10.0  NaN   1.0   \n",
              "3         4003.0    13     2.0     2.0   1.0       NaN   NaN   NaN  NaN   1.0   \n",
              "4         4003.0    15     2.0     2.0   1.0       NaN   NaN   NaN  NaN   1.0   \n",
              "...          ...   ...     ...     ...   ...       ...   ...   ...  ...   ...   \n",
              "84799  6872183.0     9     2.0     4.0   2.0   94210.0  29.0  12.0  NaN   1.0   \n",
              "84800  6872183.0    11     2.0     4.0   2.0   85000.0  31.0  12.0  NaN   1.0   \n",
              "84801  6872183.0    13     2.0     4.0   2.0   91000.0  33.0  14.0  NaN   1.0   \n",
              "84802  6872183.0    15     2.0     4.0   2.0  112000.0  35.0  14.0  NaN   1.0   \n",
              "84803  6872183.0    17     2.0     4.0   2.0  122008.0  37.0  14.0  NaN   1.0   \n",
              "\n",
              "       marital  evsmoke  \n",
              "0          1.0      0.0  \n",
              "1          1.0      0.0  \n",
              "2          1.0      0.0  \n",
              "3          1.0      0.0  \n",
              "4          1.0      0.0  \n",
              "...        ...      ...  \n",
              "84799      1.0      1.0  \n",
              "84800      1.0      1.0  \n",
              "84801      1.0      1.0  \n",
              "84802      1.0      1.0  \n",
              "84803      1.0      1.0  \n",
              "\n",
              "[84804 rows x 12 columns]"
            ],
            "text/html": [
              "\n",
              "  <div id=\"df-3dca39c8-12a7-4413-a4eb-aece93038ba9\">\n",
              "    <div class=\"colab-df-container\">\n",
              "      <div>\n",
              "<style scoped>\n",
              "    .dataframe tbody tr th:only-of-type {\n",
              "        vertical-align: middle;\n",
              "    }\n",
              "\n",
              "    .dataframe tbody tr th {\n",
              "        vertical-align: top;\n",
              "    }\n",
              "\n",
              "    .dataframe thead th {\n",
              "        text-align: right;\n",
              "    }\n",
              "</style>\n",
              "<table border=\"1\" class=\"dataframe\">\n",
              "  <thead>\n",
              "    <tr style=\"text-align: right;\">\n",
              "      <th></th>\n",
              "      <th>id</th>\n",
              "      <th>wave</th>\n",
              "      <th>paeduc</th>\n",
              "      <th>maeduc</th>\n",
              "      <th>race</th>\n",
              "      <th>totinc</th>\n",
              "      <th>age</th>\n",
              "      <th>educ</th>\n",
              "      <th>SRH</th>\n",
              "      <th>male</th>\n",
              "      <th>marital</th>\n",
              "      <th>evsmoke</th>\n",
              "    </tr>\n",
              "  </thead>\n",
              "  <tbody>\n",
              "    <tr>\n",
              "      <th>0</th>\n",
              "      <td>4003.0</td>\n",
              "      <td>7</td>\n",
              "      <td>2.0</td>\n",
              "      <td>2.0</td>\n",
              "      <td>1.0</td>\n",
              "      <td>89560.0</td>\n",
              "      <td>55.0</td>\n",
              "      <td>9.0</td>\n",
              "      <td>NaN</td>\n",
              "      <td>1.0</td>\n",
              "      <td>1.0</td>\n",
              "      <td>0.0</td>\n",
              "    </tr>\n",
              "    <tr>\n",
              "      <th>1</th>\n",
              "      <td>4003.0</td>\n",
              "      <td>9</td>\n",
              "      <td>2.0</td>\n",
              "      <td>2.0</td>\n",
              "      <td>1.0</td>\n",
              "      <td>24960.0</td>\n",
              "      <td>57.0</td>\n",
              "      <td>10.0</td>\n",
              "      <td>NaN</td>\n",
              "      <td>1.0</td>\n",
              "      <td>1.0</td>\n",
              "      <td>0.0</td>\n",
              "    </tr>\n",
              "    <tr>\n",
              "      <th>2</th>\n",
              "      <td>4003.0</td>\n",
              "      <td>11</td>\n",
              "      <td>2.0</td>\n",
              "      <td>2.0</td>\n",
              "      <td>1.0</td>\n",
              "      <td>40416.0</td>\n",
              "      <td>59.0</td>\n",
              "      <td>10.0</td>\n",
              "      <td>NaN</td>\n",
              "      <td>1.0</td>\n",
              "      <td>1.0</td>\n",
              "      <td>0.0</td>\n",
              "    </tr>\n",
              "    <tr>\n",
              "      <th>3</th>\n",
              "      <td>4003.0</td>\n",
              "      <td>13</td>\n",
              "      <td>2.0</td>\n",
              "      <td>2.0</td>\n",
              "      <td>1.0</td>\n",
              "      <td>NaN</td>\n",
              "      <td>NaN</td>\n",
              "      <td>NaN</td>\n",
              "      <td>NaN</td>\n",
              "      <td>1.0</td>\n",
              "      <td>1.0</td>\n",
              "      <td>0.0</td>\n",
              "    </tr>\n",
              "    <tr>\n",
              "      <th>4</th>\n",
              "      <td>4003.0</td>\n",
              "      <td>15</td>\n",
              "      <td>2.0</td>\n",
              "      <td>2.0</td>\n",
              "      <td>1.0</td>\n",
              "      <td>NaN</td>\n",
              "      <td>NaN</td>\n",
              "      <td>NaN</td>\n",
              "      <td>NaN</td>\n",
              "      <td>1.0</td>\n",
              "      <td>1.0</td>\n",
              "      <td>0.0</td>\n",
              "    </tr>\n",
              "    <tr>\n",
              "      <th>...</th>\n",
              "      <td>...</td>\n",
              "      <td>...</td>\n",
              "      <td>...</td>\n",
              "      <td>...</td>\n",
              "      <td>...</td>\n",
              "      <td>...</td>\n",
              "      <td>...</td>\n",
              "      <td>...</td>\n",
              "      <td>...</td>\n",
              "      <td>...</td>\n",
              "      <td>...</td>\n",
              "      <td>...</td>\n",
              "    </tr>\n",
              "    <tr>\n",
              "      <th>84799</th>\n",
              "      <td>6872183.0</td>\n",
              "      <td>9</td>\n",
              "      <td>2.0</td>\n",
              "      <td>4.0</td>\n",
              "      <td>2.0</td>\n",
              "      <td>94210.0</td>\n",
              "      <td>29.0</td>\n",
              "      <td>12.0</td>\n",
              "      <td>NaN</td>\n",
              "      <td>1.0</td>\n",
              "      <td>1.0</td>\n",
              "      <td>1.0</td>\n",
              "    </tr>\n",
              "    <tr>\n",
              "      <th>84800</th>\n",
              "      <td>6872183.0</td>\n",
              "      <td>11</td>\n",
              "      <td>2.0</td>\n",
              "      <td>4.0</td>\n",
              "      <td>2.0</td>\n",
              "      <td>85000.0</td>\n",
              "      <td>31.0</td>\n",
              "      <td>12.0</td>\n",
              "      <td>NaN</td>\n",
              "      <td>1.0</td>\n",
              "      <td>1.0</td>\n",
              "      <td>1.0</td>\n",
              "    </tr>\n",
              "    <tr>\n",
              "      <th>84801</th>\n",
              "      <td>6872183.0</td>\n",
              "      <td>13</td>\n",
              "      <td>2.0</td>\n",
              "      <td>4.0</td>\n",
              "      <td>2.0</td>\n",
              "      <td>91000.0</td>\n",
              "      <td>33.0</td>\n",
              "      <td>14.0</td>\n",
              "      <td>NaN</td>\n",
              "      <td>1.0</td>\n",
              "      <td>1.0</td>\n",
              "      <td>1.0</td>\n",
              "    </tr>\n",
              "    <tr>\n",
              "      <th>84802</th>\n",
              "      <td>6872183.0</td>\n",
              "      <td>15</td>\n",
              "      <td>2.0</td>\n",
              "      <td>4.0</td>\n",
              "      <td>2.0</td>\n",
              "      <td>112000.0</td>\n",
              "      <td>35.0</td>\n",
              "      <td>14.0</td>\n",
              "      <td>NaN</td>\n",
              "      <td>1.0</td>\n",
              "      <td>1.0</td>\n",
              "      <td>1.0</td>\n",
              "    </tr>\n",
              "    <tr>\n",
              "      <th>84803</th>\n",
              "      <td>6872183.0</td>\n",
              "      <td>17</td>\n",
              "      <td>2.0</td>\n",
              "      <td>4.0</td>\n",
              "      <td>2.0</td>\n",
              "      <td>122008.0</td>\n",
              "      <td>37.0</td>\n",
              "      <td>14.0</td>\n",
              "      <td>NaN</td>\n",
              "      <td>1.0</td>\n",
              "      <td>1.0</td>\n",
              "      <td>1.0</td>\n",
              "    </tr>\n",
              "  </tbody>\n",
              "</table>\n",
              "<p>84804 rows × 12 columns</p>\n",
              "</div>\n",
              "      <button class=\"colab-df-convert\" onclick=\"convertToInteractive('df-3dca39c8-12a7-4413-a4eb-aece93038ba9')\"\n",
              "              title=\"Convert this dataframe to an interactive table.\"\n",
              "              style=\"display:none;\">\n",
              "        \n",
              "  <svg xmlns=\"http://www.w3.org/2000/svg\" height=\"24px\"viewBox=\"0 0 24 24\"\n",
              "       width=\"24px\">\n",
              "    <path d=\"M0 0h24v24H0V0z\" fill=\"none\"/>\n",
              "    <path d=\"M18.56 5.44l.94 2.06.94-2.06 2.06-.94-2.06-.94-.94-2.06-.94 2.06-2.06.94zm-11 1L8.5 8.5l.94-2.06 2.06-.94-2.06-.94L8.5 2.5l-.94 2.06-2.06.94zm10 10l.94 2.06.94-2.06 2.06-.94-2.06-.94-.94-2.06-.94 2.06-2.06.94z\"/><path d=\"M17.41 7.96l-1.37-1.37c-.4-.4-.92-.59-1.43-.59-.52 0-1.04.2-1.43.59L10.3 9.45l-7.72 7.72c-.78.78-.78 2.05 0 2.83L4 21.41c.39.39.9.59 1.41.59.51 0 1.02-.2 1.41-.59l7.78-7.78 2.81-2.81c.8-.78.8-2.07 0-2.86zM5.41 20L4 18.59l7.72-7.72 1.47 1.35L5.41 20z\"/>\n",
              "  </svg>\n",
              "      </button>\n",
              "      \n",
              "  <style>\n",
              "    .colab-df-container {\n",
              "      display:flex;\n",
              "      flex-wrap:wrap;\n",
              "      gap: 12px;\n",
              "    }\n",
              "\n",
              "    .colab-df-convert {\n",
              "      background-color: #E8F0FE;\n",
              "      border: none;\n",
              "      border-radius: 50%;\n",
              "      cursor: pointer;\n",
              "      display: none;\n",
              "      fill: #1967D2;\n",
              "      height: 32px;\n",
              "      padding: 0 0 0 0;\n",
              "      width: 32px;\n",
              "    }\n",
              "\n",
              "    .colab-df-convert:hover {\n",
              "      background-color: #E2EBFA;\n",
              "      box-shadow: 0px 1px 2px rgba(60, 64, 67, 0.3), 0px 1px 3px 1px rgba(60, 64, 67, 0.15);\n",
              "      fill: #174EA6;\n",
              "    }\n",
              "\n",
              "    [theme=dark] .colab-df-convert {\n",
              "      background-color: #3B4455;\n",
              "      fill: #D2E3FC;\n",
              "    }\n",
              "\n",
              "    [theme=dark] .colab-df-convert:hover {\n",
              "      background-color: #434B5C;\n",
              "      box-shadow: 0px 1px 3px 1px rgba(0, 0, 0, 0.15);\n",
              "      filter: drop-shadow(0px 1px 2px rgba(0, 0, 0, 0.3));\n",
              "      fill: #FFFFFF;\n",
              "    }\n",
              "  </style>\n",
              "\n",
              "      <script>\n",
              "        const buttonEl =\n",
              "          document.querySelector('#df-3dca39c8-12a7-4413-a4eb-aece93038ba9 button.colab-df-convert');\n",
              "        buttonEl.style.display =\n",
              "          google.colab.kernel.accessAllowed ? 'block' : 'none';\n",
              "\n",
              "        async function convertToInteractive(key) {\n",
              "          const element = document.querySelector('#df-3dca39c8-12a7-4413-a4eb-aece93038ba9');\n",
              "          const dataTable =\n",
              "            await google.colab.kernel.invokeFunction('convertToInteractive',\n",
              "                                                     [key], {});\n",
              "          if (!dataTable) return;\n",
              "\n",
              "          const docLinkHtml = 'Like what you see? Visit the ' +\n",
              "            '<a target=\"_blank\" href=https://colab.research.google.com/notebooks/data_table.ipynb>data table notebook</a>'\n",
              "            + ' to learn more about interactive tables.';\n",
              "          element.innerHTML = '';\n",
              "          dataTable['output_type'] = 'display_data';\n",
              "          await google.colab.output.renderOutput(dataTable, element);\n",
              "          const docLink = document.createElement('div');\n",
              "          docLink.innerHTML = docLinkHtml;\n",
              "          element.appendChild(docLink);\n",
              "        }\n",
              "      </script>\n",
              "    </div>\n",
              "  </div>\n",
              "  "
            ]
          },
          "metadata": {},
          "execution_count": 13
        }
      ]
    },
    {
      "cell_type": "code",
      "source": [
        "# printing both variable types and missing value counts \n",
        "print(income_dynamics.dtypes), print(\"\\n\"), print(income_dynamics.isna().sum())"
      ],
      "metadata": {
        "colab": {
          "base_uri": "https://localhost:8080/"
        },
        "id": "-BUexHHnQJFZ",
        "outputId": "9e2f72c9-0713-4db9-a55a-d0330e0f3300"
      },
      "execution_count": 14,
      "outputs": [
        {
          "output_type": "stream",
          "name": "stdout",
          "text": [
            "id         float32\n",
            "wave          int8\n",
            "paeduc     float32\n",
            "maeduc     float32\n",
            "race       float64\n",
            "totinc     float64\n",
            "age        float32\n",
            "educ       float32\n",
            "SRH        float64\n",
            "male       float32\n",
            "marital    float32\n",
            "evsmoke    float32\n",
            "dtype: object\n",
            "\n",
            "\n",
            "id             0\n",
            "wave           0\n",
            "paeduc     27324\n",
            "maeduc     22338\n",
            "race        5928\n",
            "totinc     12255\n",
            "age        16626\n",
            "educ       21931\n",
            "SRH        78463\n",
            "male           0\n",
            "marital       60\n",
            "evsmoke     5448\n",
            "dtype: int64\n"
          ]
        },
        {
          "output_type": "execute_result",
          "data": {
            "text/plain": [
              "(None, None, None)"
            ]
          },
          "metadata": {},
          "execution_count": 14
        }
      ]
    },
    {
      "cell_type": "code",
      "source": [
        "# dropping all NaNs\n",
        "income_dynamics = income_dynamics.dropna()\n",
        "income_dynamics"
      ],
      "metadata": {
        "colab": {
          "base_uri": "https://localhost:8080/",
          "height": 423
        },
        "id": "U9ENR2BDZr-j",
        "outputId": "5004f4f0-80ef-4613-b3ee-60ce2e621e15"
      },
      "execution_count": 15,
      "outputs": [
        {
          "output_type": "execute_result",
          "data": {
            "text/plain": [
              "              id  wave  paeduc  maeduc  race    totinc   age  educ  SRH  male  \\\n",
              "60        4039.0     7     2.0     2.0   1.0   89560.0  16.0  10.0  5.0   0.0   \n",
              "61        4039.0     9     2.0     2.0   1.0   24960.0  18.0  12.0  5.0   0.0   \n",
              "165       5031.0    13     4.0     6.0   1.0   77513.0  29.0  13.0  5.0   1.0   \n",
              "167       5031.0    17     4.0     6.0   1.0   91000.0  34.0  13.0  5.0   1.0   \n",
              "170       5033.0    11     3.0     3.0   1.0   34000.0  16.0  10.0  5.0   1.0   \n",
              "...          ...   ...     ...     ...   ...       ...   ...   ...  ...   ...   \n",
              "84663  6864035.0    13     3.0     3.0   2.0   38400.0  21.0  12.0  5.0   0.0   \n",
              "84684  6867003.0     7     3.0     3.0   2.0  141660.0  55.0  12.0  5.0   1.0   \n",
              "84685  6867003.0     9     3.0     3.0   2.0   66990.0  57.0  12.0  5.0   1.0   \n",
              "84690  6867004.0     7     3.0     3.0   2.0  141660.0  52.0  12.0  5.0   1.0   \n",
              "84691  6867004.0     9     3.0     3.0   2.0   66990.0  54.0  12.0  5.0   1.0   \n",
              "\n",
              "       marital  evsmoke  \n",
              "60         5.0      0.0  \n",
              "61         5.0      0.0  \n",
              "165        4.0      1.0  \n",
              "167        4.0      1.0  \n",
              "170        2.0      1.0  \n",
              "...        ...      ...  \n",
              "84663      2.0      1.0  \n",
              "84684      4.0      1.0  \n",
              "84685      4.0      1.0  \n",
              "84690      2.0      1.0  \n",
              "84691      2.0      1.0  \n",
              "\n",
              "[2894 rows x 12 columns]"
            ],
            "text/html": [
              "\n",
              "  <div id=\"df-50de680b-ff12-4c4e-9c84-31ad68b0e426\">\n",
              "    <div class=\"colab-df-container\">\n",
              "      <div>\n",
              "<style scoped>\n",
              "    .dataframe tbody tr th:only-of-type {\n",
              "        vertical-align: middle;\n",
              "    }\n",
              "\n",
              "    .dataframe tbody tr th {\n",
              "        vertical-align: top;\n",
              "    }\n",
              "\n",
              "    .dataframe thead th {\n",
              "        text-align: right;\n",
              "    }\n",
              "</style>\n",
              "<table border=\"1\" class=\"dataframe\">\n",
              "  <thead>\n",
              "    <tr style=\"text-align: right;\">\n",
              "      <th></th>\n",
              "      <th>id</th>\n",
              "      <th>wave</th>\n",
              "      <th>paeduc</th>\n",
              "      <th>maeduc</th>\n",
              "      <th>race</th>\n",
              "      <th>totinc</th>\n",
              "      <th>age</th>\n",
              "      <th>educ</th>\n",
              "      <th>SRH</th>\n",
              "      <th>male</th>\n",
              "      <th>marital</th>\n",
              "      <th>evsmoke</th>\n",
              "    </tr>\n",
              "  </thead>\n",
              "  <tbody>\n",
              "    <tr>\n",
              "      <th>60</th>\n",
              "      <td>4039.0</td>\n",
              "      <td>7</td>\n",
              "      <td>2.0</td>\n",
              "      <td>2.0</td>\n",
              "      <td>1.0</td>\n",
              "      <td>89560.0</td>\n",
              "      <td>16.0</td>\n",
              "      <td>10.0</td>\n",
              "      <td>5.0</td>\n",
              "      <td>0.0</td>\n",
              "      <td>5.0</td>\n",
              "      <td>0.0</td>\n",
              "    </tr>\n",
              "    <tr>\n",
              "      <th>61</th>\n",
              "      <td>4039.0</td>\n",
              "      <td>9</td>\n",
              "      <td>2.0</td>\n",
              "      <td>2.0</td>\n",
              "      <td>1.0</td>\n",
              "      <td>24960.0</td>\n",
              "      <td>18.0</td>\n",
              "      <td>12.0</td>\n",
              "      <td>5.0</td>\n",
              "      <td>0.0</td>\n",
              "      <td>5.0</td>\n",
              "      <td>0.0</td>\n",
              "    </tr>\n",
              "    <tr>\n",
              "      <th>165</th>\n",
              "      <td>5031.0</td>\n",
              "      <td>13</td>\n",
              "      <td>4.0</td>\n",
              "      <td>6.0</td>\n",
              "      <td>1.0</td>\n",
              "      <td>77513.0</td>\n",
              "      <td>29.0</td>\n",
              "      <td>13.0</td>\n",
              "      <td>5.0</td>\n",
              "      <td>1.0</td>\n",
              "      <td>4.0</td>\n",
              "      <td>1.0</td>\n",
              "    </tr>\n",
              "    <tr>\n",
              "      <th>167</th>\n",
              "      <td>5031.0</td>\n",
              "      <td>17</td>\n",
              "      <td>4.0</td>\n",
              "      <td>6.0</td>\n",
              "      <td>1.0</td>\n",
              "      <td>91000.0</td>\n",
              "      <td>34.0</td>\n",
              "      <td>13.0</td>\n",
              "      <td>5.0</td>\n",
              "      <td>1.0</td>\n",
              "      <td>4.0</td>\n",
              "      <td>1.0</td>\n",
              "    </tr>\n",
              "    <tr>\n",
              "      <th>170</th>\n",
              "      <td>5033.0</td>\n",
              "      <td>11</td>\n",
              "      <td>3.0</td>\n",
              "      <td>3.0</td>\n",
              "      <td>1.0</td>\n",
              "      <td>34000.0</td>\n",
              "      <td>16.0</td>\n",
              "      <td>10.0</td>\n",
              "      <td>5.0</td>\n",
              "      <td>1.0</td>\n",
              "      <td>2.0</td>\n",
              "      <td>1.0</td>\n",
              "    </tr>\n",
              "    <tr>\n",
              "      <th>...</th>\n",
              "      <td>...</td>\n",
              "      <td>...</td>\n",
              "      <td>...</td>\n",
              "      <td>...</td>\n",
              "      <td>...</td>\n",
              "      <td>...</td>\n",
              "      <td>...</td>\n",
              "      <td>...</td>\n",
              "      <td>...</td>\n",
              "      <td>...</td>\n",
              "      <td>...</td>\n",
              "      <td>...</td>\n",
              "    </tr>\n",
              "    <tr>\n",
              "      <th>84663</th>\n",
              "      <td>6864035.0</td>\n",
              "      <td>13</td>\n",
              "      <td>3.0</td>\n",
              "      <td>3.0</td>\n",
              "      <td>2.0</td>\n",
              "      <td>38400.0</td>\n",
              "      <td>21.0</td>\n",
              "      <td>12.0</td>\n",
              "      <td>5.0</td>\n",
              "      <td>0.0</td>\n",
              "      <td>2.0</td>\n",
              "      <td>1.0</td>\n",
              "    </tr>\n",
              "    <tr>\n",
              "      <th>84684</th>\n",
              "      <td>6867003.0</td>\n",
              "      <td>7</td>\n",
              "      <td>3.0</td>\n",
              "      <td>3.0</td>\n",
              "      <td>2.0</td>\n",
              "      <td>141660.0</td>\n",
              "      <td>55.0</td>\n",
              "      <td>12.0</td>\n",
              "      <td>5.0</td>\n",
              "      <td>1.0</td>\n",
              "      <td>4.0</td>\n",
              "      <td>1.0</td>\n",
              "    </tr>\n",
              "    <tr>\n",
              "      <th>84685</th>\n",
              "      <td>6867003.0</td>\n",
              "      <td>9</td>\n",
              "      <td>3.0</td>\n",
              "      <td>3.0</td>\n",
              "      <td>2.0</td>\n",
              "      <td>66990.0</td>\n",
              "      <td>57.0</td>\n",
              "      <td>12.0</td>\n",
              "      <td>5.0</td>\n",
              "      <td>1.0</td>\n",
              "      <td>4.0</td>\n",
              "      <td>1.0</td>\n",
              "    </tr>\n",
              "    <tr>\n",
              "      <th>84690</th>\n",
              "      <td>6867004.0</td>\n",
              "      <td>7</td>\n",
              "      <td>3.0</td>\n",
              "      <td>3.0</td>\n",
              "      <td>2.0</td>\n",
              "      <td>141660.0</td>\n",
              "      <td>52.0</td>\n",
              "      <td>12.0</td>\n",
              "      <td>5.0</td>\n",
              "      <td>1.0</td>\n",
              "      <td>2.0</td>\n",
              "      <td>1.0</td>\n",
              "    </tr>\n",
              "    <tr>\n",
              "      <th>84691</th>\n",
              "      <td>6867004.0</td>\n",
              "      <td>9</td>\n",
              "      <td>3.0</td>\n",
              "      <td>3.0</td>\n",
              "      <td>2.0</td>\n",
              "      <td>66990.0</td>\n",
              "      <td>54.0</td>\n",
              "      <td>12.0</td>\n",
              "      <td>5.0</td>\n",
              "      <td>1.0</td>\n",
              "      <td>2.0</td>\n",
              "      <td>1.0</td>\n",
              "    </tr>\n",
              "  </tbody>\n",
              "</table>\n",
              "<p>2894 rows × 12 columns</p>\n",
              "</div>\n",
              "      <button class=\"colab-df-convert\" onclick=\"convertToInteractive('df-50de680b-ff12-4c4e-9c84-31ad68b0e426')\"\n",
              "              title=\"Convert this dataframe to an interactive table.\"\n",
              "              style=\"display:none;\">\n",
              "        \n",
              "  <svg xmlns=\"http://www.w3.org/2000/svg\" height=\"24px\"viewBox=\"0 0 24 24\"\n",
              "       width=\"24px\">\n",
              "    <path d=\"M0 0h24v24H0V0z\" fill=\"none\"/>\n",
              "    <path d=\"M18.56 5.44l.94 2.06.94-2.06 2.06-.94-2.06-.94-.94-2.06-.94 2.06-2.06.94zm-11 1L8.5 8.5l.94-2.06 2.06-.94-2.06-.94L8.5 2.5l-.94 2.06-2.06.94zm10 10l.94 2.06.94-2.06 2.06-.94-2.06-.94-.94-2.06-.94 2.06-2.06.94z\"/><path d=\"M17.41 7.96l-1.37-1.37c-.4-.4-.92-.59-1.43-.59-.52 0-1.04.2-1.43.59L10.3 9.45l-7.72 7.72c-.78.78-.78 2.05 0 2.83L4 21.41c.39.39.9.59 1.41.59.51 0 1.02-.2 1.41-.59l7.78-7.78 2.81-2.81c.8-.78.8-2.07 0-2.86zM5.41 20L4 18.59l7.72-7.72 1.47 1.35L5.41 20z\"/>\n",
              "  </svg>\n",
              "      </button>\n",
              "      \n",
              "  <style>\n",
              "    .colab-df-container {\n",
              "      display:flex;\n",
              "      flex-wrap:wrap;\n",
              "      gap: 12px;\n",
              "    }\n",
              "\n",
              "    .colab-df-convert {\n",
              "      background-color: #E8F0FE;\n",
              "      border: none;\n",
              "      border-radius: 50%;\n",
              "      cursor: pointer;\n",
              "      display: none;\n",
              "      fill: #1967D2;\n",
              "      height: 32px;\n",
              "      padding: 0 0 0 0;\n",
              "      width: 32px;\n",
              "    }\n",
              "\n",
              "    .colab-df-convert:hover {\n",
              "      background-color: #E2EBFA;\n",
              "      box-shadow: 0px 1px 2px rgba(60, 64, 67, 0.3), 0px 1px 3px 1px rgba(60, 64, 67, 0.15);\n",
              "      fill: #174EA6;\n",
              "    }\n",
              "\n",
              "    [theme=dark] .colab-df-convert {\n",
              "      background-color: #3B4455;\n",
              "      fill: #D2E3FC;\n",
              "    }\n",
              "\n",
              "    [theme=dark] .colab-df-convert:hover {\n",
              "      background-color: #434B5C;\n",
              "      box-shadow: 0px 1px 3px 1px rgba(0, 0, 0, 0.15);\n",
              "      filter: drop-shadow(0px 1px 2px rgba(0, 0, 0, 0.3));\n",
              "      fill: #FFFFFF;\n",
              "    }\n",
              "  </style>\n",
              "\n",
              "      <script>\n",
              "        const buttonEl =\n",
              "          document.querySelector('#df-50de680b-ff12-4c4e-9c84-31ad68b0e426 button.colab-df-convert');\n",
              "        buttonEl.style.display =\n",
              "          google.colab.kernel.accessAllowed ? 'block' : 'none';\n",
              "\n",
              "        async function convertToInteractive(key) {\n",
              "          const element = document.querySelector('#df-50de680b-ff12-4c4e-9c84-31ad68b0e426');\n",
              "          const dataTable =\n",
              "            await google.colab.kernel.invokeFunction('convertToInteractive',\n",
              "                                                     [key], {});\n",
              "          if (!dataTable) return;\n",
              "\n",
              "          const docLinkHtml = 'Like what you see? Visit the ' +\n",
              "            '<a target=\"_blank\" href=https://colab.research.google.com/notebooks/data_table.ipynb>data table notebook</a>'\n",
              "            + ' to learn more about interactive tables.';\n",
              "          element.innerHTML = '';\n",
              "          dataTable['output_type'] = 'display_data';\n",
              "          await google.colab.output.renderOutput(dataTable, element);\n",
              "          const docLink = document.createElement('div');\n",
              "          docLink.innerHTML = docLinkHtml;\n",
              "          element.appendChild(docLink);\n",
              "        }\n",
              "      </script>\n",
              "    </div>\n",
              "  </div>\n",
              "  "
            ]
          },
          "metadata": {},
          "execution_count": 15
        }
      ]
    },
    {
      "cell_type": "code",
      "source": [
        "# checking to make sure there is no NaN left over in the dataset \n",
        "income_dynamics.isna().sum()"
      ],
      "metadata": {
        "colab": {
          "base_uri": "https://localhost:8080/"
        },
        "id": "PvLT_twfZ0-l",
        "outputId": "1c273d67-2117-4123-ea5e-0175297543ef"
      },
      "execution_count": 16,
      "outputs": [
        {
          "output_type": "execute_result",
          "data": {
            "text/plain": [
              "id         0\n",
              "wave       0\n",
              "paeduc     0\n",
              "maeduc     0\n",
              "race       0\n",
              "totinc     0\n",
              "age        0\n",
              "educ       0\n",
              "SRH        0\n",
              "male       0\n",
              "marital    0\n",
              "evsmoke    0\n",
              "dtype: int64"
            ]
          },
          "metadata": {},
          "execution_count": 16
        }
      ]
    },
    {
      "cell_type": "markdown",
      "source": [
        "I am choosing the 'age' variable for the analysis "
      ],
      "metadata": {
        "id": "c4Oaqv3vYAOo"
      }
    },
    {
      "cell_type": "markdown",
      "source": [
        "### **a. Grand Mean**"
      ],
      "metadata": {
        "id": "IjUOERUzYOo5"
      }
    },
    {
      "cell_type": "code",
      "source": [
        "grand_mean = income_dynamics['age'].mean()\n",
        "grand_mean"
      ],
      "metadata": {
        "colab": {
          "base_uri": "https://localhost:8080/"
        },
        "id": "mblaTWaVYGSc",
        "outputId": "02eb8d90-622c-4b9b-fee4-b7aec27f413c"
      },
      "execution_count": 17,
      "outputs": [
        {
          "output_type": "execute_result",
          "data": {
            "text/plain": [
              "22.74257"
            ]
          },
          "metadata": {},
          "execution_count": 17
        }
      ]
    },
    {
      "cell_type": "markdown",
      "source": [
        "### **b. Unit Means**"
      ],
      "metadata": {
        "id": "0ujdyen_Ymw0"
      }
    },
    {
      "cell_type": "code",
      "source": [
        "unitmeans = income_dynamics.groupby(\"id\").mean()['age']\n",
        "unitmeans"
      ],
      "metadata": {
        "colab": {
          "base_uri": "https://localhost:8080/"
        },
        "id": "fRASK6beYfi9",
        "outputId": "6c2b09b7-6597-4d02-9a5b-76e01329a377"
      },
      "execution_count": 18,
      "outputs": [
        {
          "output_type": "execute_result",
          "data": {
            "text/plain": [
              "id\n",
              "4039.0       17.0\n",
              "5031.0       31.5\n",
              "5033.0       16.0\n",
              "5183.0       54.0\n",
              "7042.0       18.0\n",
              "             ... \n",
              "6864033.0    28.0\n",
              "6864034.0    24.0\n",
              "6864035.0    19.0\n",
              "6867003.0    56.0\n",
              "6867004.0    53.0\n",
              "Name: age, Length: 1567, dtype: float32"
            ]
          },
          "metadata": {},
          "execution_count": 18
        }
      ]
    },
    {
      "cell_type": "markdown",
      "source": [
        "### **c. Calculate Overall Variance**\n"
      ],
      "metadata": {
        "id": "3vxwwlXJZK60"
      }
    },
    {
      "cell_type": "code",
      "source": [
        "# calculating the grandmean\n",
        "grandmean = income_dynamics['age'].mean()\n",
        "print(grandmean)\n",
        "# calculating the variance by hand\n",
        "var_long = sum((income_dynamics['age'] - grandmean)**2) / (len(income_dynamics['age']) - 1)\n",
        "print(var_long)\n",
        "# calculating the variance the short way (just squaring the std)\n",
        "var_short = income_dynamics['age'].std()**2\n",
        "print(var_short)"
      ],
      "metadata": {
        "colab": {
          "base_uri": "https://localhost:8080/"
        },
        "id": "_MFSmDJEZOTU",
        "outputId": "030f5e79-422b-4ed2-de7c-d150607b1057"
      },
      "execution_count": 19,
      "outputs": [
        {
          "output_type": "stream",
          "name": "stdout",
          "text": [
            "22.74257\n",
            "77.23720116397728\n",
            "77.2371928932298\n"
          ]
        }
      ]
    },
    {
      "cell_type": "markdown",
      "source": [
        "### **d. Calculate Within Group Variance**"
      ],
      "metadata": {
        "id": "32F7Sl64adBA"
      }
    },
    {
      "cell_type": "code",
      "source": [
        "# creating a dictionary of the unitmeans variable created above to map them into a new column \n",
        "unitmeans_dictionary = unitmeans.to_dict()\n",
        "print(unitmeans_dictionary)\n",
        "\n",
        "# mapping the country grouped unit means to create a new column with averages for all of our country groups \n",
        "income_dynamics[\"unit_means\"] = income_dynamics[\"id\"].map(unitmeans_dictionary)\n",
        "\n",
        "# caculating within group variance (in this case within country variance since countries are our groups)\n",
        "print(\"\\n\")\n",
        "\n",
        "f\"the total within group variance = {sum((income_dynamics['age'] - income_dynamics['unit_means'])**2 / len(income_dynamics['age'] - 1))}\""
      ],
      "metadata": {
        "colab": {
          "base_uri": "https://localhost:8080/",
          "height": 222
        },
        "id": "ExV_QGSlagTh",
        "outputId": "0bd921db-a348-4a41-aa98-b95c65d9e06d"
      },
      "execution_count": 20,
      "outputs": [
        {
          "output_type": "stream",
          "name": "stdout",
          "text": [
            "{4039.0: 17.0, 5031.0: 31.5, 5033.0: 16.0, 5183.0: 54.0, 7042.0: 18.0, 7043.0: 18.0, 7044.0: 17.0, 7045.0: 18.0, 7049.0: 16.0, 7171.0: 59.0, 7206.0: 20.0, 10034.0: 17.0, 10035.0: 18.66666603088379, 10185.0: 26.0, 10186.0: 24.0, 14030.0: 23.0, 14032.0: 16.0, 14033.0: 16.0, 14179.0: 32.0, 16174.0: 17.0, 18035.0: 41.0, 18041.0: 19.5, 19171.0: 26.5, 19175.0: 43.0, 40191.0: 48.0, 41182.0: 52.0, 41200.0: 39.0, 45034.0: 17.0, 47036.0: 19.0, 50032.0: 21.33333396911621, 50033.0: 20.0, 53040.0: 16.5, 57032.0: 17.0, 57033.0: 16.0, 57179.0: 45.0, 60036.0: 17.0, 61032.0: 19.0, 61034.0: 18.66666603088379, 84036.0: 17.0, 84188.0: 25.0, 88036.0: 20.0, 89034.0: 19.0, 96031.0: 26.0, 99032.0: 18.0, 105038.0: 19.33333396911621, 128030.0: 18.33333396911621, 133176.0: 29.0, 138032.0: 18.0, 138033.0: 17.0, 145030.0: 18.0, 145031.0: 18.0, 151006.0: 52.0, 151178.0: 31.0, 165032.0: 24.0, 172036.0: 17.0, 173033.0: 23.0, 173038.0: 17.0, 173039.0: 17.0, 173040.0: 16.0, 173180.0: 20.0, 174035.0: 24.0, 174036.0: 18.5, 174038.0: 18.0, 174039.0: 19.0, 186030.0: 37.0, 190184.0: 34.0, 197034.0: 16.0, 198176.0: 27.0, 200035.0: 17.0, 203032.0: 18.33333396911621, 217032.0: 22.0, 217181.0: 26.0, 220171.0: 29.0, 221032.0: 18.0, 228031.0: 21.0, 228032.0: 16.0, 228175.0: 34.0, 245033.0: 26.0, 245034.0: 23.0, 246031.0: 22.0, 246173.0: 28.0, 250031.0: 23.0, 250032.0: 18.0, 254030.0: 35.0, 284030.0: 16.0, 284031.0: 17.0, 287185.0: 18.0, 302037.0: 18.0, 308030.0: 35.0, 311032.0: 19.0, 317035.0: 25.0, 318172.0: 38.0, 319032.0: 17.0, 321177.0: 21.0, 323031.0: 24.0, 326031.0: 28.0, 327033.0: 18.0, 327174.0: 28.0, 331174.0: 24.5, 344030.0: 26.5, 351036.0: 25.0, 351177.0: 21.0, 354031.0: 18.0, 354180.0: 35.0, 355031.0: 24.0, 355032.0: 22.66666603088379, 355033.0: 17.0, 355175.0: 23.0, 356031.0: 17.0, 361176.0: 21.0, 374030.0: 17.0, 377030.0: 18.0, 419034.0: 16.0, 419035.0: 17.0, 419036.0: 17.0, 419037.0: 16.0, 428032.0: 17.0, 433033.0: 30.0, 436034.0: 26.0, 443031.0: 26.0, 445184.0: 29.5, 450181.0: 28.0, 450183.0: 25.0, 452037.0: 17.0, 465033.0: 18.0, 465034.0: 18.0, 473181.0: 32.0, 478037.0: 31.0, 478039.0: 17.0, 486030.0: 17.0, 487002.0: 63.0, 487035.0: 20.0, 487173.0: 56.0, 487178.0: 25.0, 496032.0: 17.0, 496187.0: 32.0, 508031.0: 20.0, 509003.0: 60.5, 509021.0: 60.66666793823242, 517030.0: 22.0, 517031.0: 16.0, 517032.0: 19.5, 544032.0: 18.0, 556035.0: 34.0, 565032.0: 17.0, 570033.0: 26.0, 573033.0: 20.0, 573035.0: 18.0, 577032.0: 17.0, 582034.0: 16.0, 582180.0: 23.0, 596036.0: 23.0, 607041.0: 19.0, 607043.0: 17.5, 608186.0: 17.5, 618031.0: 18.0, 620032.0: 23.0, 620034.0: 22.200000762939453, 620035.0: 20.0, 624172.0: 20.0, 624178.0: 25.0, 625032.0: 18.0, 630174.0: 24.0, 631186.0: 26.0, 632176.0: 19.0, 633039.0: 18.0, 633040.0: 17.5, 633041.0: 16.0, 633179.0: 57.0, 634031.0: 21.0, 636004.0: 57.0, 636032.0: 19.0, 639008.0: 47.0, 644031.0: 21.0, 649032.0: 20.0, 649033.0: 18.5, 652034.0: 17.0, 656031.0: 22.0, 656032.0: 22.0, 656033.0: 20.0, 664034.0: 20.0, 664035.0: 19.0, 664183.0: 22.0, 673170.0: 72.0, 691030.0: 21.0, 691032.0: 20.0, 691033.0: 18.0, 691034.0: 17.0, 692033.0: 22.0, 698033.0: 24.0, 698035.0: 19.0, 698036.0: 21.0, 700031.0: 17.0, 700032.0: 17.33333396911621, 700033.0: 17.0, 702032.0: 18.0, 707030.0: 18.5, 707032.0: 17.0, 707173.0: 22.0, 709040.0: 16.0, 709213.0: 36.0, 711031.0: 19.0, 713184.0: 17.0, 717032.0: 17.0, 728033.0: 17.0, 728180.0: 31.66666603088379, 729032.0: 16.0, 729033.0: 17.0, 729040.0: 17.0, 729041.0: 16.0, 729042.0: 16.0, 729211.0: 21.0, 737032.0: 17.0, 750032.0: 16.0, 750172.0: 19.0, 751036.0: 26.0, 751039.0: 17.0, 760172.0: 18.0, 769034.0: 21.0, 769036.0: 19.0, 769039.0: 16.0, 771032.0: 16.0, 771174.0: 24.0, 773176.0: 40.0, 774032.0: 17.5, 775031.0: 17.0, 777031.0: 21.0, 796034.0: 19.0, 796035.0: 18.0, 818030.0: 19.33333396911621, 818031.0: 19.33333396911621, 818032.0: 17.0, 819031.0: 24.0, 821031.0: 25.0, 826033.0: 17.0, 833003.0: 60.0, 833036.0: 16.0, 835030.0: 18.0, 835031.0: 16.0, 838030.0: 20.0, 840042.0: 18.0, 846030.0: 19.0, 846040.0: 22.0, 846043.0: 19.0, 846045.0: 17.0, 856036.0: 19.0, 856037.0: 17.0, 856038.0: 18.0, 863032.0: 22.0, 863033.0: 19.0, 868032.0: 21.5, 868033.0: 17.5, 868034.0: 18.0, 875033.0: 20.0, 880030.0: 22.0, 880031.0: 20.0, 880183.0: 34.0, 897180.0: 23.0, 898033.0: 17.0, 908034.0: 27.0, 908179.0: 32.0, 909174.0: 29.0, 915030.0: 22.0, 915034.0: 21.5, 915035.0: 19.0, 915036.0: 17.0, 916202.0: 28.0, 922031.0: 18.66666603088379, 930172.0: 18.0, 935031.0: 18.0, 935033.0: 17.0, 935034.0: 17.5, 941034.0: 22.0, 941184.0: 18.0, 952032.0: 21.0, 958031.0: 21.0, 961035.0: 20.0, 964035.0: 17.0, 964036.0: 18.0, 964173.0: 58.0, 964187.0: 69.0, 967176.0: 25.0, 976033.0: 17.0, 1000030.0: 23.0, 1000035.0: 19.5, 1013031.0: 19.0, 1034030.0: 25.0, 1034171.0: 34.25, 1037033.0: 26.0, 1037036.0: 18.0, 1037189.0: 19.0, 1037190.0: 23.0, 1038032.0: 18.0, 1043007.0: 45.0, 1043008.0: 50.0, 1043031.0: 34.0, 1043035.0: 24.5, 1043036.0: 20.0, 1043037.0: 19.0, 1048185.0: 22.0, 1048190.0: 16.0, 1048195.0: 17.0, 1048229.0: 34.0, 1048237.0: 24.0, 1051042.0: 17.0, 1055030.0: 18.0, 1055031.0: 17.0, 1055032.0: 18.0, 1060032.0: 17.0, 1061032.0: 18.0, 1066032.0: 31.0, 1066035.0: 18.0, 1068182.0: 44.0, 1070031.0: 25.0, 1072031.0: 20.0, 1074177.0: 34.0, 1075035.0: 21.0, 1075184.0: 23.0, 1084032.0: 20.0, 1084184.0: 25.0, 1087030.0: 30.0, 1088037.0: 18.0, 1088191.0: 21.0, 1092031.0: 23.0, 1092032.0: 19.0, 1092170.0: 59.0, 1093034.0: 18.0, 1097172.0: 35.0, 1100032.0: 17.0, 1109182.0: 61.0, 1121031.0: 21.0, 1121032.0: 19.0, 1121034.0: 17.0, 1126035.0: 17.0, 1129189.0: 19.0, 1131033.0: 17.0, 1141030.0: 38.0, 1141035.0: 22.0, 1142032.0: 18.0, 1151034.0: 26.0, 1152037.0: 26.0, 1152193.0: 27.0, 1163041.0: 17.0, 1163043.0: 16.0, 1163044.0: 17.0, 1167042.0: 17.0, 1167045.0: 16.0, 1167046.0: 18.0, 1168035.0: 23.0, 1169031.0: 20.0, 1178177.0: 18.0, 1178179.0: 24.0, 1181172.0: 27.0, 1184037.0: 29.0, 1184039.0: 22.0, 1184043.0: 16.0, 1185032.0: 17.0, 1192032.0: 24.0, 1192033.0: 24.0, 1192034.0: 22.0, 1192178.0: 30.0, 1210030.0: 26.0, 1221031.0: 22.0, 1221035.0: 18.0, 1222185.0: 17.0, 1222189.0: 21.0, 1227035.0: 17.0, 1236032.0: 18.0, 1242034.0: 19.0, 1242035.0: 19.0, 1242038.0: 19.0, 1255171.0: 43.0, 1258030.0: 17.0, 1260042.0: 18.0, 1275031.0: 17.0, 1281033.0: 29.0, 1281036.0: 24.0, 1290170.0: 65.0, 1292032.0: 22.0, 1298031.0: 22.0, 1315033.0: 16.0, 1315177.0: 33.0, 1332032.0: 19.0, 1335050.0: 18.0, 1335054.0: 17.0, 1335176.0: 55.0, 1335206.0: 23.0, 1335207.0: 39.0, 1336195.0: 32.0, 1345034.0: 19.5, 1351035.0: 19.0, 1351036.0: 18.0, 1368174.0: 25.0, 1368175.0: 21.0, 1368184.0: 27.0, 1383039.0: 16.0, 1383040.0: 17.0, 1383184.0: 18.0, 1391032.0: 26.0, 1391183.0: 35.0, 1394034.0: 22.0, 1397033.0: 24.5, 1397035.0: 19.0, 1397036.0: 18.0, 1397037.0: 17.0, 1398031.0: 17.0, 1399036.0: 18.0, 1399037.0: 19.0, 1411033.0: 31.0, 1411036.0: 31.0, 1411039.0: 25.0, 1411041.0: 22.0, 1411045.0: 18.33333396911621, 1426035.0: 19.0, 1438036.0: 21.0, 1438171.0: 62.0, 1445037.0: 19.0, 1468034.0: 17.0, 1468180.0: 33.0, 1473032.0: 21.0, 1480033.0: 19.0, 1480186.0: 20.0, 1485034.0: 20.25, 1485035.0: 19.0, 1494004.0: 49.0, 1498032.0: 19.0, 1498034.0: 16.0, 1498036.0: 17.0, 1498038.0: 16.0, 1498173.0: 40.0, 1501031.0: 37.0, 1504003.0: 49.0, 1505030.0: 18.0, 1522036.0: 24.0, 1522039.0: 17.0, 1522040.0: 17.0, 1522042.0: 17.0, 1523031.0: 23.0, 1533175.0: 60.0, 1540178.0: 17.0, 1541038.0: 20.0, 1542033.0: 22.0, 1542034.0: 20.0, 1542035.0: 18.0, 1542036.0: 18.0, 1542039.0: 17.0, 1542185.0: 23.0, 1551034.0: 18.0, 1551036.0: 17.0, 1551177.0: 21.0, 1567033.0: 18.0, 1570032.0: 24.0, 1571037.0: 18.0, 1571039.0: 18.0, 1571181.0: 22.0, 1579042.0: 19.0, 1579188.0: 29.0, 1583180.0: 24.0, 1591030.0: 26.0, 1591035.0: 17.0, 1599030.0: 19.0, 1599031.0: 17.0, 1608032.0: 18.0, 1608033.0: 16.0, 1611032.0: 18.0, 1611033.0: 16.0, 1611035.0: 16.0, 1613036.0: 23.0, 1613181.0: 40.5, 1621031.0: 21.0, 1621032.0: 18.0, 1624035.0: 20.0, 1624036.0: 21.5, 1624037.0: 19.5, 1624183.0: 38.0, 1630174.0: 30.0, 1644030.0: 17.0, 1644031.0: 17.0, 1644032.0: 17.0, 1648032.0: 19.0, 1648173.0: 18.0, 1654031.0: 22.0, 1654032.0: 18.0, 1663033.0: 24.0, 1663035.0: 22.5, 1663037.0: 21.0, 1663039.0: 18.0, 1663040.0: 17.0, 1663042.0: 18.0, 1663043.0: 18.0, 1670006.0: 45.0, 1679030.0: 17.0, 1684034.0: 23.0, 1684036.0: 21.5, 1684037.0: 20.0, 1684185.0: 21.0, 1690034.0: 19.0, 1692039.0: 17.0, 1692176.0: 37.0, 1695043.0: 26.0, 1695046.0: 17.0, 1695047.0: 17.0, 1695050.0: 18.0, 1695051.0: 17.0, 1695243.0: 22.0, 1695249.0: 23.0, 1695266.0: 28.0, 1697207.0: 24.0, 1698030.0: 29.0, 1700039.0: 18.0, 1701034.0: 18.0, 1708003.0: 54.0, 1711031.0: 24.0, 1722034.0: 31.0, 1722037.0: 22.0, 1722184.0: 18.0, 1722185.0: 17.0, 1723030.0: 27.33333396911621, 1740031.0: 27.0, 1762041.0: 18.0, 1762043.0: 17.5, 1762046.0: 18.0, 1762199.0: 20.0, 1763036.0: 18.0, 1763038.0: 16.0, 1763039.0: 18.0, 1763191.0: 21.0, 1775035.0: 18.0, 1775036.0: 18.0, 1775037.0: 17.0, 1782033.0: 18.0, 1782035.0: 16.0, 1783170.0: 25.0, 1786045.0: 25.33333396911621, 1786047.0: 18.0, 1786049.0: 18.0, 1786205.0: 20.0, 1786206.0: 36.0, 1787034.0: 23.0, 1787035.0: 21.0, 1798030.0: 34.0, 1802033.0: 22.0, 1803031.0: 22.0, 1807180.0: 37.0, 1810041.0: 23.0, 1810188.0: 32.0, 1813032.0: 20.75, 1813175.0: 29.0, 1822032.0: 23.0, 1824178.0: 17.0, 1830186.0: 16.0, 1831030.0: 44.0, 1837034.0: 22.0, 1837035.0: 19.0, 1839031.0: 44.0, 1839032.0: 25.0, 1839035.0: 18.0, 1839036.0: 16.0, 1839037.0: 18.0, 1839175.0: 46.0, 1841035.0: 24.0, 1845030.0: 23.0, 1845031.0: 21.0, 1850034.0: 25.0, 1850178.0: 24.0, 1866031.0: 30.66666603088379, 1867034.0: 18.0, 1878034.0: 19.0, 1879032.0: 20.0, 1879033.0: 19.0, 1892035.0: 27.0, 1893033.0: 24.0, 1893034.0: 23.0, 1893035.0: 19.0, 1901031.0: 20.0, 1905031.0: 25.0, 1906031.0: 16.0, 1908030.0: 36.0, 1908032.0: 23.0, 1908033.0: 17.0, 1908034.0: 16.0, 1914033.0: 18.0, 1915031.0: 17.0, 1917035.0: 16.5, 1918180.0: 27.0, 1919034.0: 27.0, 1919035.0: 26.0, 1919038.0: 20.0, 1919041.0: 18.0, 1926033.0: 17.5, 1932177.0: 17.0, 1954030.0: 21.0, 1959032.0: 17.0, 1960179.0: 17.0, 1960184.0: 24.0, 1962030.0: 20.0, 1962031.0: 17.0, 1964032.0: 20.0, 1964033.0: 16.0, 1964035.0: 17.0, 1967031.0: 26.0, 1968004.0: 51.0, 1970030.0: 17.0, 1971033.0: 24.0, 1971185.0: 30.0, 1975033.0: 16.0, 1994178.0: 22.0, 2004036.0: 19.0, 2004187.0: 25.0, 2006177.0: 22.0, 2006178.0: 21.0, 2011033.0: 17.0, 2012032.0: 16.0, 2016031.0: 22.0, 2016032.0: 21.0, 2016179.0: 19.0, 2019031.0: 21.0, 2022030.0: 20.0, 2022031.0: 18.0, 2022172.0: 28.0, 2028032.0: 16.0, 2030039.0: 21.0, 2030040.0: 18.5, 2032038.0: 18.0, 2032042.0: 17.0, 2050184.0: 28.0, 2054171.0: 25.0, 2055030.0: 22.0, 2056035.0: 20.0, 2060030.0: 19.0, 2061031.0: 17.0, 2062036.0: 20.0, 2062037.0: 18.0, 2067035.0: 34.5, 2067037.0: 16.0, 2067202.0: 24.0, 2083173.0: 18.0, 2086031.0: 17.0, 2088032.0: 19.0, 2088033.0: 17.0, 2095032.0: 18.0, 2095033.0: 18.0, 2108032.0: 19.5, 2108033.0: 18.0, 2108034.0: 18.0, 2108035.0: 17.0, 2108178.0: 19.0, 2108179.0: 19.0, 2109003.0: 45.0, 2109030.0: 19.0, 2109031.0: 19.0, 2119039.0: 23.0, 2125032.0: 18.0, 2128032.0: 16.0, 2128175.0: 36.0, 2129036.0: 17.0, 2137178.0: 27.0, 2138033.0: 17.0, 2151195.0: 24.0, 2164038.0: 24.0, 2164039.0: 19.0, 2175030.0: 18.0, 2175031.0: 17.0, 2177031.0: 20.0, 2177032.0: 18.0, 2177034.0: 16.0, 2181037.0: 21.0, 2186176.0: 26.0, 2188031.0: 20.0, 2188032.0: 17.0, 2191182.0: 18.0, 2191191.0: 32.0, 2195175.0: 35.0, 2195181.0: 18.0, 2196184.0: 55.33333206176758, 2198035.0: 17.5, 2201176.0: 31.0, 2205004.0: 61.0, 2205180.0: 33.0, 2207030.0: 17.0, 2207031.0: 17.0, 2210033.0: 18.0, 2210035.0: 16.0, 2210185.0: 19.0, 2219032.0: 24.0, 2219034.0: 18.5, 2224039.0: 23.0, 2224040.0: 23.0, 2224041.0: 18.0, 2224042.0: 17.0, 2228031.0: 21.0, 2229031.0: 26.0, 2246180.0: 21.0, 2246181.0: 16.0, 2250042.0: 18.0, 2250044.0: 18.0, 2250045.0: 17.0, 2251038.0: 20.0, 2251039.0: 20.0, 2260034.0: 19.0, 2260035.0: 18.0, 2260179.0: 23.0, 2261034.0: 18.0, 2276171.0: 21.0, 2276182.0: 26.0, 2278040.0: 17.66666603088379, 2278041.0: 17.0, 2280042.0: 17.0, 2280183.0: 20.0, 2282031.0: 23.0, 2282032.0: 18.0, 2282034.0: 16.0, 2285033.0: 21.0, 2285036.0: 20.399999618530273, 2285037.0: 18.0, 2288034.0: 18.0, 2288184.0: 37.0, 2292005.0: 47.0, 2292037.0: 19.0, 2292038.0: 17.0, 2299033.0: 23.0, 2299034.0: 22.0, 2299035.0: 19.0, 2302042.0: 23.0, 2302051.0: 18.0, 2304032.0: 17.0, 2304033.0: 16.0, 2311034.0: 19.0, 2326031.0: 26.0, 2330031.0: 20.0, 2330032.0: 17.0, 2339180.0: 25.0, 2341031.0: 20.0, 2341032.0: 19.0, 2341033.0: 17.5, 2341034.0: 16.0, 2352031.0: 17.0, 2352174.0: 28.0, 2353034.0: 18.0, 2353035.0: 17.0, 2353036.0: 16.0, 2354031.0: 34.0, 2354033.0: 24.0, 2354035.0: 21.0, 2354182.0: 39.0, 2355033.0: 17.0, 2355176.0: 20.25, 2355185.0: 21.0, 2379032.0: 18.0, 2383172.0: 42.0, 2391174.0: 18.5, 2392033.0: 17.0, 2392034.0: 17.0, 2392035.0: 17.0, 2392036.0: 16.5, 2392037.0: 16.0, 2397036.0: 17.0, 2409031.0: 22.0, 2409033.0: 19.0, 2410031.0: 21.33333396911621, 2416035.0: 19.0, 2416179.0: 27.0, 2422035.0: 20.0, 2427035.0: 19.25, 2427172.0: 24.0, 2432041.0: 19.0, 2432044.0: 17.0, 2436036.0: 23.0, 2436037.0: 17.0, 2441033.0: 22.0, 2441036.0: 20.0, 2461033.0: 17.0, 2461173.0: 18.0, 2464032.0: 17.0, 2467175.0: 27.0, 2468030.0: 17.0, 2469032.0: 19.0, 2472031.0: 26.0, 2475030.0: 23.0, 2475173.0: 35.0, 2478178.0: 33.0, 2485032.0: 24.0, 2502182.0: 30.0, 2506177.0: 27.0, 2506178.0: 22.0, 2509033.0: 26.0, 2510032.0: 18.0, 2510033.0: 18.5, 2510034.0: 17.0, 2510036.0: 18.0, 2515033.0: 30.0, 2515204.0: 65.0, 2516032.0: 20.0, 2516033.0: 19.0, 2518031.0: 24.0, 2518032.0: 22.0, 2526033.0: 21.0, 2532172.0: 19.0, 2532173.0: 38.0, 2538031.0: 21.0, 2540171.0: 17.0, 2557179.0: 51.0, 2566038.0: 17.0, 2576030.0: 29.0, 2586030.0: 26.0, 2594030.0: 19.0, 2599174.0: 19.0, 2601033.0: 22.0, 2601038.0: 20.0, 2601039.0: 19.0, 2603179.0: 17.0, 2607030.0: 17.0, 2613031.0: 19.0, 2613182.0: 22.0, 2613184.0: 23.0, 2615039.0: 28.0, 2615046.0: 25.0, 2618032.0: 18.5, 2618033.0: 19.0, 2618034.0: 17.0, 2618035.0: 17.0, 2618037.0: 17.0, 2621032.0: 19.66666603088379, 2621033.0: 18.0, 2628037.0: 18.0, 2639004.0: 48.0, 2642032.0: 18.0, 2642034.0: 20.33333396911621, 2642035.0: 17.0, 2649178.0: 17.5, 2656035.0: 19.0, 2660032.0: 19.0, 2661041.0: 20.0, 2661042.0: 19.0, 2661044.0: 16.0, 2665035.0: 19.0, 2672030.0: 25.0, 2672031.0: 26.33333396911621, 2673031.0: 24.0, 2673174.0: 23.0, 2674031.0: 25.0, 2701049.0: 18.0, 2701201.0: 18.0, 2701211.0: 16.0, 2704185.0: 20.0, 2704186.0: 17.0, 2707038.0: 19.0, 2707042.0: 18.0, 2707045.0: 19.0, 2707191.0: 30.0, 2714198.0: 30.0, 2714202.0: 25.0, 2717033.0: 23.0, 2717034.0: 22.0, 2722030.0: 30.0, 2727035.0: 18.0, 2731035.0: 19.0, 2731037.0: 16.0, 2744021.0: 61.25, 2753035.0: 16.0, 2756034.0: 18.0, 2775004.0: 54.0, 2776031.0: 17.66666603088379, 2781032.0: 27.0, 2782175.0: 17.0, 2799031.0: 17.0, 2799181.0: 32.0, 2801034.0: 24.0, 2801035.0: 27.0, 2807030.0: 21.5, 2807031.0: 18.0, 2816032.0: 23.0, 2816174.0: 29.0, 2831032.0: 29.0, 2831033.0: 18.75, 2847036.0: 26.0, 2848034.0: 25.0, 2848036.0: 21.0, 2848037.0: 20.0, 2848043.0: 18.0, 2852037.0: 26.0, 2852044.0: 17.0, 2852050.0: 16.0, 2852210.0: 28.0, 2852211.0: 28.0, 2860175.0: 24.0, 2869031.0: 18.0, 2875034.0: 18.0, 2875035.0: 17.0, 2876030.0: 28.0, 2876032.0: 18.0, 2880030.0: 18.0, 2882032.0: 19.0, 2882033.0: 17.0, 2882034.0: 17.0, 2882177.0: 19.0, 2895033.0: 17.0, 2895034.0: 17.0, 2897034.0: 19.0, 2897035.0: 17.0, 2897192.0: 24.0, 2898032.0: 21.0, 2902031.0: 19.0, 2907037.0: 24.0, 2907039.0: 21.5, 2907040.0: 22.0, 2910032.0: 18.0, 2916032.0: 17.0, 2921033.0: 20.0, 2921174.0: 18.33333396911621, 2921175.0: 16.0, 2924031.0: 17.0, 2924032.0: 17.0, 3002002.0: 18.0, 3121170.0: 30.0, 3502004.0: 19.0, 5010035.0: 18.0, 5010175.0: 17.0, 5012177.0: 19.0, 5012212.0: 63.0, 5014040.0: 18.0, 5015034.0: 23.0, 5015035.0: 23.5, 5016033.0: 17.0, 5016034.0: 18.0, 5018031.0: 28.0, 5018032.0: 26.0, 5018033.0: 18.0, 5018034.0: 17.33333396911621, 5031044.0: 20.0, 5031045.0: 20.0, 5034036.0: 29.0, 5034040.0: 25.0, 5034182.0: 20.0, 5035030.0: 29.0, 5035031.0: 19.0, 5037030.0: 38.0, 5037034.0: 23.0, 5037185.0: 20.0, 5047030.0: 21.0, 5047031.0: 21.0, 5047032.0: 19.33333396911621, 5048038.0: 23.0, 5048039.0: 21.0, 5048041.0: 16.0, 5048043.0: 19.25, 5048045.0: 17.33333396911621, 5048184.0: 17.0, 5055003.0: 46.0, 5055043.0: 17.0, 5055045.0: 16.0, 5055176.0: 19.0, 5055177.0: 18.0, 5057045.0: 17.0, 5057046.0: 17.5, 5057196.0: 24.0, 5061034.0: 18.0, 5065033.0: 41.0, 5065037.0: 19.0, 5065038.0: 19.0, 5065040.0: 18.33333396911621, 5065044.0: 18.0, 5066034.0: 29.0, 5066039.0: 19.0, 5066040.0: 18.0, 5066181.0: 26.0, 5067034.0: 25.0, 5067035.0: 21.0, 5069034.0: 29.0, 5069037.0: 20.0, 5071032.0: 38.0, 5071035.0: 21.0, 5071036.0: 19.0, 5133175.0: 46.0, 5136041.0: 18.0, 5136042.0: 17.0, 5136194.0: 30.0, 5136195.0: 24.0, 5142033.0: 23.75, 5142034.0: 24.0, 5142035.0: 17.0, 5145035.0: 17.0, 5161003.0: 63.5, 5163032.0: 17.0, 5177031.0: 20.0, 5177032.0: 18.0, 5177033.0: 17.0, 5182042.0: 20.0, 5182043.0: 17.0, 5182045.0: 17.0, 5209032.0: 17.0, 5215034.0: 23.0, 5215172.0: 18.0, 5230041.0: 20.0, 5241172.0: 19.0, 5264031.0: 17.0, 5274031.0: 21.0, 5274033.0: 16.0, 5274185.0: 51.0, 5277031.0: 21.0, 5281032.0: 23.0, 5287034.0: 23.0, 5290031.0: 29.0, 5290035.0: 19.0, 5290037.0: 17.0, 5290181.0: 48.0, 5290183.0: 17.0, 5290184.0: 17.0, 5290195.0: 17.0, 5290200.0: 31.0, 5290202.0: 30.0, 5292040.0: 22.0, 5294031.0: 17.0, 5294032.0: 16.0, 5294171.0: 28.0, 5295030.0: 25.0, 5295171.0: 36.0, 5299042.0: 23.0, 5299044.0: 22.0, 5299048.0: 21.0, 5299053.0: 17.33333396911621, 5299056.0: 18.0, 5299176.0: 25.0, 5299177.0: 23.0, 5302182.0: 18.0, 5305196.0: 16.0, 5306032.0: 17.0, 5306033.0: 19.66666603088379, 5308032.0: 20.0, 5332003.0: 63.0, 5332040.0: 23.0, 5335035.0: 19.33333396911621, 5335036.0: 18.0, 5348005.0: 49.0, 5350037.0: 19.0, 5350038.0: 18.0, 5350039.0: 18.0, 5350178.0: 18.0, 5363032.0: 23.0, 5363033.0: 18.0, 5366047.0: 20.66666603088379, 5366049.0: 17.0, 5366194.0: 24.0, 5366196.0: 21.0, 5366197.0: 17.0, 5375030.0: 17.0, 5379001.0: 73.0, 5379030.0: 23.0, 5379032.0: 22.25, 5379033.0: 20.0, 5393179.0: 18.0, 5403030.0: 17.66666603088379, 5405030.0: 24.0, 5406030.0: 29.66666603088379, 5406031.0: 22.0, 5406032.0: 20.0, 5406176.0: 17.0, 5408171.0: 22.0, 5408175.0: 39.0, 5417182.0: 17.0, 5419178.0: 17.0, 5424033.0: 21.0, 5425034.0: 17.0, 5429032.0: 20.0, 5430035.0: 37.0, 5430043.0: 25.0, 5430045.0: 20.0, 5430047.0: 16.0, 5446032.0: 20.0, 5447034.0: 18.0, 5449033.0: 20.0, 5451030.0: 23.0, 5458036.0: 21.0, 5459032.0: 19.0, 5462030.0: 29.0, 5462031.0: 25.0, 5463186.0: 17.0, 5463187.0: 17.5, 5464041.0: 17.0, 5464183.0: 18.0, 5464187.0: 48.0, 5464189.0: 19.5, 5477181.0: 21.0, 5489034.0: 20.0, 5491033.0: 23.66666603088379, 5493208.0: 29.0, 5501182.0: 22.0, 5503186.0: 17.0, 5503193.0: 19.0, 5510031.0: 17.0, 5513034.0: 17.0, 5526214.0: 39.0, 5537008.0: 44.0, 5537036.0: 24.0, 5537038.0: 20.0, 5537039.0: 22.0, 5537042.0: 16.0, 5537045.0: 17.0, 5537048.0: 18.0, 5537180.0: 19.0, 5537185.0: 17.0, 5537193.0: 17.0, 5537197.0: 23.0, 5537198.0: 23.0, 5537200.0: 28.0, 5539038.0: 22.0, 5547034.0: 23.0, 5547037.0: 20.0, 5547039.0: 19.0, 5547040.0: 18.0, 5547041.0: 17.0, 5547183.0: 20.0, 5548035.0: 23.0, 5548036.0: 20.0, 5549034.0: 21.0, 5549036.0: 18.0, 5553031.0: 24.0, 5560038.0: 20.0, 5560040.0: 18.0, 5562030.0: 23.0, 5562031.0: 24.0, 5566030.0: 32.0, 5570041.0: 24.5, 5570199.0: 20.0, 5570200.0: 20.33333396911621, 5570201.0: 18.0, 5570210.0: 19.0, 5573042.0: 18.0, 5576176.0: 17.0, 5584033.0: 17.0, 5584174.0: 21.0, 5600032.0: 20.75, 5612037.0: 18.0, 5612038.0: 17.0, 5613036.0: 27.0, 5613040.0: 23.0, 5613044.0: 20.0, 5613200.0: 27.0, 5613202.0: 27.0, 5614033.0: 21.0, 5614034.0: 23.0, 5614035.0: 19.0, 5614036.0: 19.0, 5614037.0: 19.5, 5614038.0: 18.0, 5614171.0: 26.0, 5614188.0: 25.0, 5614190.0: 20.0, 5615013.0: 40.0, 5615034.0: 28.5, 5615035.0: 25.0, 5615036.0: 29.0, 5619035.0: 29.0, 5619037.0: 25.0, 5621030.0: 26.0, 5621031.0: 23.75, 5621032.0: 20.0, 5621035.0: 17.0, 5623044.0: 33.5, 5623047.0: 23.0, 5623048.0: 24.0, 5625032.0: 18.0, 5628035.0: 29.0, 5628037.0: 21.0, 5628038.0: 20.0, 5628041.0: 17.0, 5628043.0: 18.0, 5628044.0: 17.0, 5635037.0: 26.0, 5635042.0: 18.0, 5635180.0: 21.0, 5635181.0: 19.0, 5635183.0: 20.0, 5640033.0: 20.0, 5641036.0: 16.0, 5643030.0: 21.0, 5643182.0: 35.0, 5646035.0: 23.0, 5646037.0: 18.0, 5646038.0: 16.0, 5653174.0: 26.0, 5653175.0: 27.0, 5655034.0: 28.0, 5655040.0: 19.0, 5656045.0: 18.0, 5656197.0: 20.0, 5660031.0: 18.0, 5663052.0: 17.0, 5663053.0: 17.0, 5664032.0: 21.0, 5676034.0: 19.0, 5678036.0: 18.0, 5678037.0: 18.0, 5680031.0: 23.0, 5680032.0: 21.0, 5680033.0: 17.0, 5683183.0: 18.0, 5684004.0: 54.0, 5684188.0: 30.0, 5684212.0: 17.0, 5689035.0: 20.0, 5689037.0: 16.0, 5706038.0: 23.0, 5706208.0: 18.0, 5706209.0: 16.0, 5706224.0: 21.0, 5715034.0: 17.0, 5744172.0: 19.0, 5748002.0: 77.0, 5748032.0: 26.0, 5748038.0: 17.0, 5748039.0: 17.0, 5748191.0: 18.33333396911621, 5749047.0: 18.0, 5749183.0: 41.0, 5771030.0: 19.0, 5771170.0: 81.0, 5771171.0: 25.0, 5779031.0: 27.0, 5784030.0: 26.0, 5784032.0: 19.0, 5784033.0: 18.0, 5812046.0: 22.0, 5812048.0: 21.66666603088379, 5812049.0: 18.0, 5812050.0: 18.0, 5812051.0: 18.66666603088379, 5812052.0: 18.0, 5814039.0: 19.0, 5819034.0: 19.0, 5820034.0: 20.33333396911621, 5826175.0: 58.0, 5832030.0: 17.0, 5832174.0: 17.0, 5835181.0: 18.0, 5841035.0: 16.0, 5849044.0: 18.0, 5849184.0: 17.0, 5858037.0: 17.0, 5858038.0: 19.0, 5858186.0: 19.0, 5858188.0: 17.0, 5861032.0: 24.0, 5861035.0: 22.0, 5863038.0: 19.5, 5863040.0: 19.0, 5864036.0: 17.0, 5864178.0: 23.0, 5864179.0: 21.0, 5864184.0: 38.0, 5871030.0: 18.0, 5871171.0: 23.0, 5872039.0: 17.0, 5874180.0: 18.0, 5876031.0: 29.0, 5885033.0: 17.0, 5897031.0: 23.0, 5897032.0: 20.0, 5898032.0: 25.0, 5900036.0: 21.0, 5900037.0: 17.0, 5900039.0: 17.0, 5900175.0: 19.66666603088379, 5900178.0: 49.5, 5904049.0: 17.0, 5904052.0: 17.0, 5904243.0: 20.0, 5922040.0: 21.0, 5922041.0: 21.0, 5922042.0: 18.0, 5922171.0: 53.0, 5922200.0: 22.0, 5922201.0: 23.0, 5922204.0: 19.0, 5922205.0: 20.0, 5922208.0: 17.0, 5922209.0: 17.0, 5925003.0: 43.0, 5926031.0: 22.0, 5938032.0: 39.0, 5938035.0: 16.0, 5938185.0: 31.0, 5938187.0: 44.0, 5940032.0: 19.0, 5959181.0: 17.0, 5960005.0: 55.0, 5960039.0: 25.0, 5960043.0: 19.0, 5964032.0: 19.0, 5965035.0: 17.0, 5965179.0: 26.0, 5984033.0: 26.0, 5984034.0: 21.0, 5984035.0: 21.0, 5984036.0: 17.0, 5984179.0: 17.0, 5987033.0: 28.0, 5987035.0: 20.0, 5987192.0: 20.0, 5990037.0: 19.0, 5995038.0: 18.0, 5995041.0: 19.0, 5995042.0: 18.0, 5995044.0: 17.0, 5995172.0: 20.0, 6026034.0: 19.0, 6026035.0: 18.0, 6026036.0: 17.0, 6028043.0: 22.0, 6030031.0: 27.0, 6030036.0: 18.0, 6041174.0: 19.0, 6041182.0: 23.0, 6051036.0: 21.0, 6051205.0: 47.0, 6053034.0: 23.0, 6053035.0: 16.0, 6053037.0: 17.0, 6053175.0: 51.0, 6064032.0: 33.0, 6064033.0: 30.0, 6064196.0: 21.0, 6069005.0: 53.5, 6073032.0: 30.0, 6073035.0: 20.0, 6073036.0: 20.0, 6073037.0: 17.0, 6073173.0: 47.0, 6086030.0: 22.0, 6103002.0: 72.0, 6103006.0: 49.0, 6103037.0: 23.0, 6103041.0: 20.0, 6103042.0: 21.0, 6103180.0: 17.5, 6107035.0: 28.0, 6107040.0: 23.0, 6107045.0: 19.0, 6107048.0: 20.5, 6107191.0: 17.0, 6107194.0: 17.0, 6107214.0: 34.0, 6110039.0: 23.0, 6110040.0: 20.0, 6110179.0: 54.0, 6111033.0: 22.0, 6111034.0: 18.5, 6112197.0: 18.5, 6112210.0: 35.0, 6112214.0: 19.0, 6114048.0: 20.0, 6114053.0: 19.0, 6114189.0: 22.0, 6114190.0: 19.0, 6114193.0: 19.0, 6115044.0: 24.5, 6115050.0: 18.0, 6115180.0: 32.0, 6120196.0: 17.0, 6121043.0: 33.0, 6121057.0: 18.0, 6125177.0: 38.0, 6133034.0: 23.0, 6153031.0: 17.0, 6161031.0: 21.0, 6165037.0: 21.0, 6165179.0: 18.0, 6166053.0: 25.0, 6166055.0: 19.0, 6166058.0: 19.0, 6166060.0: 18.0, 6166189.0: 24.0, 6170033.0: 20.0, 6170171.0: 45.0, 6172034.0: 30.0, 6179032.0: 25.0, 6179033.0: 24.0, 6179034.0: 23.0, 6179174.0: 17.33333396911621, 6187038.0: 19.5, 6187039.0: 19.5, 6205034.0: 23.0, 6205181.0: 25.0, 6212037.0: 19.5, 6212038.0: 17.0, 6217034.0: 30.5, 6228012.0: 41.0, 6228034.0: 29.0, 6228036.0: 18.0, 6228184.0: 49.0, 6228185.0: 20.0, 6232041.0: 19.66666603088379, 6233006.0: 48.0, 6233036.0: 19.0, 6233183.0: 28.0, 6262033.0: 26.33333396911621, 6275032.0: 17.0, 6275034.0: 17.66666603088379, 6316030.0: 24.0, 6316031.0: 19.0, 6350005.0: 52.0, 6357030.0: 35.0, 6357035.0: 19.0, 6361034.0: 17.0, 6361179.0: 46.0, 6365036.0: 28.0, 6365046.0: 19.0, 6365053.0: 19.0, 6366032.0: 17.0, 6367036.0: 17.0, 6368004.0: 46.0, 6368034.0: 20.0, 6368035.0: 20.0, 6370030.0: 39.0, 6370037.0: 17.0, 6370039.0: 16.0, 6370041.0: 18.0, 6370042.0: 18.5, 6370182.0: 23.0, 6370195.0: 18.0, 6375031.0: 26.0, 6375033.0: 18.66666603088379, 6375176.0: 21.0, 6376175.0: 24.0, 6411034.0: 18.0, 6413039.0: 22.0, 6431033.0: 18.0, 6431034.0: 16.0, 6431194.0: 47.5, 6434030.0: 17.0, 6434170.0: 59.0, 6438032.0: 18.0, 6438178.0: 26.0, 6475038.0: 21.0, 6475041.0: 20.0, 6475043.0: 16.0, 6475208.0: 35.0, 6478004.0: 54.0, 6478045.0: 22.0, 6485174.0: 27.0, 6499032.0: 31.0, 6499034.0: 24.0, 6522031.0: 17.0, 6537038.0: 21.799999237060547, 6537040.0: 19.0, 6545035.0: 27.0, 6545178.0: 21.5, 6545185.0: 17.0, 6545186.0: 18.0, 6545210.0: 49.0, 6546034.0: 21.0, 6547031.0: 18.0, 6560033.0: 24.0, 6571034.0: 17.0, 6571035.0: 18.0, 6571036.0: 17.0, 6571037.0: 16.0, 6575031.0: 19.0, 6577035.0: 41.0, 6577040.0: 18.0, 6583045.0: 22.0, 6583048.0: 19.0, 6583200.0: 19.0, 6583220.0: 25.0, 6588041.0: 18.0, 6589035.0: 23.0, 6590004.0: 51.0, 6590040.0: 22.0, 6591034.0: 23.0, 6591035.0: 22.0, 6591037.0: 18.0, 6602206.0: 37.0, 6615035.0: 19.66666603088379, 6616034.0: 19.0, 6616036.0: 17.0, 6616181.0: 21.5, 6616183.0: 17.0, 6626035.0: 21.5, 6635053.0: 18.0, 6639036.0: 24.0, 6655040.0: 18.0, 6655187.0: 33.0, 6660031.0: 18.0, 6663032.0: 26.0, 6663033.0: 22.0, 6674004.0: 48.0, 6674031.0: 23.5, 6674032.0: 17.0, 6674033.0: 19.0, 6694032.0: 19.0, 6698033.0: 16.0, 6703170.0: 51.0, 6706034.0: 20.0, 6706195.0: 18.0, 6707033.0: 20.0, 6710035.0: 19.0, 6716174.0: 20.0, 6721006.0: 52.0, 6721031.0: 23.5, 6721032.0: 24.0, 6721172.0: 22.0, 6724037.0: 19.0, 6724043.0: 15.0, 6724201.0: 20.0, 6724204.0: 19.0, 6735038.0: 22.0, 6735041.0: 22.0, 6735044.0: 19.0, 6736197.0: 44.0, 6736199.0: 20.0, 6738033.0: 27.200000762939453, 6738181.0: 17.0, 6738182.0: 18.0, 6740034.0: 21.0, 6740035.0: 17.0, 6745002.0: 67.0, 6765031.0: 27.5, 6765033.0: 19.0, 6769040.0: 21.33333396911621, 6769183.0: 22.0, 6779038.0: 21.600000381469727, 6779041.0: 18.0, 6779043.0: 17.0, 6785033.0: 23.0, 6785172.0: 49.0, 6785173.0: 29.0, 6789032.0: 18.0, 6790035.0: 22.0, 6790036.0: 20.5, 6793033.0: 29.0, 6793036.0: 18.0, 6793174.0: 18.0, 6800038.0: 18.0, 6800178.0: 25.0, 6801033.0: 21.0, 6801040.0: 21.0, 6802035.0: 18.0, 6802174.0: 19.66666603088379, 6802175.0: 19.33333396911621, 6802186.0: 26.0, 6803033.0: 20.0, 6820035.0: 20.0, 6820036.0: 19.0, 6822173.0: 20.0, 6826030.0: 23.0, 6826032.0: 21.0, 6826033.0: 23.0, 6826179.0: 24.0, 6830030.0: 19.0, 6839033.0: 33.0, 6839183.0: 24.66666603088379, 6840033.0: 17.0, 6843032.0: 25.0, 6843034.0: 21.0, 6843175.0: 29.0, 6845034.0: 21.0, 6845036.0: 19.0, 6845037.0: 18.0, 6845039.0: 20.0, 6845184.0: 18.0, 6857030.0: 19.0, 6857184.0: 20.0, 6864033.0: 28.0, 6864034.0: 24.0, 6864035.0: 19.0, 6867003.0: 56.0, 6867004.0: 53.0}\n",
            "\n",
            "\n"
          ]
        },
        {
          "output_type": "stream",
          "name": "stderr",
          "text": [
            "/usr/local/lib/python3.7/dist-packages/ipykernel_launcher.py:6: SettingWithCopyWarning: \n",
            "A value is trying to be set on a copy of a slice from a DataFrame.\n",
            "Try using .loc[row_indexer,col_indexer] = value instead\n",
            "\n",
            "See the caveats in the documentation: https://pandas.pydata.org/pandas-docs/stable/user_guide/indexing.html#returning-a-view-versus-a-copy\n",
            "  \n"
          ]
        },
        {
          "output_type": "execute_result",
          "data": {
            "text/plain": [
              "'the total within group variance = 2.3954618751440253'"
            ],
            "application/vnd.google.colaboratory.intrinsic+json": {
              "type": "string"
            }
          },
          "metadata": {},
          "execution_count": 20
        }
      ]
    },
    {
      "cell_type": "markdown",
      "source": [
        "### **e. Calculate Between Group Variance**"
      ],
      "metadata": {
        "id": "_QpBc-uqbX33"
      }
    },
    {
      "cell_type": "code",
      "source": [
        "print(unitmeans)\n",
        "print(\"\\n\")\n",
        "\n",
        "# the between group variance\n",
        "f\"The between group variance = {sum((unitmeans - grandmean)**2) / (len(unitmeans) - 1)}\" "
      ],
      "metadata": {
        "colab": {
          "base_uri": "https://localhost:8080/",
          "height": 313
        },
        "id": "Ah0c_A7ibeUj",
        "outputId": "2f95b6b9-9fcb-4a35-9050-72396fd84cc4"
      },
      "execution_count": 21,
      "outputs": [
        {
          "output_type": "stream",
          "name": "stdout",
          "text": [
            "id\n",
            "4039.0       17.0\n",
            "5031.0       31.5\n",
            "5033.0       16.0\n",
            "5183.0       54.0\n",
            "7042.0       18.0\n",
            "             ... \n",
            "6864033.0    28.0\n",
            "6864034.0    24.0\n",
            "6864035.0    19.0\n",
            "6867003.0    56.0\n",
            "6867004.0    53.0\n",
            "Name: age, Length: 1567, dtype: float32\n",
            "\n",
            "\n"
          ]
        },
        {
          "output_type": "execute_result",
          "data": {
            "text/plain": [
              "'The between group variance = 84.9774750875952'"
            ],
            "application/vnd.google.colaboratory.intrinsic+json": {
              "type": "string"
            }
          },
          "metadata": {},
          "execution_count": 21
        }
      ]
    },
    {
      "cell_type": "markdown",
      "source": [
        "## **Question 4**\n",
        "\"Do you find that within or between variance is larger? Why do you think this is?\""
      ],
      "metadata": {
        "id": "oQuWzi6cJwpX"
      }
    },
    {
      "cell_type": "markdown",
      "source": [
        "For the Income Dyanmics dataset analysis as was carried out in Question 3, I find that the between group variance is larger in this case relative to the within-group variance for the variable \"age\". This is more plausible because in this case, we have less of a temporal dimension as we had in the analysis as it pertained to questions 1 & 2 with WDI data. Whereas in this data on income_dynamics, time points weren't as structured and consistent and it is plausible that within some group id's there is only one or a couple of observations which doesn't give much breathing room over time for a very substantive change in within group variance. Therefore, it is plausible that the between group variance that measures the variance between our unique groups is larger in this case. Moreover, this is also suggestive to us that group level effects do matter. "
      ],
      "metadata": {
        "id": "HIgS4dpecsuk"
      }
    }
  ]
}